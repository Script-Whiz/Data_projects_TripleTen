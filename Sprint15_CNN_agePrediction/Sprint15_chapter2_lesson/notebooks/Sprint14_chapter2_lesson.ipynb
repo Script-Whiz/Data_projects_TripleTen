{
 "cells": [
  {
   "cell_type": "markdown",
   "id": "e2063e2a-cc78-40ea-a0c9-ccd1503a9980",
   "metadata": {},
   "source": [
    "# Sprint15, Chapter2 Lesson, by Deborah Thomas"
   ]
  },
  {
   "cell_type": "code",
   "execution_count": 73,
   "id": "a9ab289d-e80e-45a0-a7ff-c1e3a5710f9d",
   "metadata": {},
   "outputs": [],
   "source": [
    "from keras.layers import Dense\n",
    "from keras.models import Sequential\n",
    "import numpy as np\n",
    "from keras.optimizers import Adam"
   ]
  },
  {
   "cell_type": "code",
   "execution_count": 75,
   "id": "2458f4fb-c44f-4ae5-bb0c-ba50ffc9439d",
   "metadata": {},
   "outputs": [],
   "source": [
    "def load_train(path):\n",
    "    features_train = np.load(path + 'train_features.npy')\n",
    "    target_train = np.load(path + 'train_target.npy')\n",
    "    features_train = features_train.reshape(features_train.shape[0], 28 * 28) / 255.\n",
    "    return (features_train, target_train)"
   ]
  },
  {
   "cell_type": "code",
   "execution_count": 77,
   "id": "47dd2055-448e-4f0c-a6b3-50a447625cc4",
   "metadata": {},
   "outputs": [],
   "source": [
    "def load_test(path):\n",
    "    features_test = np.load(path + 'test_features.npy')\n",
    "    target_test = np.load(path + 'test_target.npy')\n",
    "    features_test = features_test.reshape(features_test.shape[0], 28 * 28) / 255.\n",
    "    return (features_test, target_test)"
   ]
  },
  {
   "cell_type": "code",
   "execution_count": 79,
   "id": "0309c011-653f-47d1-b1ca-0ed20e8b49e0",
   "metadata": {},
   "outputs": [],
   "source": [
    "def create_model(input_shape):\n",
    "    model = Sequential()\n",
    "    model.add(Dense(256, input_shape=input_shape, activation='relu'))\n",
    "    model.add(Dense(100, activation='relu'))\n",
    "    model.add(Dense(10, activation='softmax'))\n",
    "    optimizer = Adam(learning_rate=0.001)\n",
    "    model.compile(optimizer=optimizer, loss='sparse_categorical_crossentropy',\n",
    "                  metrics=['acc'])\n",
    "\n",
    "    return model"
   ]
  },
  {
   "cell_type": "code",
   "execution_count": 81,
   "id": "82247229-99ac-4ce4-bc07-2d40b19730a8",
   "metadata": {},
   "outputs": [],
   "source": [
    "def train_model(model, train_data, test_data, batch_size=32, epochs=10,\n",
    "                steps_per_epoch=None, validation_steps=None):\n",
    "    features_train, target_train = train_data\n",
    "    features_test, target_test = test_data\n",
    "    model.fit(features_train, target_train,\n",
    "              validation_data=(features_test, target_test),\n",
    "              batch_size=batch_size, epochs=epochs,\n",
    "              steps_per_epoch=steps_per_epoch,\n",
    "              validation_steps=validation_steps,\n",
    "              verbose=2, shuffle=True)\n",
    "\n",
    "    return model"
   ]
  },
  {
   "cell_type": "code",
   "execution_count": 83,
   "id": "954e4956-38d7-4fdb-86d4-024cf47ce5e1",
   "metadata": {},
   "outputs": [
    {
     "name": "stdout",
     "output_type": "stream",
     "text": [
      "Epoch 1/10\n",
      "1875/1875 - 3s - 2ms/step - acc: 0.8286 - loss: 0.4786 - val_acc: 0.8557 - val_loss: 0.4017\n",
      "Epoch 2/10\n",
      "1875/1875 - 3s - 1ms/step - acc: 0.8677 - loss: 0.3602 - val_acc: 0.8632 - val_loss: 0.3714\n",
      "Epoch 3/10\n",
      "1875/1875 - 3s - 1ms/step - acc: 0.8786 - loss: 0.3254 - val_acc: 0.8717 - val_loss: 0.3490\n",
      "Epoch 4/10\n",
      "1875/1875 - 3s - 1ms/step - acc: 0.8875 - loss: 0.3012 - val_acc: 0.8718 - val_loss: 0.3575\n",
      "Epoch 5/10\n",
      "1875/1875 - 3s - 1ms/step - acc: 0.8937 - loss: 0.2838 - val_acc: 0.8794 - val_loss: 0.3362\n",
      "Epoch 6/10\n",
      "1875/1875 - 3s - 1ms/step - acc: 0.8984 - loss: 0.2705 - val_acc: 0.8744 - val_loss: 0.3575\n",
      "Epoch 7/10\n",
      "1875/1875 - 3s - 1ms/step - acc: 0.9035 - loss: 0.2568 - val_acc: 0.8759 - val_loss: 0.3593\n",
      "Epoch 8/10\n",
      "1875/1875 - 3s - 1ms/step - acc: 0.9068 - loss: 0.2478 - val_acc: 0.8851 - val_loss: 0.3333\n",
      "Epoch 9/10\n",
      "1875/1875 - 3s - 1ms/step - acc: 0.9115 - loss: 0.2349 - val_acc: 0.8842 - val_loss: 0.3260\n",
      "Epoch 10/10\n",
      "1875/1875 - 3s - 1ms/step - acc: 0.9146 - loss: 0.2268 - val_acc: 0.8900 - val_loss: 0.3319\n",
      "313/313 - 0s - 433us/step - acc: 0.8900 - loss: 0.3319\n",
      "Model accuracy: 89.00%\n"
     ]
    }
   ],
   "source": [
    "if __name__ == \"__main__\":\n",
    "    train_data = load_train(\"../datasets/fashion_mnist/\")\n",
    "    test_data = load_test(\"../datasets/fashion_mnist/\")\n",
    "    model = create_model(train_data[0].shape[1:])\n",
    "    model = train_model(model, train_data, test_data)\n",
    "    loss, acc = model.evaluate(test_data[0], test_data[1], verbose=2)\n",
    "    print(\"Model accuracy: {:5.2f}%\".format(100 * acc))"
   ]
  },
  {
   "cell_type": "code",
   "execution_count": null,
   "id": "a4b62092-ad01-41d6-9d4c-01c32fd30903",
   "metadata": {},
   "outputs": [],
   "source": []
  }
 ],
 "metadata": {
  "kernelspec": {
   "display_name": "Python 3 (ipykernel)",
   "language": "python",
   "name": "python3"
  },
  "language_info": {
   "codemirror_mode": {
    "name": "ipython",
    "version": 3
   },
   "file_extension": ".py",
   "mimetype": "text/x-python",
   "name": "python",
   "nbconvert_exporter": "python",
   "pygments_lexer": "ipython3",
   "version": "3.11.7"
  }
 },
 "nbformat": 4,
 "nbformat_minor": 5
}
