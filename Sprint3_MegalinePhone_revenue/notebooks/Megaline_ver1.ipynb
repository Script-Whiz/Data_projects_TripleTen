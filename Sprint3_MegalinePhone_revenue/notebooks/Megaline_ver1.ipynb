{
 "cells": [
  {
   "cell_type": "markdown",
   "id": "731d2c71-e7e9-48ae-a33d-fae2716282a3",
   "metadata": {},
   "source": [
    "# Which Megaline plan is better?\n",
    "The commercial department, for the telecom operator, Megaline, wants to know which of the plans brings in more revenue, in order to adjust their advertising budget. The company offers its clients two prepaid plans:\n",
    "\n",
    "- Surf \n",
    "- Ultimate\n"
   ]
  },
  {
   "cell_type": "markdown",
   "id": "2eaa3922-adb1-449e-98f0-7efd55cd5666",
   "metadata": {},
   "source": [
    "## I will analyze the data, based on 500 Megaline clients, for the year of 2018, and seek to find:\n",
    "- which prepaid plan brings in more revenue\n",
    "- number of calls made\n",
    "- minutes used per month\n",
    "- number of text messages sent per month\n",
    "- volume of data per month\n",
    "- monthly revenue from each user\n",
    "\n",
    "### I also want to use hypthesis testing to find out:\n",
    "- how the average revenue from the two plans differ\n",
    "- how the revenue from users in these regions differ from other regions:\n",
    "  - New York\n",
    "  - New Jersey\n",
    "\n",
    "\n",
    "### I will also create visual graphs to plot the distribution of data."
   ]
  },
  {
   "cell_type": "code",
   "execution_count": null,
   "id": "17dc6deb-2ba7-4c8a-bc48-9e89f9fe9e24",
   "metadata": {},
   "outputs": [],
   "source": []
  },
  {
   "cell_type": "markdown",
   "id": "2ccede61-389f-4cac-9320-d99852be415e",
   "metadata": {},
   "source": [
    "<h2 style=\"color: red;\">Initialization.</h2>"
   ]
  },
  {
   "cell_type": "code",
   "execution_count": 3013,
   "id": "9c430166-3bd3-4f1f-ac52-9cefd73e7d55",
   "metadata": {},
   "outputs": [],
   "source": [
    "# Load in libraries\n",
    "import pandas as pd\n",
    "from IPython.display import HTML, display\n",
    "import numpy as np\n",
    "import calendar\n",
    "from matplotlib import pyplot as plt\n",
    "import seaborn as sns"
   ]
  },
  {
   "cell_type": "code",
   "execution_count": 3014,
   "id": "3c2bf20c-ccc7-4224-8574-a27993821f5c",
   "metadata": {},
   "outputs": [],
   "source": [
    "#Create a function to save time when displaying comments\n",
    "def show_html_output(text):\n",
    "    display(HTML(f\"<div style='color: hotpink;'><b>{text}</b></div>\"))"
   ]
  },
  {
   "cell_type": "code",
   "execution_count": 3015,
   "id": "946f926e-f279-404c-b3b5-e815197e8a5f",
   "metadata": {},
   "outputs": [
    {
     "data": {
      "text/html": [
       "<div style='color: hotpink;'><b>Load in the 5 data sets:</b></div>"
      ],
      "text/plain": [
       "<IPython.core.display.HTML object>"
      ]
     },
     "metadata": {},
     "output_type": "display_data"
    }
   ],
   "source": [
    "# Call the new HTML function :\n",
    "show_html_output(f\"Load in the 5 data sets:\")"
   ]
  },
  {
   "cell_type": "code",
   "execution_count": 3016,
   "id": "83e71d63-73db-40d9-a130-a33fb82a7bc9",
   "metadata": {},
   "outputs": [
    {
     "data": {
      "text/html": [
       "<div>\n",
       "<style scoped>\n",
       "    .dataframe tbody tr th:only-of-type {\n",
       "        vertical-align: middle;\n",
       "    }\n",
       "\n",
       "    .dataframe tbody tr th {\n",
       "        vertical-align: top;\n",
       "    }\n",
       "\n",
       "    .dataframe thead th {\n",
       "        text-align: right;\n",
       "    }\n",
       "</style>\n",
       "<table border=\"1\" class=\"dataframe\">\n",
       "  <thead>\n",
       "    <tr style=\"text-align: right;\">\n",
       "      <th></th>\n",
       "      <th>messages_included</th>\n",
       "      <th>mb_per_month_included</th>\n",
       "      <th>minutes_included</th>\n",
       "      <th>usd_monthly_pay</th>\n",
       "      <th>usd_per_gb</th>\n",
       "      <th>usd_per_message</th>\n",
       "      <th>usd_per_minute</th>\n",
       "      <th>plan_name</th>\n",
       "    </tr>\n",
       "  </thead>\n",
       "  <tbody>\n",
       "    <tr>\n",
       "      <th>0</th>\n",
       "      <td>50</td>\n",
       "      <td>15360</td>\n",
       "      <td>500</td>\n",
       "      <td>20</td>\n",
       "      <td>10</td>\n",
       "      <td>0.03</td>\n",
       "      <td>0.03</td>\n",
       "      <td>surf</td>\n",
       "    </tr>\n",
       "    <tr>\n",
       "      <th>1</th>\n",
       "      <td>1000</td>\n",
       "      <td>30720</td>\n",
       "      <td>3000</td>\n",
       "      <td>70</td>\n",
       "      <td>7</td>\n",
       "      <td>0.01</td>\n",
       "      <td>0.01</td>\n",
       "      <td>ultimate</td>\n",
       "    </tr>\n",
       "  </tbody>\n",
       "</table>\n",
       "</div>"
      ],
      "text/plain": [
       "   messages_included  mb_per_month_included  minutes_included  \\\n",
       "0                 50                  15360               500   \n",
       "1               1000                  30720              3000   \n",
       "\n",
       "   usd_monthly_pay  usd_per_gb  usd_per_message  usd_per_minute plan_name  \n",
       "0               20          10             0.03            0.03      surf  \n",
       "1               70           7             0.01            0.01  ultimate  "
      ]
     },
     "metadata": {},
     "output_type": "display_data"
    }
   ],
   "source": [
    "# Load in Plans data set\n",
    "plans = pd.read_csv('megaline_plans.csv')\n",
    "display(plans.head(3))"
   ]
  },
  {
   "cell_type": "code",
   "execution_count": 3017,
   "id": "9d49e383-f63f-4a72-858f-a1151978589b",
   "metadata": {},
   "outputs": [
    {
     "data": {
      "text/html": [
       "<div>\n",
       "<style scoped>\n",
       "    .dataframe tbody tr th:only-of-type {\n",
       "        vertical-align: middle;\n",
       "    }\n",
       "\n",
       "    .dataframe tbody tr th {\n",
       "        vertical-align: top;\n",
       "    }\n",
       "\n",
       "    .dataframe thead th {\n",
       "        text-align: right;\n",
       "    }\n",
       "</style>\n",
       "<table border=\"1\" class=\"dataframe\">\n",
       "  <thead>\n",
       "    <tr style=\"text-align: right;\">\n",
       "      <th></th>\n",
       "      <th>user_id</th>\n",
       "      <th>first_name</th>\n",
       "      <th>last_name</th>\n",
       "      <th>age</th>\n",
       "      <th>city</th>\n",
       "      <th>reg_date</th>\n",
       "      <th>plan</th>\n",
       "      <th>churn_date</th>\n",
       "    </tr>\n",
       "  </thead>\n",
       "  <tbody>\n",
       "    <tr>\n",
       "      <th>0</th>\n",
       "      <td>1000</td>\n",
       "      <td>Anamaria</td>\n",
       "      <td>Bauer</td>\n",
       "      <td>45</td>\n",
       "      <td>Atlanta-Sandy Springs-Roswell, GA MSA</td>\n",
       "      <td>2018-12-24</td>\n",
       "      <td>ultimate</td>\n",
       "      <td>NaN</td>\n",
       "    </tr>\n",
       "    <tr>\n",
       "      <th>1</th>\n",
       "      <td>1001</td>\n",
       "      <td>Mickey</td>\n",
       "      <td>Wilkerson</td>\n",
       "      <td>28</td>\n",
       "      <td>Seattle-Tacoma-Bellevue, WA MSA</td>\n",
       "      <td>2018-08-13</td>\n",
       "      <td>surf</td>\n",
       "      <td>NaN</td>\n",
       "    </tr>\n",
       "    <tr>\n",
       "      <th>2</th>\n",
       "      <td>1002</td>\n",
       "      <td>Carlee</td>\n",
       "      <td>Hoffman</td>\n",
       "      <td>36</td>\n",
       "      <td>Las Vegas-Henderson-Paradise, NV MSA</td>\n",
       "      <td>2018-10-21</td>\n",
       "      <td>surf</td>\n",
       "      <td>NaN</td>\n",
       "    </tr>\n",
       "  </tbody>\n",
       "</table>\n",
       "</div>"
      ],
      "text/plain": [
       "   user_id first_name  last_name  age                                   city  \\\n",
       "0     1000   Anamaria      Bauer   45  Atlanta-Sandy Springs-Roswell, GA MSA   \n",
       "1     1001     Mickey  Wilkerson   28        Seattle-Tacoma-Bellevue, WA MSA   \n",
       "2     1002     Carlee    Hoffman   36   Las Vegas-Henderson-Paradise, NV MSA   \n",
       "\n",
       "     reg_date      plan churn_date  \n",
       "0  2018-12-24  ultimate        NaN  \n",
       "1  2018-08-13      surf        NaN  \n",
       "2  2018-10-21      surf        NaN  "
      ]
     },
     "metadata": {},
     "output_type": "display_data"
    }
   ],
   "source": [
    "# Load in Users data set\n",
    "users = pd.read_csv('megaline_users.csv')\n",
    "display(users.head(3))"
   ]
  },
  {
   "cell_type": "code",
   "execution_count": 3018,
   "id": "90a36493-17b7-48da-8e03-b4e679e62c93",
   "metadata": {},
   "outputs": [
    {
     "data": {
      "text/html": [
       "<div style='color: hotpink;'><b>The city column in the users dataframe, is a mess. This will need to be cleaned up.</b></div>"
      ],
      "text/plain": [
       "<IPython.core.display.HTML object>"
      ]
     },
     "metadata": {},
     "output_type": "display_data"
    }
   ],
   "source": [
    "show_html_output(f\"The city column in the users dataframe, is a mess. This will need to be cleaned up.\")"
   ]
  },
  {
   "cell_type": "code",
   "execution_count": 3019,
   "id": "1fe6d3e2-88ad-4c37-96d3-f76ed6401b26",
   "metadata": {},
   "outputs": [
    {
     "data": {
      "text/html": [
       "<div>\n",
       "<style scoped>\n",
       "    .dataframe tbody tr th:only-of-type {\n",
       "        vertical-align: middle;\n",
       "    }\n",
       "\n",
       "    .dataframe tbody tr th {\n",
       "        vertical-align: top;\n",
       "    }\n",
       "\n",
       "    .dataframe thead th {\n",
       "        text-align: right;\n",
       "    }\n",
       "</style>\n",
       "<table border=\"1\" class=\"dataframe\">\n",
       "  <thead>\n",
       "    <tr style=\"text-align: right;\">\n",
       "      <th></th>\n",
       "      <th>id</th>\n",
       "      <th>user_id</th>\n",
       "      <th>call_date</th>\n",
       "      <th>duration</th>\n",
       "    </tr>\n",
       "  </thead>\n",
       "  <tbody>\n",
       "    <tr>\n",
       "      <th>0</th>\n",
       "      <td>1000_93</td>\n",
       "      <td>1000</td>\n",
       "      <td>2018-12-27</td>\n",
       "      <td>8.52</td>\n",
       "    </tr>\n",
       "    <tr>\n",
       "      <th>1</th>\n",
       "      <td>1000_145</td>\n",
       "      <td>1000</td>\n",
       "      <td>2018-12-27</td>\n",
       "      <td>13.66</td>\n",
       "    </tr>\n",
       "    <tr>\n",
       "      <th>2</th>\n",
       "      <td>1000_247</td>\n",
       "      <td>1000</td>\n",
       "      <td>2018-12-27</td>\n",
       "      <td>14.48</td>\n",
       "    </tr>\n",
       "  </tbody>\n",
       "</table>\n",
       "</div>"
      ],
      "text/plain": [
       "         id  user_id   call_date  duration\n",
       "0   1000_93     1000  2018-12-27      8.52\n",
       "1  1000_145     1000  2018-12-27     13.66\n",
       "2  1000_247     1000  2018-12-27     14.48"
      ]
     },
     "metadata": {},
     "output_type": "display_data"
    }
   ],
   "source": [
    "# Load in Calls data set\n",
    "calls = pd.read_csv('megaline_calls.csv')\n",
    "display(calls.head(3))"
   ]
  },
  {
   "cell_type": "code",
   "execution_count": 3020,
   "id": "e9df8cf4-bb76-46af-90a6-0ac58652555b",
   "metadata": {},
   "outputs": [
    {
     "data": {
      "text/html": [
       "<div>\n",
       "<style scoped>\n",
       "    .dataframe tbody tr th:only-of-type {\n",
       "        vertical-align: middle;\n",
       "    }\n",
       "\n",
       "    .dataframe tbody tr th {\n",
       "        vertical-align: top;\n",
       "    }\n",
       "\n",
       "    .dataframe thead th {\n",
       "        text-align: right;\n",
       "    }\n",
       "</style>\n",
       "<table border=\"1\" class=\"dataframe\">\n",
       "  <thead>\n",
       "    <tr style=\"text-align: right;\">\n",
       "      <th></th>\n",
       "      <th>id</th>\n",
       "      <th>user_id</th>\n",
       "      <th>message_date</th>\n",
       "    </tr>\n",
       "  </thead>\n",
       "  <tbody>\n",
       "    <tr>\n",
       "      <th>0</th>\n",
       "      <td>1000_125</td>\n",
       "      <td>1000</td>\n",
       "      <td>2018-12-27</td>\n",
       "    </tr>\n",
       "    <tr>\n",
       "      <th>1</th>\n",
       "      <td>1000_160</td>\n",
       "      <td>1000</td>\n",
       "      <td>2018-12-31</td>\n",
       "    </tr>\n",
       "    <tr>\n",
       "      <th>2</th>\n",
       "      <td>1000_223</td>\n",
       "      <td>1000</td>\n",
       "      <td>2018-12-31</td>\n",
       "    </tr>\n",
       "  </tbody>\n",
       "</table>\n",
       "</div>"
      ],
      "text/plain": [
       "         id  user_id message_date\n",
       "0  1000_125     1000   2018-12-27\n",
       "1  1000_160     1000   2018-12-31\n",
       "2  1000_223     1000   2018-12-31"
      ]
     },
     "metadata": {},
     "output_type": "display_data"
    }
   ],
   "source": [
    "# Load in Messages data set\n",
    "messages = pd.read_csv('megaline_messages.csv')\n",
    "display(messages.head(3))"
   ]
  },
  {
   "cell_type": "code",
   "execution_count": 3021,
   "id": "07f88f12-1222-4ee6-9298-8eb9b40dbbe8",
   "metadata": {},
   "outputs": [
    {
     "data": {
      "text/html": [
       "<div>\n",
       "<style scoped>\n",
       "    .dataframe tbody tr th:only-of-type {\n",
       "        vertical-align: middle;\n",
       "    }\n",
       "\n",
       "    .dataframe tbody tr th {\n",
       "        vertical-align: top;\n",
       "    }\n",
       "\n",
       "    .dataframe thead th {\n",
       "        text-align: right;\n",
       "    }\n",
       "</style>\n",
       "<table border=\"1\" class=\"dataframe\">\n",
       "  <thead>\n",
       "    <tr style=\"text-align: right;\">\n",
       "      <th></th>\n",
       "      <th>id</th>\n",
       "      <th>user_id</th>\n",
       "      <th>session_date</th>\n",
       "      <th>mb_used</th>\n",
       "    </tr>\n",
       "  </thead>\n",
       "  <tbody>\n",
       "    <tr>\n",
       "      <th>0</th>\n",
       "      <td>1000_13</td>\n",
       "      <td>1000</td>\n",
       "      <td>2018-12-29</td>\n",
       "      <td>89.86</td>\n",
       "    </tr>\n",
       "    <tr>\n",
       "      <th>1</th>\n",
       "      <td>1000_204</td>\n",
       "      <td>1000</td>\n",
       "      <td>2018-12-31</td>\n",
       "      <td>0.00</td>\n",
       "    </tr>\n",
       "    <tr>\n",
       "      <th>2</th>\n",
       "      <td>1000_379</td>\n",
       "      <td>1000</td>\n",
       "      <td>2018-12-28</td>\n",
       "      <td>660.40</td>\n",
       "    </tr>\n",
       "  </tbody>\n",
       "</table>\n",
       "</div>"
      ],
      "text/plain": [
       "         id  user_id session_date  mb_used\n",
       "0   1000_13     1000   2018-12-29    89.86\n",
       "1  1000_204     1000   2018-12-31     0.00\n",
       "2  1000_379     1000   2018-12-28   660.40"
      ]
     },
     "metadata": {},
     "output_type": "display_data"
    }
   ],
   "source": [
    "# Load in Internet data set\n",
    "internet = pd.read_csv('megaline_internet.csv')\n",
    "display(internet.head(3))"
   ]
  },
  {
   "cell_type": "markdown",
   "id": "9aa3b123-7ef5-4fdb-8fac-43883db1fac0",
   "metadata": {},
   "source": [
    "<div class=\"alert alert-info\"><font color='hotpink'>\n",
    "<b>Reading in the data sets:</b>\n",
    "<br>\n",
    "- I read in each data set.\n",
    "<br>\n",
    "- I displayed each dataframe to make sure that the files were not separated by semicolons (;). They were not, so I did not have to use sep=\";\"\n",
    "<br>\n",
    "</div></font color>"
   ]
  },
  {
   "cell_type": "code",
   "execution_count": null,
   "id": "3be715d5-b7ba-4680-b76a-f5c2ec6d9b58",
   "metadata": {},
   "outputs": [],
   "source": []
  },
  {
   "cell_type": "markdown",
   "id": "e2c30570-d766-410c-b7d0-333a1aca8bcd",
   "metadata": {},
   "source": [
    "<h2 style=\"color: red;\">Prepare the data</h2>"
   ]
  },
  {
   "cell_type": "markdown",
   "id": "c81f4c4a-7052-4d54-afdb-41431669ced5",
   "metadata": {},
   "source": [
    "## <span style=\"color: hotpink;\">Plans dataframe</span>"
   ]
  },
  {
   "cell_type": "markdown",
   "id": "392fd5da-6ea9-4045-8d28-17f5dbcbaa18",
   "metadata": {},
   "source": [
    "### Inspect the data"
   ]
  },
  {
   "cell_type": "code",
   "execution_count": 3026,
   "id": "fad0aebe-2c73-49da-8552-f039223c541b",
   "metadata": {},
   "outputs": [
    {
     "data": {
      "text/html": [
       "<div>\n",
       "<style scoped>\n",
       "    .dataframe tbody tr th:only-of-type {\n",
       "        vertical-align: middle;\n",
       "    }\n",
       "\n",
       "    .dataframe tbody tr th {\n",
       "        vertical-align: top;\n",
       "    }\n",
       "\n",
       "    .dataframe thead th {\n",
       "        text-align: right;\n",
       "    }\n",
       "</style>\n",
       "<table border=\"1\" class=\"dataframe\">\n",
       "  <thead>\n",
       "    <tr style=\"text-align: right;\">\n",
       "      <th></th>\n",
       "      <th>messages_included</th>\n",
       "      <th>mb_per_month_included</th>\n",
       "      <th>minutes_included</th>\n",
       "      <th>usd_monthly_pay</th>\n",
       "      <th>usd_per_gb</th>\n",
       "      <th>usd_per_message</th>\n",
       "      <th>usd_per_minute</th>\n",
       "      <th>plan_name</th>\n",
       "    </tr>\n",
       "  </thead>\n",
       "  <tbody>\n",
       "    <tr>\n",
       "      <th>0</th>\n",
       "      <td>50</td>\n",
       "      <td>15360</td>\n",
       "      <td>500</td>\n",
       "      <td>20</td>\n",
       "      <td>10</td>\n",
       "      <td>0.03</td>\n",
       "      <td>0.03</td>\n",
       "      <td>surf</td>\n",
       "    </tr>\n",
       "    <tr>\n",
       "      <th>1</th>\n",
       "      <td>1000</td>\n",
       "      <td>30720</td>\n",
       "      <td>3000</td>\n",
       "      <td>70</td>\n",
       "      <td>7</td>\n",
       "      <td>0.01</td>\n",
       "      <td>0.01</td>\n",
       "      <td>ultimate</td>\n",
       "    </tr>\n",
       "  </tbody>\n",
       "</table>\n",
       "</div>"
      ],
      "text/plain": [
       "   messages_included  mb_per_month_included  minutes_included  \\\n",
       "0                 50                  15360               500   \n",
       "1               1000                  30720              3000   \n",
       "\n",
       "   usd_monthly_pay  usd_per_gb  usd_per_message  usd_per_minute plan_name  \n",
       "0               20          10             0.03            0.03      surf  \n",
       "1               70           7             0.01            0.01  ultimate  "
      ]
     },
     "metadata": {},
     "output_type": "display_data"
    }
   ],
   "source": [
    "display(plans.head(5))"
   ]
  },
  {
   "cell_type": "code",
   "execution_count": 3027,
   "id": "e5a4a357-add0-417d-95c9-b4bc9d29ea0c",
   "metadata": {},
   "outputs": [
    {
     "data": {
      "text/plain": [
       "(2, 8)"
      ]
     },
     "execution_count": 3027,
     "metadata": {},
     "output_type": "execute_result"
    }
   ],
   "source": [
    "plans.shape"
   ]
  },
  {
   "cell_type": "code",
   "execution_count": 3028,
   "id": "df07f3f5-3d59-4ae3-bca7-3c3e4432aded",
   "metadata": {},
   "outputs": [
    {
     "data": {
      "text/html": [
       "<div style='color: hotpink;'><b>There are only 2 rows. This dataframe is a description of the two different plans. </b></div>"
      ],
      "text/plain": [
       "<IPython.core.display.HTML object>"
      ]
     },
     "metadata": {},
     "output_type": "display_data"
    }
   ],
   "source": [
    "show_html_output(f\"There are only 2 rows. This dataframe is a description of the two different plans. \")"
   ]
  },
  {
   "cell_type": "code",
   "execution_count": 3029,
   "id": "aed722eb-081b-4d3c-9ba0-be536d20c45d",
   "metadata": {},
   "outputs": [
    {
     "data": {
      "text/plain": [
       "Index(['messages_included', 'mb_per_month_included', 'minutes_included',\n",
       "       'usd_monthly_pay', 'usd_per_gb', 'usd_per_message', 'usd_per_minute',\n",
       "       'plan_name'],\n",
       "      dtype='object')"
      ]
     },
     "execution_count": 3029,
     "metadata": {},
     "output_type": "execute_result"
    }
   ],
   "source": [
    "plans.columns"
   ]
  },
  {
   "cell_type": "code",
   "execution_count": 3030,
   "id": "f1a45640-bc06-4396-b037-578e422744dc",
   "metadata": {},
   "outputs": [
    {
     "name": "stdout",
     "output_type": "stream",
     "text": [
      "<class 'pandas.core.frame.DataFrame'>\n",
      "RangeIndex: 2 entries, 0 to 1\n",
      "Data columns (total 8 columns):\n",
      " #   Column                 Non-Null Count  Dtype  \n",
      "---  ------                 --------------  -----  \n",
      " 0   messages_included      2 non-null      int64  \n",
      " 1   mb_per_month_included  2 non-null      int64  \n",
      " 2   minutes_included       2 non-null      int64  \n",
      " 3   usd_monthly_pay        2 non-null      int64  \n",
      " 4   usd_per_gb             2 non-null      int64  \n",
      " 5   usd_per_message        2 non-null      float64\n",
      " 6   usd_per_minute         2 non-null      float64\n",
      " 7   plan_name              2 non-null      object \n",
      "dtypes: float64(2), int64(5), object(1)\n",
      "memory usage: 260.0+ bytes\n"
     ]
    }
   ],
   "source": [
    "plans.info()"
   ]
  },
  {
   "cell_type": "code",
   "execution_count": 3031,
   "id": "9d12bb3d-6396-422c-a5c5-f70ecdd552bf",
   "metadata": {},
   "outputs": [],
   "source": [
    "# The datatypes look good. There is no missing data."
   ]
  },
  {
   "cell_type": "code",
   "execution_count": 3032,
   "id": "ed89da85-c6dd-4ab0-b6c8-81e30cdd9104",
   "metadata": {},
   "outputs": [],
   "source": [
    "# some of the column names to be shorter names, so that the dataframe is not so wide."
   ]
  },
  {
   "cell_type": "code",
   "execution_count": 3033,
   "id": "1a752661-095c-4655-be02-0ece64276050",
   "metadata": {},
   "outputs": [],
   "source": [
    "#plan_name needs to be renamed to match users dataframe"
   ]
  },
  {
   "cell_type": "code",
   "execution_count": 3034,
   "id": "777fa58a-1bff-48e1-80e5-ffd544cefb38",
   "metadata": {},
   "outputs": [],
   "source": [
    "# Need to change mb_per_month_included to gb_per_month_included. Then change datatype to float."
   ]
  },
  {
   "cell_type": "markdown",
   "id": "b09b851b-07ee-4662-8b40-9c3f4208f732",
   "metadata": {},
   "source": [
    "### Clean the Plans dataframe"
   ]
  },
  {
   "cell_type": "code",
   "execution_count": 3036,
   "id": "d84d0c34-47ff-45e0-a59f-545b92cea597",
   "metadata": {},
   "outputs": [
    {
     "name": "stdout",
     "output_type": "stream",
     "text": [
      "<class 'pandas.core.frame.DataFrame'>\n",
      "RangeIndex: 2 entries, 0 to 1\n",
      "Data columns (total 8 columns):\n",
      " #   Column                 Non-Null Count  Dtype  \n",
      "---  ------                 --------------  -----  \n",
      " 0   messages_included      2 non-null      int64  \n",
      " 1   mb_per_month_included  2 non-null      float64\n",
      " 2   minutes_included       2 non-null      int64  \n",
      " 3   usd_monthly_pay        2 non-null      int64  \n",
      " 4   usd_per_gb             2 non-null      int64  \n",
      " 5   usd_per_message        2 non-null      float64\n",
      " 6   usd_per_minute         2 non-null      float64\n",
      " 7   plan_name              2 non-null      object \n",
      "dtypes: float64(3), int64(4), object(1)\n",
      "memory usage: 260.0+ bytes\n"
     ]
    }
   ],
   "source": [
    "plans['mb_per_month_included'] = plans['mb_per_month_included'].astype(float)\n",
    "plans.info()"
   ]
  },
  {
   "cell_type": "code",
   "execution_count": 3037,
   "id": "0946db39-9aed-425b-886b-27c7c8c0ca23",
   "metadata": {},
   "outputs": [
    {
     "data": {
      "text/html": [
       "<div style='color: hotpink;'><b>There are no missing rows in the Plans dataframe.</b></div>"
      ],
      "text/plain": [
       "<IPython.core.display.HTML object>"
      ]
     },
     "metadata": {},
     "output_type": "display_data"
    }
   ],
   "source": [
    "show_html_output(f\"There are no missing rows in the Plans dataframe.\")"
   ]
  },
  {
   "cell_type": "code",
   "execution_count": 3038,
   "id": "83e2b61f-1162-4b4b-9e9b-020c4329dccb",
   "metadata": {},
   "outputs": [
    {
     "data": {
      "text/html": [
       "<div style='color: hotpink;'><b>Convert megabytes to gigabytes.</b></div>"
      ],
      "text/plain": [
       "<IPython.core.display.HTML object>"
      ]
     },
     "metadata": {},
     "output_type": "display_data"
    }
   ],
   "source": [
    "show_html_output(f\"Convert megabytes to gigabytes.\")"
   ]
  },
  {
   "cell_type": "code",
   "execution_count": 3039,
   "id": "42f53451-37d6-4631-8569-4349b43bfbce",
   "metadata": {},
   "outputs": [],
   "source": [
    "plans['mb_per_month_included'] = plans['mb_per_month_included']  * .001"
   ]
  },
  {
   "cell_type": "code",
   "execution_count": 3040,
   "id": "d0f8f73a-d4da-4812-a88f-d58a6bd62771",
   "metadata": {},
   "outputs": [
    {
     "data": {
      "text/html": [
       "<div>\n",
       "<style scoped>\n",
       "    .dataframe tbody tr th:only-of-type {\n",
       "        vertical-align: middle;\n",
       "    }\n",
       "\n",
       "    .dataframe tbody tr th {\n",
       "        vertical-align: top;\n",
       "    }\n",
       "\n",
       "    .dataframe thead th {\n",
       "        text-align: right;\n",
       "    }\n",
       "</style>\n",
       "<table border=\"1\" class=\"dataframe\">\n",
       "  <thead>\n",
       "    <tr style=\"text-align: right;\">\n",
       "      <th></th>\n",
       "      <th>messages_included</th>\n",
       "      <th>mb_per_month_included</th>\n",
       "      <th>minutes_included</th>\n",
       "      <th>usd_monthly_pay</th>\n",
       "      <th>usd_per_gb</th>\n",
       "      <th>usd_per_message</th>\n",
       "      <th>usd_per_minute</th>\n",
       "      <th>plan_name</th>\n",
       "    </tr>\n",
       "  </thead>\n",
       "  <tbody>\n",
       "    <tr>\n",
       "      <th>0</th>\n",
       "      <td>50</td>\n",
       "      <td>15.36</td>\n",
       "      <td>500</td>\n",
       "      <td>20</td>\n",
       "      <td>10</td>\n",
       "      <td>0.03</td>\n",
       "      <td>0.03</td>\n",
       "      <td>surf</td>\n",
       "    </tr>\n",
       "    <tr>\n",
       "      <th>1</th>\n",
       "      <td>1000</td>\n",
       "      <td>30.72</td>\n",
       "      <td>3000</td>\n",
       "      <td>70</td>\n",
       "      <td>7</td>\n",
       "      <td>0.01</td>\n",
       "      <td>0.01</td>\n",
       "      <td>ultimate</td>\n",
       "    </tr>\n",
       "  </tbody>\n",
       "</table>\n",
       "</div>"
      ],
      "text/plain": [
       "   messages_included  mb_per_month_included  minutes_included  \\\n",
       "0                 50                  15.36               500   \n",
       "1               1000                  30.72              3000   \n",
       "\n",
       "   usd_monthly_pay  usd_per_gb  usd_per_message  usd_per_minute plan_name  \n",
       "0               20          10             0.03            0.03      surf  \n",
       "1               70           7             0.01            0.01  ultimate  "
      ]
     },
     "metadata": {},
     "output_type": "display_data"
    }
   ],
   "source": [
    "display(plans)"
   ]
  },
  {
   "cell_type": "code",
   "execution_count": 3041,
   "id": "a114e05c-398e-4a7b-a595-29b0fba381eb",
   "metadata": {},
   "outputs": [],
   "source": [
    "# Rename mb_per_month_included\n",
    "plans = plans.rename(columns={'mb_per_month_included': 'gb_included'})"
   ]
  },
  {
   "cell_type": "code",
   "execution_count": 3042,
   "id": "86b4be55-f912-4d7f-a4a4-b26f74cce81b",
   "metadata": {},
   "outputs": [],
   "source": [
    "# Rename minutes_included\n",
    "plans = plans.rename(columns={'minutes_included': 'min_included'})"
   ]
  },
  {
   "cell_type": "code",
   "execution_count": 3043,
   "id": "33dc6a0f-2e03-4ec3-a69c-1ac096ead173",
   "metadata": {},
   "outputs": [],
   "source": [
    "# Rename the column 'messages_included'\n",
    "plans = plans.rename(columns={'messages_included': 'msg_included'})"
   ]
  },
  {
   "cell_type": "code",
   "execution_count": 3044,
   "id": "86d3688d-0361-4dc3-8c89-f5361eb242bd",
   "metadata": {},
   "outputs": [],
   "source": [
    "# Rename the usd_monthly_pay column\n",
    "plans = plans.rename(columns={'usd_monthly_pay': 'monthly_fee'})"
   ]
  },
  {
   "cell_type": "code",
   "execution_count": 3045,
   "id": "a2f0560f-c63b-4ea3-a761-ea817b5618df",
   "metadata": {},
   "outputs": [],
   "source": [
    "# Rename the usd_per_gb\n",
    "plans = plans.rename(columns={'usd_per_gb': 'fee_per_gb'})"
   ]
  },
  {
   "cell_type": "code",
   "execution_count": 3046,
   "id": "cf7eb36f-68a3-49d0-8ae4-d7bdb67e575f",
   "metadata": {},
   "outputs": [],
   "source": [
    "# Rename the usd_per_message\n",
    "plans = plans.rename(columns={'usd_per_message': 'fee_per_msg'})"
   ]
  },
  {
   "cell_type": "code",
   "execution_count": 3047,
   "id": "bdda6ab2-1ab7-4d2f-b681-8bd632551804",
   "metadata": {},
   "outputs": [],
   "source": [
    "# Rename the usd_per_minute\n",
    "plans = plans.rename(columns={'usd_per_minute': 'fee_per_min'})"
   ]
  },
  {
   "cell_type": "code",
   "execution_count": 3048,
   "id": "c940838d-fb7c-44a7-93ce-0e7cb1b8fa4e",
   "metadata": {},
   "outputs": [],
   "source": [
    "# Rename plan_name column\n",
    "plans = plans.rename(columns={'plan_name': 'plan'})"
   ]
  },
  {
   "cell_type": "code",
   "execution_count": 3049,
   "id": "f9322310-b534-45cf-99df-a51684a7b7a1",
   "metadata": {},
   "outputs": [
    {
     "data": {
      "text/html": [
       "<div>\n",
       "<style scoped>\n",
       "    .dataframe tbody tr th:only-of-type {\n",
       "        vertical-align: middle;\n",
       "    }\n",
       "\n",
       "    .dataframe tbody tr th {\n",
       "        vertical-align: top;\n",
       "    }\n",
       "\n",
       "    .dataframe thead th {\n",
       "        text-align: right;\n",
       "    }\n",
       "</style>\n",
       "<table border=\"1\" class=\"dataframe\">\n",
       "  <thead>\n",
       "    <tr style=\"text-align: right;\">\n",
       "      <th></th>\n",
       "      <th>msg_included</th>\n",
       "      <th>gb_included</th>\n",
       "      <th>min_included</th>\n",
       "      <th>monthly_fee</th>\n",
       "      <th>fee_per_gb</th>\n",
       "      <th>fee_per_msg</th>\n",
       "      <th>fee_per_min</th>\n",
       "      <th>plan</th>\n",
       "    </tr>\n",
       "  </thead>\n",
       "  <tbody>\n",
       "    <tr>\n",
       "      <th>0</th>\n",
       "      <td>50</td>\n",
       "      <td>15.36</td>\n",
       "      <td>500</td>\n",
       "      <td>20</td>\n",
       "      <td>10</td>\n",
       "      <td>0.03</td>\n",
       "      <td>0.03</td>\n",
       "      <td>surf</td>\n",
       "    </tr>\n",
       "    <tr>\n",
       "      <th>1</th>\n",
       "      <td>1000</td>\n",
       "      <td>30.72</td>\n",
       "      <td>3000</td>\n",
       "      <td>70</td>\n",
       "      <td>7</td>\n",
       "      <td>0.01</td>\n",
       "      <td>0.01</td>\n",
       "      <td>ultimate</td>\n",
       "    </tr>\n",
       "  </tbody>\n",
       "</table>\n",
       "</div>"
      ],
      "text/plain": [
       "   msg_included  gb_included  min_included  monthly_fee  fee_per_gb  \\\n",
       "0            50        15.36           500           20          10   \n",
       "1          1000        30.72          3000           70           7   \n",
       "\n",
       "   fee_per_msg  fee_per_min      plan  \n",
       "0         0.03         0.03      surf  \n",
       "1         0.01         0.01  ultimate  "
      ]
     },
     "metadata": {},
     "output_type": "display_data"
    }
   ],
   "source": [
    "display(plans)"
   ]
  },
  {
   "cell_type": "code",
   "execution_count": 3050,
   "id": "9231982f-2569-42ba-9ec0-835ea54042b2",
   "metadata": {},
   "outputs": [],
   "source": [
    "# I will round down the gb_included column"
   ]
  },
  {
   "cell_type": "code",
   "execution_count": 3051,
   "id": "ccda7651-1ed5-4d2f-9523-a1235c385fee",
   "metadata": {},
   "outputs": [
    {
     "data": {
      "text/html": [
       "<div>\n",
       "<style scoped>\n",
       "    .dataframe tbody tr th:only-of-type {\n",
       "        vertical-align: middle;\n",
       "    }\n",
       "\n",
       "    .dataframe tbody tr th {\n",
       "        vertical-align: top;\n",
       "    }\n",
       "\n",
       "    .dataframe thead th {\n",
       "        text-align: right;\n",
       "    }\n",
       "</style>\n",
       "<table border=\"1\" class=\"dataframe\">\n",
       "  <thead>\n",
       "    <tr style=\"text-align: right;\">\n",
       "      <th></th>\n",
       "      <th>msg_included</th>\n",
       "      <th>gb_included</th>\n",
       "      <th>min_included</th>\n",
       "      <th>monthly_fee</th>\n",
       "      <th>fee_per_gb</th>\n",
       "      <th>fee_per_msg</th>\n",
       "      <th>fee_per_min</th>\n",
       "      <th>plan</th>\n",
       "    </tr>\n",
       "  </thead>\n",
       "  <tbody>\n",
       "    <tr>\n",
       "      <th>0</th>\n",
       "      <td>50</td>\n",
       "      <td>15.0</td>\n",
       "      <td>500</td>\n",
       "      <td>20</td>\n",
       "      <td>10</td>\n",
       "      <td>0.03</td>\n",
       "      <td>0.03</td>\n",
       "      <td>surf</td>\n",
       "    </tr>\n",
       "    <tr>\n",
       "      <th>1</th>\n",
       "      <td>1000</td>\n",
       "      <td>30.0</td>\n",
       "      <td>3000</td>\n",
       "      <td>70</td>\n",
       "      <td>7</td>\n",
       "      <td>0.01</td>\n",
       "      <td>0.01</td>\n",
       "      <td>ultimate</td>\n",
       "    </tr>\n",
       "  </tbody>\n",
       "</table>\n",
       "</div>"
      ],
      "text/plain": [
       "   msg_included  gb_included  min_included  monthly_fee  fee_per_gb  \\\n",
       "0            50         15.0           500           20          10   \n",
       "1          1000         30.0          3000           70           7   \n",
       "\n",
       "   fee_per_msg  fee_per_min      plan  \n",
       "0         0.03         0.03      surf  \n",
       "1         0.01         0.01  ultimate  "
      ]
     },
     "metadata": {},
     "output_type": "display_data"
    }
   ],
   "source": [
    "# Round down\n",
    "plans['gb_included'] = np.floor(plans['gb_included'])\n",
    "display(plans)"
   ]
  },
  {
   "cell_type": "code",
   "execution_count": 3052,
   "id": "2abda076-921a-4eb0-b775-9122b189fbf5",
   "metadata": {},
   "outputs": [],
   "source": [
    "# change gb_included datatype"
   ]
  },
  {
   "cell_type": "code",
   "execution_count": 3053,
   "id": "8a57881f-47b5-4695-a215-23b9fa722971",
   "metadata": {},
   "outputs": [
    {
     "name": "stdout",
     "output_type": "stream",
     "text": [
      "<class 'pandas.core.frame.DataFrame'>\n",
      "RangeIndex: 2 entries, 0 to 1\n",
      "Data columns (total 8 columns):\n",
      " #   Column        Non-Null Count  Dtype  \n",
      "---  ------        --------------  -----  \n",
      " 0   msg_included  2 non-null      int64  \n",
      " 1   gb_included   2 non-null      int64  \n",
      " 2   min_included  2 non-null      int64  \n",
      " 3   monthly_fee   2 non-null      int64  \n",
      " 4   fee_per_gb    2 non-null      int64  \n",
      " 5   fee_per_msg   2 non-null      float64\n",
      " 6   fee_per_min   2 non-null      float64\n",
      " 7   plan          2 non-null      object \n",
      "dtypes: float64(2), int64(5), object(1)\n",
      "memory usage: 260.0+ bytes\n"
     ]
    }
   ],
   "source": [
    "plans['gb_included'] = plans['gb_included'].astype(int)\n",
    "plans.info()"
   ]
  },
  {
   "cell_type": "code",
   "execution_count": 3054,
   "id": "49a52323-295e-45d3-a0b2-ddef7dfe46e0",
   "metadata": {},
   "outputs": [
    {
     "data": {
      "text/html": [
       "<div>\n",
       "<style scoped>\n",
       "    .dataframe tbody tr th:only-of-type {\n",
       "        vertical-align: middle;\n",
       "    }\n",
       "\n",
       "    .dataframe tbody tr th {\n",
       "        vertical-align: top;\n",
       "    }\n",
       "\n",
       "    .dataframe thead th {\n",
       "        text-align: right;\n",
       "    }\n",
       "</style>\n",
       "<table border=\"1\" class=\"dataframe\">\n",
       "  <thead>\n",
       "    <tr style=\"text-align: right;\">\n",
       "      <th></th>\n",
       "      <th>msg_included</th>\n",
       "      <th>gb_included</th>\n",
       "      <th>min_included</th>\n",
       "      <th>monthly_fee</th>\n",
       "      <th>fee_per_gb</th>\n",
       "      <th>fee_per_msg</th>\n",
       "      <th>fee_per_min</th>\n",
       "      <th>plan</th>\n",
       "    </tr>\n",
       "  </thead>\n",
       "  <tbody>\n",
       "    <tr>\n",
       "      <th>0</th>\n",
       "      <td>50</td>\n",
       "      <td>15</td>\n",
       "      <td>500</td>\n",
       "      <td>20</td>\n",
       "      <td>10</td>\n",
       "      <td>0.03</td>\n",
       "      <td>0.03</td>\n",
       "      <td>surf</td>\n",
       "    </tr>\n",
       "    <tr>\n",
       "      <th>1</th>\n",
       "      <td>1000</td>\n",
       "      <td>30</td>\n",
       "      <td>3000</td>\n",
       "      <td>70</td>\n",
       "      <td>7</td>\n",
       "      <td>0.01</td>\n",
       "      <td>0.01</td>\n",
       "      <td>ultimate</td>\n",
       "    </tr>\n",
       "  </tbody>\n",
       "</table>\n",
       "</div>"
      ],
      "text/plain": [
       "   msg_included  gb_included  min_included  monthly_fee  fee_per_gb  \\\n",
       "0            50           15           500           20          10   \n",
       "1          1000           30          3000           70           7   \n",
       "\n",
       "   fee_per_msg  fee_per_min      plan  \n",
       "0         0.03         0.03      surf  \n",
       "1         0.01         0.01  ultimate  "
      ]
     },
     "metadata": {},
     "output_type": "display_data"
    }
   ],
   "source": [
    "display(plans)"
   ]
  },
  {
   "cell_type": "markdown",
   "id": "f64ca40b-7514-490f-a60f-ed0db321beeb",
   "metadata": {},
   "source": [
    "<div class=\"alert alert-info\"><font color='hotpink'>\n",
    "<b>Cleaning the Plans dataframe:</b>\n",
    "<br>\n",
    "- I displayed the dataframe. It was only 2 rows long. It explained the two Megaline plan options.\n",
    "<br>\n",
    "- I used .info() to see the datatypes. Since the mb_per_month_included column was listed in megabytes, but the plan charges extra per gigabyte, I changed the type of this column to float, and multiplied it by .001 to convert to gigabytes.\n",
    "<br>\n",
    "- I renamed most of the column names, so that they would be shorter, and the dataframe would be easier to read.\n",
    "<br>\n",
    "- plan_name was renamed to plan, to match the users dataframe.\n",
    "<br>\n",
    "- I used np.floor to round down the gb_included column because the Megaline surf plan states that there are 15 GB included per month, and ultimate plan has 30.\n",
    "<br>\n",
    " - I changed the datatype, of gb_included, to be int. Since the GB included, per month, are 15 and 30, and that will not change, there was no point in have the decimals.   \n",
    "</font color></div>"
   ]
  },
  {
   "cell_type": "code",
   "execution_count": null,
   "id": "2920e501-2b45-4e2f-acf7-c8c9fb7173b1",
   "metadata": {},
   "outputs": [],
   "source": []
  },
  {
   "cell_type": "markdown",
   "id": "44e814be-5365-46a6-a40d-b4512fbe29f3",
   "metadata": {},
   "source": [
    "## <span style=\"color: hotpink;\">Users dataframe</span>"
   ]
  },
  {
   "cell_type": "markdown",
   "id": "cd7f400c-5f5c-437c-96d2-ca445f5b873b",
   "metadata": {},
   "source": [
    "### Inspect the data"
   ]
  },
  {
   "cell_type": "code",
   "execution_count": 3058,
   "id": "796df22d-3ec5-417c-a93a-e3de079ac8dd",
   "metadata": {},
   "outputs": [
    {
     "data": {
      "text/html": [
       "<div>\n",
       "<style scoped>\n",
       "    .dataframe tbody tr th:only-of-type {\n",
       "        vertical-align: middle;\n",
       "    }\n",
       "\n",
       "    .dataframe tbody tr th {\n",
       "        vertical-align: top;\n",
       "    }\n",
       "\n",
       "    .dataframe thead th {\n",
       "        text-align: right;\n",
       "    }\n",
       "</style>\n",
       "<table border=\"1\" class=\"dataframe\">\n",
       "  <thead>\n",
       "    <tr style=\"text-align: right;\">\n",
       "      <th></th>\n",
       "      <th>user_id</th>\n",
       "      <th>first_name</th>\n",
       "      <th>last_name</th>\n",
       "      <th>age</th>\n",
       "      <th>city</th>\n",
       "      <th>reg_date</th>\n",
       "      <th>plan</th>\n",
       "      <th>churn_date</th>\n",
       "    </tr>\n",
       "  </thead>\n",
       "  <tbody>\n",
       "    <tr>\n",
       "      <th>0</th>\n",
       "      <td>1000</td>\n",
       "      <td>Anamaria</td>\n",
       "      <td>Bauer</td>\n",
       "      <td>45</td>\n",
       "      <td>Atlanta-Sandy Springs-Roswell, GA MSA</td>\n",
       "      <td>2018-12-24</td>\n",
       "      <td>ultimate</td>\n",
       "      <td>NaN</td>\n",
       "    </tr>\n",
       "    <tr>\n",
       "      <th>1</th>\n",
       "      <td>1001</td>\n",
       "      <td>Mickey</td>\n",
       "      <td>Wilkerson</td>\n",
       "      <td>28</td>\n",
       "      <td>Seattle-Tacoma-Bellevue, WA MSA</td>\n",
       "      <td>2018-08-13</td>\n",
       "      <td>surf</td>\n",
       "      <td>NaN</td>\n",
       "    </tr>\n",
       "    <tr>\n",
       "      <th>2</th>\n",
       "      <td>1002</td>\n",
       "      <td>Carlee</td>\n",
       "      <td>Hoffman</td>\n",
       "      <td>36</td>\n",
       "      <td>Las Vegas-Henderson-Paradise, NV MSA</td>\n",
       "      <td>2018-10-21</td>\n",
       "      <td>surf</td>\n",
       "      <td>NaN</td>\n",
       "    </tr>\n",
       "    <tr>\n",
       "      <th>3</th>\n",
       "      <td>1003</td>\n",
       "      <td>Reynaldo</td>\n",
       "      <td>Jenkins</td>\n",
       "      <td>52</td>\n",
       "      <td>Tulsa, OK MSA</td>\n",
       "      <td>2018-01-28</td>\n",
       "      <td>surf</td>\n",
       "      <td>NaN</td>\n",
       "    </tr>\n",
       "    <tr>\n",
       "      <th>4</th>\n",
       "      <td>1004</td>\n",
       "      <td>Leonila</td>\n",
       "      <td>Thompson</td>\n",
       "      <td>40</td>\n",
       "      <td>Seattle-Tacoma-Bellevue, WA MSA</td>\n",
       "      <td>2018-05-23</td>\n",
       "      <td>surf</td>\n",
       "      <td>NaN</td>\n",
       "    </tr>\n",
       "  </tbody>\n",
       "</table>\n",
       "</div>"
      ],
      "text/plain": [
       "   user_id first_name  last_name  age                                   city  \\\n",
       "0     1000   Anamaria      Bauer   45  Atlanta-Sandy Springs-Roswell, GA MSA   \n",
       "1     1001     Mickey  Wilkerson   28        Seattle-Tacoma-Bellevue, WA MSA   \n",
       "2     1002     Carlee    Hoffman   36   Las Vegas-Henderson-Paradise, NV MSA   \n",
       "3     1003   Reynaldo    Jenkins   52                          Tulsa, OK MSA   \n",
       "4     1004    Leonila   Thompson   40        Seattle-Tacoma-Bellevue, WA MSA   \n",
       "\n",
       "     reg_date      plan churn_date  \n",
       "0  2018-12-24  ultimate        NaN  \n",
       "1  2018-08-13      surf        NaN  \n",
       "2  2018-10-21      surf        NaN  \n",
       "3  2018-01-28      surf        NaN  \n",
       "4  2018-05-23      surf        NaN  "
      ]
     },
     "metadata": {},
     "output_type": "display_data"
    }
   ],
   "source": [
    "display(users.head(5))"
   ]
  },
  {
   "cell_type": "code",
   "execution_count": 3059,
   "id": "a287760e-ef0c-4752-881e-a171e0e42099",
   "metadata": {},
   "outputs": [
    {
     "data": {
      "text/plain": [
       "(500, 8)"
      ]
     },
     "execution_count": 3059,
     "metadata": {},
     "output_type": "execute_result"
    }
   ],
   "source": [
    "users.shape"
   ]
  },
  {
   "cell_type": "code",
   "execution_count": 3060,
   "id": "9063bf86-471e-4f1a-8f02-ecff92446f7b",
   "metadata": {},
   "outputs": [],
   "source": [
    "#There are 500 rows, and 8 columns in the Users dataframe."
   ]
  },
  {
   "cell_type": "code",
   "execution_count": 3061,
   "id": "72ff63d8-ffcd-40fa-96d8-1e8c93d324a6",
   "metadata": {},
   "outputs": [
    {
     "data": {
      "text/plain": [
       "Index(['user_id', 'first_name', 'last_name', 'age', 'city', 'reg_date', 'plan',\n",
       "       'churn_date'],\n",
       "      dtype='object')"
      ]
     },
     "execution_count": 3061,
     "metadata": {},
     "output_type": "execute_result"
    }
   ],
   "source": [
    "users.columns"
   ]
  },
  {
   "cell_type": "code",
   "execution_count": 3062,
   "id": "63a4bee8-7086-42ef-b275-7bb304ba490c",
   "metadata": {},
   "outputs": [
    {
     "name": "stdout",
     "output_type": "stream",
     "text": [
      "<class 'pandas.core.frame.DataFrame'>\n",
      "RangeIndex: 500 entries, 0 to 499\n",
      "Data columns (total 8 columns):\n",
      " #   Column      Non-Null Count  Dtype \n",
      "---  ------      --------------  ----- \n",
      " 0   user_id     500 non-null    int64 \n",
      " 1   first_name  500 non-null    object\n",
      " 2   last_name   500 non-null    object\n",
      " 3   age         500 non-null    int64 \n",
      " 4   city        500 non-null    object\n",
      " 5   reg_date    500 non-null    object\n",
      " 6   plan        500 non-null    object\n",
      " 7   churn_date  34 non-null     object\n",
      "dtypes: int64(2), object(6)\n",
      "memory usage: 31.4+ KB\n"
     ]
    }
   ],
   "source": [
    "users.info()"
   ]
  },
  {
   "cell_type": "code",
   "execution_count": 3063,
   "id": "97d712a9-9b48-440f-8db8-21516ca43938",
   "metadata": {},
   "outputs": [
    {
     "data": {
      "text/html": [
       "<div style='color: hotpink;'><b>churn_date is the only column with missing data. 93.20% of the data is missing from this column.</b></div>"
      ],
      "text/plain": [
       "<IPython.core.display.HTML object>"
      ]
     },
     "metadata": {},
     "output_type": "display_data"
    }
   ],
   "source": [
    "churn_total_rows = 500\n",
    "churn_rows_w_data = 34\n",
    "rows_with_missing_churn_data = churn_total_rows - churn_rows_w_data\n",
    "missing_churn_data_percentage = (rows_with_missing_churn_data / churn_total_rows) * 100\n",
    "show_html_output(f\"churn_date is the only column with missing data. {missing_churn_data_percentage:.2f}% of the data is missing from this column.\")"
   ]
  },
  {
   "cell_type": "code",
   "execution_count": 3064,
   "id": "365a9b9a-42ff-4312-9bae-98cc6c530516",
   "metadata": {},
   "outputs": [],
   "source": [
    "# user_id needs to change to object\n",
    "# reg_date needs to change to datetime type\n",
    "# churn_date also needs to change to datetime type"
   ]
  },
  {
   "cell_type": "markdown",
   "id": "8674b208-98cb-4465-aea0-ffe3a93cfd1a",
   "metadata": {},
   "source": [
    "### Clean the Users dataframe"
   ]
  },
  {
   "cell_type": "code",
   "execution_count": 3066,
   "id": "fe79073b-69ca-4bfb-862f-f815108a2dcc",
   "metadata": {},
   "outputs": [],
   "source": [
    "#Change user_id to type object.\n",
    "users['user_id'] = users['user_id'].astype(object)"
   ]
  },
  {
   "cell_type": "code",
   "execution_count": 3067,
   "id": "0f636084-09f6-4b76-88ac-dbfd1689665e",
   "metadata": {},
   "outputs": [
    {
     "data": {
      "text/html": [
       "<div>\n",
       "<style scoped>\n",
       "    .dataframe tbody tr th:only-of-type {\n",
       "        vertical-align: middle;\n",
       "    }\n",
       "\n",
       "    .dataframe tbody tr th {\n",
       "        vertical-align: top;\n",
       "    }\n",
       "\n",
       "    .dataframe thead th {\n",
       "        text-align: right;\n",
       "    }\n",
       "</style>\n",
       "<table border=\"1\" class=\"dataframe\">\n",
       "  <thead>\n",
       "    <tr style=\"text-align: right;\">\n",
       "      <th></th>\n",
       "      <th>user_id</th>\n",
       "      <th>first_name</th>\n",
       "      <th>last_name</th>\n",
       "      <th>age</th>\n",
       "      <th>city</th>\n",
       "      <th>reg_date</th>\n",
       "      <th>plan</th>\n",
       "      <th>churn_date</th>\n",
       "    </tr>\n",
       "  </thead>\n",
       "  <tbody>\n",
       "    <tr>\n",
       "      <th>0</th>\n",
       "      <td>1000</td>\n",
       "      <td>Anamaria</td>\n",
       "      <td>Bauer</td>\n",
       "      <td>45</td>\n",
       "      <td>Atlanta-Sandy Springs-Roswell, GA MSA</td>\n",
       "      <td>12-24-18</td>\n",
       "      <td>ultimate</td>\n",
       "      <td>NaN</td>\n",
       "    </tr>\n",
       "    <tr>\n",
       "      <th>1</th>\n",
       "      <td>1001</td>\n",
       "      <td>Mickey</td>\n",
       "      <td>Wilkerson</td>\n",
       "      <td>28</td>\n",
       "      <td>Seattle-Tacoma-Bellevue, WA MSA</td>\n",
       "      <td>08-13-18</td>\n",
       "      <td>surf</td>\n",
       "      <td>NaN</td>\n",
       "    </tr>\n",
       "    <tr>\n",
       "      <th>2</th>\n",
       "      <td>1002</td>\n",
       "      <td>Carlee</td>\n",
       "      <td>Hoffman</td>\n",
       "      <td>36</td>\n",
       "      <td>Las Vegas-Henderson-Paradise, NV MSA</td>\n",
       "      <td>10-21-18</td>\n",
       "      <td>surf</td>\n",
       "      <td>NaN</td>\n",
       "    </tr>\n",
       "  </tbody>\n",
       "</table>\n",
       "</div>"
      ],
      "text/plain": [
       "  user_id first_name  last_name  age                                   city  \\\n",
       "0    1000   Anamaria      Bauer   45  Atlanta-Sandy Springs-Roswell, GA MSA   \n",
       "1    1001     Mickey  Wilkerson   28        Seattle-Tacoma-Bellevue, WA MSA   \n",
       "2    1002     Carlee    Hoffman   36   Las Vegas-Henderson-Paradise, NV MSA   \n",
       "\n",
       "   reg_date      plan churn_date  \n",
       "0  12-24-18  ultimate        NaN  \n",
       "1  08-13-18      surf        NaN  \n",
       "2  10-21-18      surf        NaN  "
      ]
     },
     "metadata": {},
     "output_type": "display_data"
    }
   ],
   "source": [
    "# Change the reg_date column to month first\n",
    "users['reg_date'] = pd.to_datetime(users['reg_date'])\n",
    "users['reg_date'] = users['reg_date'].dt.strftime('%m-%d-%y')\n",
    "display(users.head(3))"
   ]
  },
  {
   "cell_type": "code",
   "execution_count": 3068,
   "id": "6d12ea40-7441-454d-9918-845e2e00905c",
   "metadata": {},
   "outputs": [],
   "source": [
    "#What should I do about the NaN in the churn_date column?"
   ]
  },
  {
   "cell_type": "code",
   "execution_count": 3069,
   "id": "50c3094f-6d3f-407b-aa1a-1f62c37118fb",
   "metadata": {},
   "outputs": [
    {
     "data": {
      "text/html": [
       "<div>\n",
       "<style scoped>\n",
       "    .dataframe tbody tr th:only-of-type {\n",
       "        vertical-align: middle;\n",
       "    }\n",
       "\n",
       "    .dataframe tbody tr th {\n",
       "        vertical-align: top;\n",
       "    }\n",
       "\n",
       "    .dataframe thead th {\n",
       "        text-align: right;\n",
       "    }\n",
       "</style>\n",
       "<table border=\"1\" class=\"dataframe\">\n",
       "  <thead>\n",
       "    <tr style=\"text-align: right;\">\n",
       "      <th></th>\n",
       "      <th>user_id</th>\n",
       "      <th>first_name</th>\n",
       "      <th>last_name</th>\n",
       "      <th>age</th>\n",
       "      <th>city</th>\n",
       "      <th>reg_date</th>\n",
       "      <th>plan</th>\n",
       "      <th>churn_date</th>\n",
       "    </tr>\n",
       "  </thead>\n",
       "  <tbody>\n",
       "    <tr>\n",
       "      <th>0</th>\n",
       "      <td>1000</td>\n",
       "      <td>Anamaria</td>\n",
       "      <td>Bauer</td>\n",
       "      <td>45</td>\n",
       "      <td>Atlanta-Sandy Springs-Roswell, GA MSA</td>\n",
       "      <td>12-24-18</td>\n",
       "      <td>ultimate</td>\n",
       "      <td>NaN</td>\n",
       "    </tr>\n",
       "    <tr>\n",
       "      <th>1</th>\n",
       "      <td>1001</td>\n",
       "      <td>Mickey</td>\n",
       "      <td>Wilkerson</td>\n",
       "      <td>28</td>\n",
       "      <td>Seattle-Tacoma-Bellevue, WA MSA</td>\n",
       "      <td>08-13-18</td>\n",
       "      <td>surf</td>\n",
       "      <td>NaN</td>\n",
       "    </tr>\n",
       "    <tr>\n",
       "      <th>2</th>\n",
       "      <td>1002</td>\n",
       "      <td>Carlee</td>\n",
       "      <td>Hoffman</td>\n",
       "      <td>36</td>\n",
       "      <td>Las Vegas-Henderson-Paradise, NV MSA</td>\n",
       "      <td>10-21-18</td>\n",
       "      <td>surf</td>\n",
       "      <td>NaN</td>\n",
       "    </tr>\n",
       "  </tbody>\n",
       "</table>\n",
       "</div>"
      ],
      "text/plain": [
       "  user_id first_name  last_name  age                                   city  \\\n",
       "0    1000   Anamaria      Bauer   45  Atlanta-Sandy Springs-Roswell, GA MSA   \n",
       "1    1001     Mickey  Wilkerson   28        Seattle-Tacoma-Bellevue, WA MSA   \n",
       "2    1002     Carlee    Hoffman   36   Las Vegas-Henderson-Paradise, NV MSA   \n",
       "\n",
       "   reg_date      plan churn_date  \n",
       "0  12-24-18  ultimate        NaN  \n",
       "1  08-13-18      surf        NaN  \n",
       "2  10-21-18      surf        NaN  "
      ]
     },
     "metadata": {},
     "output_type": "display_data"
    }
   ],
   "source": [
    "#Convert 'churn_date' column to datetime\n",
    "users['churn_date'] = pd.to_datetime(users['churn_date'], errors='coerce')\n",
    "users['churn_date'] = users['churn_date'].dt.strftime('%m-%d-%y')\n",
    "display(users.head(3))"
   ]
  },
  {
   "cell_type": "code",
   "execution_count": 3070,
   "id": "33eba6c5-96bc-408a-9fbc-7560f5e03469",
   "metadata": {},
   "outputs": [
    {
     "data": {
      "text/plain": [
       "user_id       object\n",
       "first_name    object\n",
       "last_name     object\n",
       "age            int64\n",
       "city          object\n",
       "reg_date      object\n",
       "plan          object\n",
       "churn_date    object\n",
       "dtype: object"
      ]
     },
     "execution_count": 3070,
     "metadata": {},
     "output_type": "execute_result"
    }
   ],
   "source": [
    "users.dtypes"
   ]
  },
  {
   "cell_type": "code",
   "execution_count": 3071,
   "id": "04803465-dde2-4c94-845e-919e21580f51",
   "metadata": {},
   "outputs": [
    {
     "data": {
      "text/html": [
       "<div>\n",
       "<style scoped>\n",
       "    .dataframe tbody tr th:only-of-type {\n",
       "        vertical-align: middle;\n",
       "    }\n",
       "\n",
       "    .dataframe tbody tr th {\n",
       "        vertical-align: top;\n",
       "    }\n",
       "\n",
       "    .dataframe thead th {\n",
       "        text-align: right;\n",
       "    }\n",
       "</style>\n",
       "<table border=\"1\" class=\"dataframe\">\n",
       "  <thead>\n",
       "    <tr style=\"text-align: right;\">\n",
       "      <th></th>\n",
       "      <th>age</th>\n",
       "    </tr>\n",
       "  </thead>\n",
       "  <tbody>\n",
       "    <tr>\n",
       "      <th>count</th>\n",
       "      <td>500.000000</td>\n",
       "    </tr>\n",
       "    <tr>\n",
       "      <th>mean</th>\n",
       "      <td>45.486000</td>\n",
       "    </tr>\n",
       "    <tr>\n",
       "      <th>std</th>\n",
       "      <td>16.972269</td>\n",
       "    </tr>\n",
       "    <tr>\n",
       "      <th>min</th>\n",
       "      <td>18.000000</td>\n",
       "    </tr>\n",
       "    <tr>\n",
       "      <th>25%</th>\n",
       "      <td>30.000000</td>\n",
       "    </tr>\n",
       "    <tr>\n",
       "      <th>50%</th>\n",
       "      <td>46.000000</td>\n",
       "    </tr>\n",
       "    <tr>\n",
       "      <th>75%</th>\n",
       "      <td>61.000000</td>\n",
       "    </tr>\n",
       "    <tr>\n",
       "      <th>max</th>\n",
       "      <td>75.000000</td>\n",
       "    </tr>\n",
       "  </tbody>\n",
       "</table>\n",
       "</div>"
      ],
      "text/plain": [
       "              age\n",
       "count  500.000000\n",
       "mean    45.486000\n",
       "std     16.972269\n",
       "min     18.000000\n",
       "25%     30.000000\n",
       "50%     46.000000\n",
       "75%     61.000000\n",
       "max     75.000000"
      ]
     },
     "execution_count": 3071,
     "metadata": {},
     "output_type": "execute_result"
    }
   ],
   "source": [
    "users.describe()"
   ]
  },
  {
   "cell_type": "code",
   "execution_count": 3072,
   "id": "a2d34bac-87d4-4403-b0a6-e5f44e981389",
   "metadata": {},
   "outputs": [
    {
     "name": "stdout",
     "output_type": "stream",
     "text": [
      "Sample of 10 rows:\n"
     ]
    },
    {
     "data": {
      "text/html": [
       "<div>\n",
       "<style scoped>\n",
       "    .dataframe tbody tr th:only-of-type {\n",
       "        vertical-align: middle;\n",
       "    }\n",
       "\n",
       "    .dataframe tbody tr th {\n",
       "        vertical-align: top;\n",
       "    }\n",
       "\n",
       "    .dataframe thead th {\n",
       "        text-align: right;\n",
       "    }\n",
       "</style>\n",
       "<table border=\"1\" class=\"dataframe\">\n",
       "  <thead>\n",
       "    <tr style=\"text-align: right;\">\n",
       "      <th></th>\n",
       "      <th>user_id</th>\n",
       "      <th>first_name</th>\n",
       "      <th>last_name</th>\n",
       "      <th>age</th>\n",
       "      <th>city</th>\n",
       "      <th>reg_date</th>\n",
       "      <th>plan</th>\n",
       "      <th>churn_date</th>\n",
       "    </tr>\n",
       "  </thead>\n",
       "  <tbody>\n",
       "    <tr>\n",
       "      <th>434</th>\n",
       "      <td>1434</td>\n",
       "      <td>Kai</td>\n",
       "      <td>Barr</td>\n",
       "      <td>18</td>\n",
       "      <td>New York-Newark-Jersey City, NY-NJ-PA MSA</td>\n",
       "      <td>03-06-18</td>\n",
       "      <td>surf</td>\n",
       "      <td>NaN</td>\n",
       "    </tr>\n",
       "    <tr>\n",
       "      <th>314</th>\n",
       "      <td>1314</td>\n",
       "      <td>Brice</td>\n",
       "      <td>Morgan</td>\n",
       "      <td>35</td>\n",
       "      <td>Los Angeles-Long Beach-Anaheim, CA MSA</td>\n",
       "      <td>03-06-18</td>\n",
       "      <td>ultimate</td>\n",
       "      <td>NaN</td>\n",
       "    </tr>\n",
       "    <tr>\n",
       "      <th>386</th>\n",
       "      <td>1386</td>\n",
       "      <td>Jeni</td>\n",
       "      <td>Gilbert</td>\n",
       "      <td>30</td>\n",
       "      <td>Seattle-Tacoma-Bellevue, WA MSA</td>\n",
       "      <td>04-11-18</td>\n",
       "      <td>surf</td>\n",
       "      <td>NaN</td>\n",
       "    </tr>\n",
       "    <tr>\n",
       "      <th>170</th>\n",
       "      <td>1170</td>\n",
       "      <td>Olin</td>\n",
       "      <td>Adkins</td>\n",
       "      <td>18</td>\n",
       "      <td>Pittsburgh, PA MSA</td>\n",
       "      <td>09-25-18</td>\n",
       "      <td>surf</td>\n",
       "      <td>NaN</td>\n",
       "    </tr>\n",
       "    <tr>\n",
       "      <th>40</th>\n",
       "      <td>1040</td>\n",
       "      <td>Paris</td>\n",
       "      <td>Santos</td>\n",
       "      <td>72</td>\n",
       "      <td>Philadelphia-Camden-Wilmington, PA-NJ-DE-MD MSA</td>\n",
       "      <td>12-23-18</td>\n",
       "      <td>surf</td>\n",
       "      <td>12-30-18</td>\n",
       "    </tr>\n",
       "    <tr>\n",
       "      <th>440</th>\n",
       "      <td>1440</td>\n",
       "      <td>France</td>\n",
       "      <td>Barrett</td>\n",
       "      <td>49</td>\n",
       "      <td>Nashville-Davidson–Murfreesboro–Franklin, TN MSA</td>\n",
       "      <td>04-16-18</td>\n",
       "      <td>surf</td>\n",
       "      <td>NaN</td>\n",
       "    </tr>\n",
       "    <tr>\n",
       "      <th>158</th>\n",
       "      <td>1158</td>\n",
       "      <td>Robin</td>\n",
       "      <td>Thornton</td>\n",
       "      <td>20</td>\n",
       "      <td>Virginia Beach-Norfolk-Newport News, VA-NC MSA</td>\n",
       "      <td>11-30-18</td>\n",
       "      <td>ultimate</td>\n",
       "      <td>NaN</td>\n",
       "    </tr>\n",
       "    <tr>\n",
       "      <th>18</th>\n",
       "      <td>1018</td>\n",
       "      <td>Dennis</td>\n",
       "      <td>Grimes</td>\n",
       "      <td>70</td>\n",
       "      <td>Indianapolis-Carmel-Anderson, IN MSA</td>\n",
       "      <td>10-17-18</td>\n",
       "      <td>surf</td>\n",
       "      <td>NaN</td>\n",
       "    </tr>\n",
       "    <tr>\n",
       "      <th>480</th>\n",
       "      <td>1480</td>\n",
       "      <td>Jasper</td>\n",
       "      <td>Buchanan</td>\n",
       "      <td>46</td>\n",
       "      <td>St. Louis, MO-IL MSA</td>\n",
       "      <td>12-13-18</td>\n",
       "      <td>surf</td>\n",
       "      <td>NaN</td>\n",
       "    </tr>\n",
       "    <tr>\n",
       "      <th>3</th>\n",
       "      <td>1003</td>\n",
       "      <td>Reynaldo</td>\n",
       "      <td>Jenkins</td>\n",
       "      <td>52</td>\n",
       "      <td>Tulsa, OK MSA</td>\n",
       "      <td>01-28-18</td>\n",
       "      <td>surf</td>\n",
       "      <td>NaN</td>\n",
       "    </tr>\n",
       "  </tbody>\n",
       "</table>\n",
       "</div>"
      ],
      "text/plain": [
       "    user_id first_name last_name  age  \\\n",
       "434    1434        Kai      Barr   18   \n",
       "314    1314      Brice    Morgan   35   \n",
       "386    1386       Jeni   Gilbert   30   \n",
       "170    1170       Olin    Adkins   18   \n",
       "40     1040      Paris    Santos   72   \n",
       "440    1440     France   Barrett   49   \n",
       "158    1158      Robin  Thornton   20   \n",
       "18     1018     Dennis    Grimes   70   \n",
       "480    1480     Jasper  Buchanan   46   \n",
       "3      1003   Reynaldo   Jenkins   52   \n",
       "\n",
       "                                                 city  reg_date      plan  \\\n",
       "434         New York-Newark-Jersey City, NY-NJ-PA MSA  03-06-18      surf   \n",
       "314            Los Angeles-Long Beach-Anaheim, CA MSA  03-06-18  ultimate   \n",
       "386                   Seattle-Tacoma-Bellevue, WA MSA  04-11-18      surf   \n",
       "170                                Pittsburgh, PA MSA  09-25-18      surf   \n",
       "40    Philadelphia-Camden-Wilmington, PA-NJ-DE-MD MSA  12-23-18      surf   \n",
       "440  Nashville-Davidson–Murfreesboro–Franklin, TN MSA  04-16-18      surf   \n",
       "158    Virginia Beach-Norfolk-Newport News, VA-NC MSA  11-30-18  ultimate   \n",
       "18               Indianapolis-Carmel-Anderson, IN MSA  10-17-18      surf   \n",
       "480                              St. Louis, MO-IL MSA  12-13-18      surf   \n",
       "3                                       Tulsa, OK MSA  01-28-18      surf   \n",
       "\n",
       "    churn_date  \n",
       "434        NaN  \n",
       "314        NaN  \n",
       "386        NaN  \n",
       "170        NaN  \n",
       "40    12-30-18  \n",
       "440        NaN  \n",
       "158        NaN  \n",
       "18         NaN  \n",
       "480        NaN  \n",
       "3          NaN  "
      ]
     },
     "metadata": {},
     "output_type": "display_data"
    }
   ],
   "source": [
    "# Print a sample of a fixed number of rows \n",
    "print(\"Sample of 10 rows:\")\n",
    "display(users.sample(10))"
   ]
  },
  {
   "cell_type": "code",
   "execution_count": 3073,
   "id": "975f0241-6d81-4c29-8c65-fee46fc13f53",
   "metadata": {},
   "outputs": [
    {
     "data": {
      "text/html": [
       "<div style='color: hotpink;'><b>There's a lot of cleaning to do in the city column.</b></div>"
      ],
      "text/plain": [
       "<IPython.core.display.HTML object>"
      ]
     },
     "metadata": {},
     "output_type": "display_data"
    }
   ],
   "source": [
    "show_html_output(f\"There's a lot of cleaning to do in the city column.\")"
   ]
  },
  {
   "cell_type": "code",
   "execution_count": 3074,
   "id": "80dac53d-b96e-4039-b7a5-70aefd25ee09",
   "metadata": {},
   "outputs": [],
   "source": [
    "#Need to remove 'MSA' from the city column.\n",
    "users['city'] = users['city'].str.replace(' MSA', '', regex=False).str.strip()"
   ]
  },
  {
   "cell_type": "code",
   "execution_count": 3075,
   "id": "85189411-869c-43b3-8c69-8d7ee9c7ec6c",
   "metadata": {},
   "outputs": [
    {
     "data": {
      "text/html": [
       "<div>\n",
       "<style scoped>\n",
       "    .dataframe tbody tr th:only-of-type {\n",
       "        vertical-align: middle;\n",
       "    }\n",
       "\n",
       "    .dataframe tbody tr th {\n",
       "        vertical-align: top;\n",
       "    }\n",
       "\n",
       "    .dataframe thead th {\n",
       "        text-align: right;\n",
       "    }\n",
       "</style>\n",
       "<table border=\"1\" class=\"dataframe\">\n",
       "  <thead>\n",
       "    <tr style=\"text-align: right;\">\n",
       "      <th></th>\n",
       "      <th>user_id</th>\n",
       "      <th>first_name</th>\n",
       "      <th>last_name</th>\n",
       "      <th>age</th>\n",
       "      <th>city</th>\n",
       "      <th>reg_date</th>\n",
       "      <th>plan</th>\n",
       "      <th>churn_date</th>\n",
       "    </tr>\n",
       "  </thead>\n",
       "  <tbody>\n",
       "    <tr>\n",
       "      <th>0</th>\n",
       "      <td>1000</td>\n",
       "      <td>Anamaria</td>\n",
       "      <td>Bauer</td>\n",
       "      <td>45</td>\n",
       "      <td>Atlanta-Sandy Springs-Roswell, GA</td>\n",
       "      <td>12-24-18</td>\n",
       "      <td>ultimate</td>\n",
       "      <td>NaN</td>\n",
       "    </tr>\n",
       "    <tr>\n",
       "      <th>1</th>\n",
       "      <td>1001</td>\n",
       "      <td>Mickey</td>\n",
       "      <td>Wilkerson</td>\n",
       "      <td>28</td>\n",
       "      <td>Seattle-Tacoma-Bellevue, WA</td>\n",
       "      <td>08-13-18</td>\n",
       "      <td>surf</td>\n",
       "      <td>NaN</td>\n",
       "    </tr>\n",
       "    <tr>\n",
       "      <th>2</th>\n",
       "      <td>1002</td>\n",
       "      <td>Carlee</td>\n",
       "      <td>Hoffman</td>\n",
       "      <td>36</td>\n",
       "      <td>Las Vegas-Henderson-Paradise, NV</td>\n",
       "      <td>10-21-18</td>\n",
       "      <td>surf</td>\n",
       "      <td>NaN</td>\n",
       "    </tr>\n",
       "  </tbody>\n",
       "</table>\n",
       "</div>"
      ],
      "text/plain": [
       "  user_id first_name  last_name  age                               city  \\\n",
       "0    1000   Anamaria      Bauer   45  Atlanta-Sandy Springs-Roswell, GA   \n",
       "1    1001     Mickey  Wilkerson   28        Seattle-Tacoma-Bellevue, WA   \n",
       "2    1002     Carlee    Hoffman   36   Las Vegas-Henderson-Paradise, NV   \n",
       "\n",
       "   reg_date      plan churn_date  \n",
       "0  12-24-18  ultimate        NaN  \n",
       "1  08-13-18      surf        NaN  \n",
       "2  10-21-18      surf        NaN  "
      ]
     },
     "metadata": {},
     "output_type": "display_data"
    }
   ],
   "source": [
    "display(users.head(3))"
   ]
  },
  {
   "cell_type": "code",
   "execution_count": 3076,
   "id": "d55f0133-215e-4933-b141-713ba1bfae62",
   "metadata": {},
   "outputs": [],
   "source": [
    "#Need to remove the State from the city column\n",
    "users['city'] = users['city'].str.split(',', expand=True)[0]"
   ]
  },
  {
   "cell_type": "code",
   "execution_count": 3077,
   "id": "3363df92-7750-40ac-9ef1-420d723a707a",
   "metadata": {},
   "outputs": [
    {
     "data": {
      "text/html": [
       "<div>\n",
       "<style scoped>\n",
       "    .dataframe tbody tr th:only-of-type {\n",
       "        vertical-align: middle;\n",
       "    }\n",
       "\n",
       "    .dataframe tbody tr th {\n",
       "        vertical-align: top;\n",
       "    }\n",
       "\n",
       "    .dataframe thead th {\n",
       "        text-align: right;\n",
       "    }\n",
       "</style>\n",
       "<table border=\"1\" class=\"dataframe\">\n",
       "  <thead>\n",
       "    <tr style=\"text-align: right;\">\n",
       "      <th></th>\n",
       "      <th>user_id</th>\n",
       "      <th>first_name</th>\n",
       "      <th>last_name</th>\n",
       "      <th>age</th>\n",
       "      <th>city</th>\n",
       "      <th>reg_date</th>\n",
       "      <th>plan</th>\n",
       "      <th>churn_date</th>\n",
       "    </tr>\n",
       "  </thead>\n",
       "  <tbody>\n",
       "    <tr>\n",
       "      <th>0</th>\n",
       "      <td>1000</td>\n",
       "      <td>Anamaria</td>\n",
       "      <td>Bauer</td>\n",
       "      <td>45</td>\n",
       "      <td>Atlanta-Sandy Springs-Roswell</td>\n",
       "      <td>12-24-18</td>\n",
       "      <td>ultimate</td>\n",
       "      <td>NaN</td>\n",
       "    </tr>\n",
       "    <tr>\n",
       "      <th>1</th>\n",
       "      <td>1001</td>\n",
       "      <td>Mickey</td>\n",
       "      <td>Wilkerson</td>\n",
       "      <td>28</td>\n",
       "      <td>Seattle-Tacoma-Bellevue</td>\n",
       "      <td>08-13-18</td>\n",
       "      <td>surf</td>\n",
       "      <td>NaN</td>\n",
       "    </tr>\n",
       "    <tr>\n",
       "      <th>2</th>\n",
       "      <td>1002</td>\n",
       "      <td>Carlee</td>\n",
       "      <td>Hoffman</td>\n",
       "      <td>36</td>\n",
       "      <td>Las Vegas-Henderson-Paradise</td>\n",
       "      <td>10-21-18</td>\n",
       "      <td>surf</td>\n",
       "      <td>NaN</td>\n",
       "    </tr>\n",
       "  </tbody>\n",
       "</table>\n",
       "</div>"
      ],
      "text/plain": [
       "  user_id first_name  last_name  age                           city  reg_date  \\\n",
       "0    1000   Anamaria      Bauer   45  Atlanta-Sandy Springs-Roswell  12-24-18   \n",
       "1    1001     Mickey  Wilkerson   28        Seattle-Tacoma-Bellevue  08-13-18   \n",
       "2    1002     Carlee    Hoffman   36   Las Vegas-Henderson-Paradise  10-21-18   \n",
       "\n",
       "       plan churn_date  \n",
       "0  ultimate        NaN  \n",
       "1      surf        NaN  \n",
       "2      surf        NaN  "
      ]
     },
     "metadata": {},
     "output_type": "display_data"
    }
   ],
   "source": [
    "display(users.head(3))"
   ]
  },
  {
   "cell_type": "code",
   "execution_count": 3078,
   "id": "f9d23e22-58af-44ed-989b-b2cf3d68bd71",
   "metadata": {},
   "outputs": [],
   "source": [
    "#Need to remove the larger city-centers from the city column\n",
    "users['city'] = users['city'].str.split('-').str[-1].str.strip()"
   ]
  },
  {
   "cell_type": "code",
   "execution_count": 3079,
   "id": "3806f5ce-da72-4e33-a54f-15037095ace4",
   "metadata": {},
   "outputs": [
    {
     "data": {
      "text/html": [
       "<div>\n",
       "<style scoped>\n",
       "    .dataframe tbody tr th:only-of-type {\n",
       "        vertical-align: middle;\n",
       "    }\n",
       "\n",
       "    .dataframe tbody tr th {\n",
       "        vertical-align: top;\n",
       "    }\n",
       "\n",
       "    .dataframe thead th {\n",
       "        text-align: right;\n",
       "    }\n",
       "</style>\n",
       "<table border=\"1\" class=\"dataframe\">\n",
       "  <thead>\n",
       "    <tr style=\"text-align: right;\">\n",
       "      <th></th>\n",
       "      <th>user_id</th>\n",
       "      <th>first_name</th>\n",
       "      <th>last_name</th>\n",
       "      <th>age</th>\n",
       "      <th>city</th>\n",
       "      <th>reg_date</th>\n",
       "      <th>plan</th>\n",
       "      <th>churn_date</th>\n",
       "    </tr>\n",
       "  </thead>\n",
       "  <tbody>\n",
       "    <tr>\n",
       "      <th>286</th>\n",
       "      <td>1286</td>\n",
       "      <td>Casie</td>\n",
       "      <td>Castaneda</td>\n",
       "      <td>52</td>\n",
       "      <td>Milford</td>\n",
       "      <td>12-07-18</td>\n",
       "      <td>surf</td>\n",
       "      <td>NaN</td>\n",
       "    </tr>\n",
       "    <tr>\n",
       "      <th>155</th>\n",
       "      <td>1155</td>\n",
       "      <td>Claude</td>\n",
       "      <td>Hahn</td>\n",
       "      <td>19</td>\n",
       "      <td>West Palm Beach</td>\n",
       "      <td>02-21-18</td>\n",
       "      <td>ultimate</td>\n",
       "      <td>NaN</td>\n",
       "    </tr>\n",
       "    <tr>\n",
       "      <th>93</th>\n",
       "      <td>1093</td>\n",
       "      <td>Karima</td>\n",
       "      <td>Hampton</td>\n",
       "      <td>69</td>\n",
       "      <td>Davidson–Murfreesboro–Franklin</td>\n",
       "      <td>12-17-18</td>\n",
       "      <td>surf</td>\n",
       "      <td>NaN</td>\n",
       "    </tr>\n",
       "  </tbody>\n",
       "</table>\n",
       "</div>"
      ],
      "text/plain": [
       "    user_id first_name  last_name  age                            city  \\\n",
       "286    1286      Casie  Castaneda   52                         Milford   \n",
       "155    1155     Claude       Hahn   19                 West Palm Beach   \n",
       "93     1093     Karima    Hampton   69  Davidson–Murfreesboro–Franklin   \n",
       "\n",
       "     reg_date      plan churn_date  \n",
       "286  12-07-18      surf        NaN  \n",
       "155  02-21-18  ultimate        NaN  \n",
       "93   12-17-18      surf        NaN  "
      ]
     },
     "metadata": {},
     "output_type": "display_data"
    }
   ],
   "source": [
    "display(users.sample(3))"
   ]
  },
  {
   "cell_type": "code",
   "execution_count": 3080,
   "id": "b1c84803-8d4b-4eab-aa22-542775e59f24",
   "metadata": {},
   "outputs": [],
   "source": [
    "#city column looks good now."
   ]
  },
  {
   "cell_type": "markdown",
   "id": "23d95f53-54ac-42d2-8865-baf05058d6e5",
   "metadata": {},
   "source": [
    "<div class=\"alert alert-info\"><font color='hotpink'>\n",
    "<b>Cleaning the Users dataframe:</b>\n",
    "<br>\n",
    "- There are 500 rows in the dataframe, and churn_date is the only column with missing data. But, 93.2% of that row has missing data.\n",
    "<br>\n",
    "- The naming of the columns look good.\n",
    "<br>\n",
    "- I changed the user_id column to object type, because I will not be doing math on that column.\n",
    "<br>\n",
    "- I used to_datetime and dt.strftime on the reg_date column, to change the date so that it prints out as mm-dd-yy.\n",
    "<br>\n",
    "- I also used to_datetime and dt.strftime on the churn_date column, and used errors='coerce' because the column was mostly full of Nan.\n",
    "<br>\n",
    "- I used describe to get the average age of users. The avg age is 45.5 years old.\n",
    "<br>\n",
    "- I used str.replace and str.strip to remove the unecessary 'MSA' in the city name column.\n",
    "<br>\n",
    "- I used str.split to get rid of the State that was unecessarily in the city column.\n",
    "<br>\n",
    "- I used str.split to get rid of the extra city names that were inside the city column, using -1, to grab only the city that was listed last. The city listed last would represent the actual city that the user lives in, and not the bigger metropolitan area.\n",
    "<br>\n",
    "- I used sample, to grab a random sampling of the data, and ran that a few times over, to make sure that the city column is now looking good.\n",
    "</div></font color>"
   ]
  },
  {
   "cell_type": "code",
   "execution_count": null,
   "id": "42bb9d4c-a2f5-42b2-ae72-a11d6fac0492",
   "metadata": {},
   "outputs": [],
   "source": []
  },
  {
   "cell_type": "markdown",
   "id": "3cc372cc-a44f-432f-88d7-540374440414",
   "metadata": {},
   "source": [
    "## <span style=\"color: hotpink;\">Calls dataframe</span>"
   ]
  },
  {
   "cell_type": "markdown",
   "id": "08ac1f26-7cdf-47ba-a1f9-3be9da4a47e7",
   "metadata": {},
   "source": [
    "### Inspect the data"
   ]
  },
  {
   "cell_type": "code",
   "execution_count": 3084,
   "id": "32c11c8c-10f7-4be0-af20-4becfff64c53",
   "metadata": {},
   "outputs": [
    {
     "data": {
      "text/html": [
       "<div>\n",
       "<style scoped>\n",
       "    .dataframe tbody tr th:only-of-type {\n",
       "        vertical-align: middle;\n",
       "    }\n",
       "\n",
       "    .dataframe tbody tr th {\n",
       "        vertical-align: top;\n",
       "    }\n",
       "\n",
       "    .dataframe thead th {\n",
       "        text-align: right;\n",
       "    }\n",
       "</style>\n",
       "<table border=\"1\" class=\"dataframe\">\n",
       "  <thead>\n",
       "    <tr style=\"text-align: right;\">\n",
       "      <th></th>\n",
       "      <th>id</th>\n",
       "      <th>user_id</th>\n",
       "      <th>call_date</th>\n",
       "      <th>duration</th>\n",
       "    </tr>\n",
       "  </thead>\n",
       "  <tbody>\n",
       "    <tr>\n",
       "      <th>0</th>\n",
       "      <td>1000_93</td>\n",
       "      <td>1000</td>\n",
       "      <td>2018-12-27</td>\n",
       "      <td>8.52</td>\n",
       "    </tr>\n",
       "    <tr>\n",
       "      <th>1</th>\n",
       "      <td>1000_145</td>\n",
       "      <td>1000</td>\n",
       "      <td>2018-12-27</td>\n",
       "      <td>13.66</td>\n",
       "    </tr>\n",
       "    <tr>\n",
       "      <th>2</th>\n",
       "      <td>1000_247</td>\n",
       "      <td>1000</td>\n",
       "      <td>2018-12-27</td>\n",
       "      <td>14.48</td>\n",
       "    </tr>\n",
       "    <tr>\n",
       "      <th>3</th>\n",
       "      <td>1000_309</td>\n",
       "      <td>1000</td>\n",
       "      <td>2018-12-28</td>\n",
       "      <td>5.76</td>\n",
       "    </tr>\n",
       "    <tr>\n",
       "      <th>4</th>\n",
       "      <td>1000_380</td>\n",
       "      <td>1000</td>\n",
       "      <td>2018-12-30</td>\n",
       "      <td>4.22</td>\n",
       "    </tr>\n",
       "  </tbody>\n",
       "</table>\n",
       "</div>"
      ],
      "text/plain": [
       "         id  user_id   call_date  duration\n",
       "0   1000_93     1000  2018-12-27      8.52\n",
       "1  1000_145     1000  2018-12-27     13.66\n",
       "2  1000_247     1000  2018-12-27     14.48\n",
       "3  1000_309     1000  2018-12-28      5.76\n",
       "4  1000_380     1000  2018-12-30      4.22"
      ]
     },
     "metadata": {},
     "output_type": "display_data"
    }
   ],
   "source": [
    "display(calls.head(5))"
   ]
  },
  {
   "cell_type": "code",
   "execution_count": 3085,
   "id": "e8c70efb-c01a-4ae2-9c2e-6df104aa848e",
   "metadata": {},
   "outputs": [
    {
     "data": {
      "text/plain": [
       "(137735, 4)"
      ]
     },
     "execution_count": 3085,
     "metadata": {},
     "output_type": "execute_result"
    }
   ],
   "source": [
    "calls.shape"
   ]
  },
  {
   "cell_type": "code",
   "execution_count": 3086,
   "id": "eab5bfe7-d86f-4590-b336-c29a7d8efdb7",
   "metadata": {},
   "outputs": [],
   "source": [
    "#There are 137,735 rows and 4 columns in the calls dataframe."
   ]
  },
  {
   "cell_type": "code",
   "execution_count": 3087,
   "id": "2d1797a9-1859-419c-b545-7f6231d8cd2e",
   "metadata": {},
   "outputs": [
    {
     "data": {
      "text/plain": [
       "Index(['id', 'user_id', 'call_date', 'duration'], dtype='object')"
      ]
     },
     "execution_count": 3087,
     "metadata": {},
     "output_type": "execute_result"
    }
   ],
   "source": [
    "calls.columns"
   ]
  },
  {
   "cell_type": "code",
   "execution_count": 3088,
   "id": "8eb19706-3aaf-4d67-a065-08ccd38fee84",
   "metadata": {},
   "outputs": [
    {
     "name": "stdout",
     "output_type": "stream",
     "text": [
      "<class 'pandas.core.frame.DataFrame'>\n",
      "RangeIndex: 137735 entries, 0 to 137734\n",
      "Data columns (total 4 columns):\n",
      " #   Column     Non-Null Count   Dtype  \n",
      "---  ------     --------------   -----  \n",
      " 0   id         137735 non-null  object \n",
      " 1   user_id    137735 non-null  int64  \n",
      " 2   call_date  137735 non-null  object \n",
      " 3   duration   137735 non-null  float64\n",
      "dtypes: float64(1), int64(1), object(2)\n",
      "memory usage: 4.2+ MB\n"
     ]
    }
   ],
   "source": [
    "calls.info()"
   ]
  },
  {
   "cell_type": "code",
   "execution_count": 3089,
   "id": "3ee72fc1-304c-4853-931f-593920026475",
   "metadata": {},
   "outputs": [
    {
     "data": {
      "text/html": [
       "<div style='color: hotpink;'><b>There are no missing rows in the Calls dataframe.</b></div>"
      ],
      "text/plain": [
       "<IPython.core.display.HTML object>"
      ]
     },
     "metadata": {},
     "output_type": "display_data"
    }
   ],
   "source": [
    "show_html_output(f\"There are no missing rows in the Calls dataframe.\")"
   ]
  },
  {
   "cell_type": "code",
   "execution_count": 3090,
   "id": "1e5c8b32-f945-41d8-9b55-cf24ffd4bab3",
   "metadata": {},
   "outputs": [],
   "source": [
    "# There is no missing data in the Calls dataframe.\n",
    "# call_date will need to change to type datetime\n",
    "# duration will have to be rounded up, to the nearest whole number\n",
    "# user_id will need to change to object data type.\n",
    "# id column name will need to change to call_id"
   ]
  },
  {
   "cell_type": "markdown",
   "id": "8d2b3692-a8cf-4e50-bd24-b34446de3408",
   "metadata": {},
   "source": [
    "### Clean the Calls dataframe"
   ]
  },
  {
   "cell_type": "code",
   "execution_count": 3092,
   "id": "665cc812-bbd1-4474-aeec-f076447b1485",
   "metadata": {},
   "outputs": [
    {
     "data": {
      "text/html": [
       "<div>\n",
       "<style scoped>\n",
       "    .dataframe tbody tr th:only-of-type {\n",
       "        vertical-align: middle;\n",
       "    }\n",
       "\n",
       "    .dataframe tbody tr th {\n",
       "        vertical-align: top;\n",
       "    }\n",
       "\n",
       "    .dataframe thead th {\n",
       "        text-align: right;\n",
       "    }\n",
       "</style>\n",
       "<table border=\"1\" class=\"dataframe\">\n",
       "  <thead>\n",
       "    <tr style=\"text-align: right;\">\n",
       "      <th></th>\n",
       "      <th>id</th>\n",
       "      <th>user_id</th>\n",
       "      <th>call_date</th>\n",
       "      <th>duration</th>\n",
       "    </tr>\n",
       "  </thead>\n",
       "  <tbody>\n",
       "    <tr>\n",
       "      <th>137727</th>\n",
       "      <td>1499_196</td>\n",
       "      <td>1499</td>\n",
       "      <td>11-22-18</td>\n",
       "      <td>0.27</td>\n",
       "    </tr>\n",
       "    <tr>\n",
       "      <th>137728</th>\n",
       "      <td>1499_197</td>\n",
       "      <td>1499</td>\n",
       "      <td>12-27-18</td>\n",
       "      <td>8.36</td>\n",
       "    </tr>\n",
       "    <tr>\n",
       "      <th>137729</th>\n",
       "      <td>1499_198</td>\n",
       "      <td>1499</td>\n",
       "      <td>10-26-18</td>\n",
       "      <td>6.41</td>\n",
       "    </tr>\n",
       "    <tr>\n",
       "      <th>137730</th>\n",
       "      <td>1499_199</td>\n",
       "      <td>1499</td>\n",
       "      <td>11-21-18</td>\n",
       "      <td>8.72</td>\n",
       "    </tr>\n",
       "    <tr>\n",
       "      <th>137731</th>\n",
       "      <td>1499_200</td>\n",
       "      <td>1499</td>\n",
       "      <td>10-20-18</td>\n",
       "      <td>10.89</td>\n",
       "    </tr>\n",
       "    <tr>\n",
       "      <th>137732</th>\n",
       "      <td>1499_201</td>\n",
       "      <td>1499</td>\n",
       "      <td>09-21-18</td>\n",
       "      <td>8.12</td>\n",
       "    </tr>\n",
       "    <tr>\n",
       "      <th>137733</th>\n",
       "      <td>1499_202</td>\n",
       "      <td>1499</td>\n",
       "      <td>10-10-18</td>\n",
       "      <td>0.37</td>\n",
       "    </tr>\n",
       "    <tr>\n",
       "      <th>137734</th>\n",
       "      <td>1499_203</td>\n",
       "      <td>1499</td>\n",
       "      <td>12-29-18</td>\n",
       "      <td>13.86</td>\n",
       "    </tr>\n",
       "  </tbody>\n",
       "</table>\n",
       "</div>"
      ],
      "text/plain": [
       "              id  user_id call_date  duration\n",
       "137727  1499_196     1499  11-22-18      0.27\n",
       "137728  1499_197     1499  12-27-18      8.36\n",
       "137729  1499_198     1499  10-26-18      6.41\n",
       "137730  1499_199     1499  11-21-18      8.72\n",
       "137731  1499_200     1499  10-20-18     10.89\n",
       "137732  1499_201     1499  09-21-18      8.12\n",
       "137733  1499_202     1499  10-10-18      0.37\n",
       "137734  1499_203     1499  12-29-18     13.86"
      ]
     },
     "metadata": {},
     "output_type": "display_data"
    }
   ],
   "source": [
    "# Change the call_date column to month first\n",
    "calls['call_date'] = pd.to_datetime(calls['call_date'])\n",
    "calls['call_date'] = calls['call_date'].dt.strftime('%m-%d-%y')\n",
    "display(calls.tail(8))"
   ]
  },
  {
   "cell_type": "code",
   "execution_count": 3093,
   "id": "d57cb49f-eee0-43a8-b49a-f1acd3553d34",
   "metadata": {},
   "outputs": [
    {
     "data": {
      "text/plain": [
       "id            object\n",
       "user_id        int64\n",
       "call_date     object\n",
       "duration     float64\n",
       "dtype: object"
      ]
     },
     "execution_count": 3093,
     "metadata": {},
     "output_type": "execute_result"
    }
   ],
   "source": [
    "calls.dtypes"
   ]
  },
  {
   "cell_type": "code",
   "execution_count": 3094,
   "id": "4b9370ac-0d13-4712-8e11-97a98d2dd6ec",
   "metadata": {},
   "outputs": [],
   "source": [
    "# Round up \n",
    "calls['duration'] = np.ceil(calls['duration'])"
   ]
  },
  {
   "cell_type": "code",
   "execution_count": 3095,
   "id": "3be684dc-c34f-4cb4-83d9-cc670a057ba1",
   "metadata": {},
   "outputs": [],
   "source": [
    "#Change datatype of duration to int\n",
    "calls['duration'] = calls['duration'].astype(int)"
   ]
  },
  {
   "cell_type": "code",
   "execution_count": 3096,
   "id": "c2b2695b-0dad-4e6d-90e0-2a93ca86598e",
   "metadata": {},
   "outputs": [
    {
     "name": "stdout",
     "output_type": "stream",
     "text": [
      "         id  user_id call_date  duration\n",
      "0   1000_93     1000  12-27-18         9\n",
      "1  1000_145     1000  12-27-18        14\n",
      "2  1000_247     1000  12-27-18        15\n",
      "3  1000_309     1000  12-28-18         6\n",
      "4  1000_380     1000  12-30-18         5\n"
     ]
    }
   ],
   "source": [
    "# check that the duration column was changed to type int\n",
    "print(calls.head(5))"
   ]
  },
  {
   "cell_type": "code",
   "execution_count": 3097,
   "id": "a2503ece-eb2a-4bd3-acbd-7c13f9259988",
   "metadata": {},
   "outputs": [],
   "source": [
    "calls['user_id'] = calls['user_id'].astype(object)"
   ]
  },
  {
   "cell_type": "code",
   "execution_count": 3098,
   "id": "07bac22b-55e2-49af-aad6-96a98c97d5b6",
   "metadata": {},
   "outputs": [
    {
     "data": {
      "text/plain": [
       "id           object\n",
       "user_id      object\n",
       "call_date    object\n",
       "duration      int64\n",
       "dtype: object"
      ]
     },
     "execution_count": 3098,
     "metadata": {},
     "output_type": "execute_result"
    }
   ],
   "source": [
    "calls.dtypes"
   ]
  },
  {
   "cell_type": "code",
   "execution_count": 3099,
   "id": "386a5aed-fc1e-4264-b134-3a7ea03695f3",
   "metadata": {},
   "outputs": [
    {
     "data": {
      "text/html": [
       "<div>\n",
       "<style scoped>\n",
       "    .dataframe tbody tr th:only-of-type {\n",
       "        vertical-align: middle;\n",
       "    }\n",
       "\n",
       "    .dataframe tbody tr th {\n",
       "        vertical-align: top;\n",
       "    }\n",
       "\n",
       "    .dataframe thead th {\n",
       "        text-align: right;\n",
       "    }\n",
       "</style>\n",
       "<table border=\"1\" class=\"dataframe\">\n",
       "  <thead>\n",
       "    <tr style=\"text-align: right;\">\n",
       "      <th></th>\n",
       "      <th>duration</th>\n",
       "    </tr>\n",
       "  </thead>\n",
       "  <tbody>\n",
       "    <tr>\n",
       "      <th>count</th>\n",
       "      <td>137735.000000</td>\n",
       "    </tr>\n",
       "    <tr>\n",
       "      <th>mean</th>\n",
       "      <td>7.146673</td>\n",
       "    </tr>\n",
       "    <tr>\n",
       "      <th>std</th>\n",
       "      <td>5.953919</td>\n",
       "    </tr>\n",
       "    <tr>\n",
       "      <th>min</th>\n",
       "      <td>0.000000</td>\n",
       "    </tr>\n",
       "    <tr>\n",
       "      <th>25%</th>\n",
       "      <td>2.000000</td>\n",
       "    </tr>\n",
       "    <tr>\n",
       "      <th>50%</th>\n",
       "      <td>6.000000</td>\n",
       "    </tr>\n",
       "    <tr>\n",
       "      <th>75%</th>\n",
       "      <td>11.000000</td>\n",
       "    </tr>\n",
       "    <tr>\n",
       "      <th>max</th>\n",
       "      <td>38.000000</td>\n",
       "    </tr>\n",
       "  </tbody>\n",
       "</table>\n",
       "</div>"
      ],
      "text/plain": [
       "            duration\n",
       "count  137735.000000\n",
       "mean        7.146673\n",
       "std         5.953919\n",
       "min         0.000000\n",
       "25%         2.000000\n",
       "50%         6.000000\n",
       "75%        11.000000\n",
       "max        38.000000"
      ]
     },
     "execution_count": 3099,
     "metadata": {},
     "output_type": "execute_result"
    }
   ],
   "source": [
    "calls.describe()"
   ]
  },
  {
   "cell_type": "code",
   "execution_count": 3100,
   "id": "ccd8f9db-aca7-4131-83ea-a25d41bed1b7",
   "metadata": {},
   "outputs": [
    {
     "data": {
      "text/html": [
       "<div>\n",
       "<style scoped>\n",
       "    .dataframe tbody tr th:only-of-type {\n",
       "        vertical-align: middle;\n",
       "    }\n",
       "\n",
       "    .dataframe tbody tr th {\n",
       "        vertical-align: top;\n",
       "    }\n",
       "\n",
       "    .dataframe thead th {\n",
       "        text-align: right;\n",
       "    }\n",
       "</style>\n",
       "<table border=\"1\" class=\"dataframe\">\n",
       "  <thead>\n",
       "    <tr style=\"text-align: right;\">\n",
       "      <th></th>\n",
       "      <th>call_id</th>\n",
       "      <th>user_id</th>\n",
       "      <th>call_date</th>\n",
       "      <th>duration</th>\n",
       "    </tr>\n",
       "  </thead>\n",
       "  <tbody>\n",
       "    <tr>\n",
       "      <th>137727</th>\n",
       "      <td>1499_196</td>\n",
       "      <td>1499</td>\n",
       "      <td>11-22-18</td>\n",
       "      <td>1</td>\n",
       "    </tr>\n",
       "    <tr>\n",
       "      <th>137728</th>\n",
       "      <td>1499_197</td>\n",
       "      <td>1499</td>\n",
       "      <td>12-27-18</td>\n",
       "      <td>9</td>\n",
       "    </tr>\n",
       "    <tr>\n",
       "      <th>137729</th>\n",
       "      <td>1499_198</td>\n",
       "      <td>1499</td>\n",
       "      <td>10-26-18</td>\n",
       "      <td>7</td>\n",
       "    </tr>\n",
       "    <tr>\n",
       "      <th>137730</th>\n",
       "      <td>1499_199</td>\n",
       "      <td>1499</td>\n",
       "      <td>11-21-18</td>\n",
       "      <td>9</td>\n",
       "    </tr>\n",
       "    <tr>\n",
       "      <th>137731</th>\n",
       "      <td>1499_200</td>\n",
       "      <td>1499</td>\n",
       "      <td>10-20-18</td>\n",
       "      <td>11</td>\n",
       "    </tr>\n",
       "    <tr>\n",
       "      <th>137732</th>\n",
       "      <td>1499_201</td>\n",
       "      <td>1499</td>\n",
       "      <td>09-21-18</td>\n",
       "      <td>9</td>\n",
       "    </tr>\n",
       "    <tr>\n",
       "      <th>137733</th>\n",
       "      <td>1499_202</td>\n",
       "      <td>1499</td>\n",
       "      <td>10-10-18</td>\n",
       "      <td>1</td>\n",
       "    </tr>\n",
       "    <tr>\n",
       "      <th>137734</th>\n",
       "      <td>1499_203</td>\n",
       "      <td>1499</td>\n",
       "      <td>12-29-18</td>\n",
       "      <td>14</td>\n",
       "    </tr>\n",
       "  </tbody>\n",
       "</table>\n",
       "</div>"
      ],
      "text/plain": [
       "         call_id user_id call_date  duration\n",
       "137727  1499_196    1499  11-22-18         1\n",
       "137728  1499_197    1499  12-27-18         9\n",
       "137729  1499_198    1499  10-26-18         7\n",
       "137730  1499_199    1499  11-21-18         9\n",
       "137731  1499_200    1499  10-20-18        11\n",
       "137732  1499_201    1499  09-21-18         9\n",
       "137733  1499_202    1499  10-10-18         1\n",
       "137734  1499_203    1499  12-29-18        14"
      ]
     },
     "metadata": {},
     "output_type": "display_data"
    }
   ],
   "source": [
    "# Rename the id column\n",
    "calls = calls.rename(columns={'id': 'call_id'})\n",
    "display(calls.tail(8))"
   ]
  },
  {
   "cell_type": "code",
   "execution_count": 3101,
   "id": "6474c5f6-3bfe-44fa-bb83-b7c79601dbdc",
   "metadata": {},
   "outputs": [
    {
     "name": "stdout",
     "output_type": "stream",
     "text": [
      "Sample of 10 rows:\n",
      "         call_id user_id call_date  duration\n",
      "63762   1231_476    1231  11-19-18         1\n",
      "120474   1420_44    1420  09-06-18        16\n",
      "18636   1071_486    1071  06-18-18         0\n",
      "13565   1057_444    1057  10-28-18         9\n",
      "98738    1354_70    1354  12-15-18         7\n",
      "85868   1316_113    1316  11-29-18        12\n",
      "22728   1082_857    1082  10-29-18         4\n",
      "123221  1434_571    1434  04-17-18        15\n",
      "60295   1217_116    1217  11-15-18        19\n",
      "136770  1495_220    1495  12-06-18         4\n"
     ]
    }
   ],
   "source": [
    "# Print a sample of a fixed number of rows \n",
    "print(\"Sample of 10 rows:\")\n",
    "print(calls.sample(10))"
   ]
  },
  {
   "cell_type": "markdown",
   "id": "582e8913-9e2a-4199-89e7-6682db08e376",
   "metadata": {},
   "source": [
    "<div class=\"alert alert-info\"><font color='hotpink'>\n",
    "<b>Cleaning the Calls dataframe:</b>\n",
    "<br>\n",
    "- There are 137,735 rows in the dataframe, and there is no missing data.\n",
    "<br>\n",
    "- I renamed the id column to be call_id, to distinguish it from the id columns in the messages and internet dataframes.\n",
    "<br>\n",
    "- I changed the call_date column to date time, using the to_datetime function.\n",
    "<br>\n",
    "- I used dt.strftime to change the order of the output, so that it prints as mm-dd-yy, to match the reg_date column of the users database.\n",
    "<br>\n",
    "- I used np.ceil function to round up the duration column to the nearest whole number, to match the phone company's rules of their plans.\n",
    "<br>\n",
    "- I added import numpy up above, at the top of the project, to accomodate the np.ceil function.\n",
    "<br>\n",
    "- I changed the data type of the duration column to int, because all that data has already been rounded up, and also, the phone plans require whole numbers for duration of call.\n",
    "<br>\n",
    "- I changed the data type of user_id to object. I am not planning on doing math on this column, as that would make no sense. \n",
    "<br>\n",
    "- I used describe to get the average duration of phone calls. The avg is 7 minutes.\n",
    "<br>\n",
    "- I printed out a sample of the Calls dataframe, to make sure that everything looks fine.\n",
    "</div></font color>"
   ]
  },
  {
   "cell_type": "code",
   "execution_count": null,
   "id": "e5c9facc-3512-4602-a8cc-75915a62e27e",
   "metadata": {},
   "outputs": [],
   "source": []
  },
  {
   "cell_type": "markdown",
   "id": "16349ce5-5af7-4a39-a67b-5754de6abf18",
   "metadata": {},
   "source": [
    "## <span style=\"color: hotpink;\">Messages dataframe</span>"
   ]
  },
  {
   "cell_type": "markdown",
   "id": "5c2adf0f-cfd6-4f74-9572-b2e9d59c16fd",
   "metadata": {},
   "source": [
    "### Inspect the data"
   ]
  },
  {
   "cell_type": "code",
   "execution_count": 3105,
   "id": "85c8d9ee-ded5-4e5d-9bf3-638a4e1054d4",
   "metadata": {},
   "outputs": [
    {
     "data": {
      "text/html": [
       "<div>\n",
       "<style scoped>\n",
       "    .dataframe tbody tr th:only-of-type {\n",
       "        vertical-align: middle;\n",
       "    }\n",
       "\n",
       "    .dataframe tbody tr th {\n",
       "        vertical-align: top;\n",
       "    }\n",
       "\n",
       "    .dataframe thead th {\n",
       "        text-align: right;\n",
       "    }\n",
       "</style>\n",
       "<table border=\"1\" class=\"dataframe\">\n",
       "  <thead>\n",
       "    <tr style=\"text-align: right;\">\n",
       "      <th></th>\n",
       "      <th>id</th>\n",
       "      <th>user_id</th>\n",
       "      <th>message_date</th>\n",
       "    </tr>\n",
       "  </thead>\n",
       "  <tbody>\n",
       "    <tr>\n",
       "      <th>0</th>\n",
       "      <td>1000_125</td>\n",
       "      <td>1000</td>\n",
       "      <td>2018-12-27</td>\n",
       "    </tr>\n",
       "    <tr>\n",
       "      <th>1</th>\n",
       "      <td>1000_160</td>\n",
       "      <td>1000</td>\n",
       "      <td>2018-12-31</td>\n",
       "    </tr>\n",
       "    <tr>\n",
       "      <th>2</th>\n",
       "      <td>1000_223</td>\n",
       "      <td>1000</td>\n",
       "      <td>2018-12-31</td>\n",
       "    </tr>\n",
       "    <tr>\n",
       "      <th>3</th>\n",
       "      <td>1000_251</td>\n",
       "      <td>1000</td>\n",
       "      <td>2018-12-27</td>\n",
       "    </tr>\n",
       "    <tr>\n",
       "      <th>4</th>\n",
       "      <td>1000_255</td>\n",
       "      <td>1000</td>\n",
       "      <td>2018-12-26</td>\n",
       "    </tr>\n",
       "  </tbody>\n",
       "</table>\n",
       "</div>"
      ],
      "text/plain": [
       "         id  user_id message_date\n",
       "0  1000_125     1000   2018-12-27\n",
       "1  1000_160     1000   2018-12-31\n",
       "2  1000_223     1000   2018-12-31\n",
       "3  1000_251     1000   2018-12-27\n",
       "4  1000_255     1000   2018-12-26"
      ]
     },
     "metadata": {},
     "output_type": "display_data"
    }
   ],
   "source": [
    "display(messages.head(5))"
   ]
  },
  {
   "cell_type": "code",
   "execution_count": 3106,
   "id": "9c351d34-5078-48b8-bc2e-ec35389282cb",
   "metadata": {},
   "outputs": [
    {
     "data": {
      "text/plain": [
       "(76051, 3)"
      ]
     },
     "execution_count": 3106,
     "metadata": {},
     "output_type": "execute_result"
    }
   ],
   "source": [
    "messages.shape"
   ]
  },
  {
   "cell_type": "code",
   "execution_count": 3107,
   "id": "91288d96-6aa3-4fd1-b696-824f81daac4f",
   "metadata": {},
   "outputs": [
    {
     "data": {
      "text/plain": [
       "Index(['id', 'user_id', 'message_date'], dtype='object')"
      ]
     },
     "execution_count": 3107,
     "metadata": {},
     "output_type": "execute_result"
    }
   ],
   "source": [
    "messages.columns"
   ]
  },
  {
   "cell_type": "code",
   "execution_count": 3108,
   "id": "5ee8ce8c-38d4-48ea-ae79-f72cf8838343",
   "metadata": {},
   "outputs": [
    {
     "name": "stdout",
     "output_type": "stream",
     "text": [
      "<class 'pandas.core.frame.DataFrame'>\n",
      "RangeIndex: 76051 entries, 0 to 76050\n",
      "Data columns (total 3 columns):\n",
      " #   Column        Non-Null Count  Dtype \n",
      "---  ------        --------------  ----- \n",
      " 0   id            76051 non-null  object\n",
      " 1   user_id       76051 non-null  int64 \n",
      " 2   message_date  76051 non-null  object\n",
      "dtypes: int64(1), object(2)\n",
      "memory usage: 1.7+ MB\n"
     ]
    }
   ],
   "source": [
    "messages.info()"
   ]
  },
  {
   "cell_type": "code",
   "execution_count": 3109,
   "id": "f0875b84-dd09-4b75-b1b4-3a9092c83639",
   "metadata": {},
   "outputs": [
    {
     "data": {
      "text/html": [
       "<div style='color: hotpink;'><b>There are no missing rows in the Messages dataframe.</b></div>"
      ],
      "text/plain": [
       "<IPython.core.display.HTML object>"
      ]
     },
     "metadata": {},
     "output_type": "display_data"
    }
   ],
   "source": [
    "show_html_output(f\"There are no missing rows in the Messages dataframe.\")"
   ]
  },
  {
   "cell_type": "code",
   "execution_count": 3110,
   "id": "4e7e3c04-5fb5-45c4-9737-b8a7894cc0b3",
   "metadata": {},
   "outputs": [],
   "source": [
    "# There is no missing data.\n",
    "# message_date will have to change to date time type.\n",
    "# Need to change name of message_date to a shorter name\n",
    "# Need to change name of 'id' column."
   ]
  },
  {
   "cell_type": "code",
   "execution_count": 3111,
   "id": "bc8466e3-c167-4a93-90b5-5ef1b7f19236",
   "metadata": {},
   "outputs": [
    {
     "name": "stdout",
     "output_type": "stream",
     "text": [
      "             id  user_id message_date\n",
      "18361  1120_135     1120   2018-04-18\n",
      "17059  1113_132     1113   2018-10-04\n",
      "4226   1043_328     1043   2018-07-12\n",
      "51928  1335_519     1335   2018-12-19\n",
      "40802  1261_471     1261   2018-12-24\n",
      "40784  1261_453     1261   2018-04-04\n",
      "74516   1478_44     1478   2018-12-29\n",
      "7152    1059_22     1059   2018-05-03\n",
      "3472   1036_307     1036   2018-12-02\n",
      "32547  1203_192     1203   2018-11-19\n"
     ]
    }
   ],
   "source": [
    "print(messages.sample(10))"
   ]
  },
  {
   "cell_type": "markdown",
   "id": "c764a84b-1225-4969-a0f6-535b4d8abe9a",
   "metadata": {},
   "source": [
    "### Clean the Messages dataframe"
   ]
  },
  {
   "cell_type": "code",
   "execution_count": 3113,
   "id": "74ec93f7-52f3-409f-beb9-a62a65dca822",
   "metadata": {},
   "outputs": [
    {
     "name": "stdout",
     "output_type": "stream",
     "text": [
      "<class 'pandas.core.frame.DataFrame'>\n",
      "RangeIndex: 76051 entries, 0 to 76050\n",
      "Data columns (total 3 columns):\n",
      " #   Column        Non-Null Count  Dtype \n",
      "---  ------        --------------  ----- \n",
      " 0   id            76051 non-null  object\n",
      " 1   user_id       76051 non-null  object\n",
      " 2   message_date  76051 non-null  object\n",
      "dtypes: object(3)\n",
      "memory usage: 1.7+ MB\n"
     ]
    }
   ],
   "source": [
    "messages['user_id'] = messages['user_id'].astype(object)\n",
    "messages.info()"
   ]
  },
  {
   "cell_type": "code",
   "execution_count": 3114,
   "id": "19c60a39-9f28-4988-b3dc-5e2066829d7d",
   "metadata": {},
   "outputs": [],
   "source": [
    "# Change the call_date column to month first\n",
    "messages['message_date'] = pd.to_datetime(messages['message_date'])\n",
    "messages['message_date'] = messages['message_date'].dt.strftime('%m-%d-%y')"
   ]
  },
  {
   "cell_type": "code",
   "execution_count": 3115,
   "id": "f124e5e4-5efc-44eb-b78c-10ecf6f02250",
   "metadata": {},
   "outputs": [],
   "source": [
    "# Rename the message_date column\n",
    "messages = messages.rename(columns={'message_date': 'msg_date'})"
   ]
  },
  {
   "cell_type": "code",
   "execution_count": 3116,
   "id": "2db40af4-3710-44dd-b1b8-6d7f89f461b8",
   "metadata": {},
   "outputs": [
    {
     "data": {
      "text/html": [
       "<div>\n",
       "<style scoped>\n",
       "    .dataframe tbody tr th:only-of-type {\n",
       "        vertical-align: middle;\n",
       "    }\n",
       "\n",
       "    .dataframe tbody tr th {\n",
       "        vertical-align: top;\n",
       "    }\n",
       "\n",
       "    .dataframe thead th {\n",
       "        text-align: right;\n",
       "    }\n",
       "</style>\n",
       "<table border=\"1\" class=\"dataframe\">\n",
       "  <thead>\n",
       "    <tr style=\"text-align: right;\">\n",
       "      <th></th>\n",
       "      <th>msg_id</th>\n",
       "      <th>user_id</th>\n",
       "      <th>msg_date</th>\n",
       "    </tr>\n",
       "  </thead>\n",
       "  <tbody>\n",
       "    <tr>\n",
       "      <th>76041</th>\n",
       "      <td>1497_502</td>\n",
       "      <td>1497</td>\n",
       "      <td>12-30-18</td>\n",
       "    </tr>\n",
       "    <tr>\n",
       "      <th>76042</th>\n",
       "      <td>1497_503</td>\n",
       "      <td>1497</td>\n",
       "      <td>12-29-18</td>\n",
       "    </tr>\n",
       "    <tr>\n",
       "      <th>76043</th>\n",
       "      <td>1497_507</td>\n",
       "      <td>1497</td>\n",
       "      <td>12-23-18</td>\n",
       "    </tr>\n",
       "    <tr>\n",
       "      <th>76044</th>\n",
       "      <td>1497_517</td>\n",
       "      <td>1497</td>\n",
       "      <td>12-17-18</td>\n",
       "    </tr>\n",
       "    <tr>\n",
       "      <th>76045</th>\n",
       "      <td>1497_524</td>\n",
       "      <td>1497</td>\n",
       "      <td>12-12-18</td>\n",
       "    </tr>\n",
       "    <tr>\n",
       "      <th>76046</th>\n",
       "      <td>1497_526</td>\n",
       "      <td>1497</td>\n",
       "      <td>12-24-18</td>\n",
       "    </tr>\n",
       "    <tr>\n",
       "      <th>76047</th>\n",
       "      <td>1497_536</td>\n",
       "      <td>1497</td>\n",
       "      <td>12-24-18</td>\n",
       "    </tr>\n",
       "    <tr>\n",
       "      <th>76048</th>\n",
       "      <td>1497_547</td>\n",
       "      <td>1497</td>\n",
       "      <td>12-31-18</td>\n",
       "    </tr>\n",
       "    <tr>\n",
       "      <th>76049</th>\n",
       "      <td>1497_558</td>\n",
       "      <td>1497</td>\n",
       "      <td>12-24-18</td>\n",
       "    </tr>\n",
       "    <tr>\n",
       "      <th>76050</th>\n",
       "      <td>1497_613</td>\n",
       "      <td>1497</td>\n",
       "      <td>12-23-18</td>\n",
       "    </tr>\n",
       "  </tbody>\n",
       "</table>\n",
       "</div>"
      ],
      "text/plain": [
       "         msg_id user_id  msg_date\n",
       "76041  1497_502    1497  12-30-18\n",
       "76042  1497_503    1497  12-29-18\n",
       "76043  1497_507    1497  12-23-18\n",
       "76044  1497_517    1497  12-17-18\n",
       "76045  1497_524    1497  12-12-18\n",
       "76046  1497_526    1497  12-24-18\n",
       "76047  1497_536    1497  12-24-18\n",
       "76048  1497_547    1497  12-31-18\n",
       "76049  1497_558    1497  12-24-18\n",
       "76050  1497_613    1497  12-23-18"
      ]
     },
     "metadata": {},
     "output_type": "display_data"
    }
   ],
   "source": [
    "# Rename the id column\n",
    "messages = messages.rename(columns={'id': 'msg_id'})\n",
    "display(messages.tail(10))"
   ]
  },
  {
   "cell_type": "markdown",
   "id": "368cd8b0-e126-4877-b539-8fe926f02bc7",
   "metadata": {},
   "source": [
    "<div class=\"alert alert-info\"><font color='hotpink'>\n",
    "<b>Cleaning the Messages dataframe:</b>\n",
    "<br>\n",
    "- I used .info() to find that there are 76051 rows in the dataframe, and there is no missing data.\n",
    "<br>\n",
    "- I changed the message_date column to date time, using the to_datetime function, and dt.strftime, so that it matches the date format of the other dataframes.\n",
    "<br>\n",
    "- I changed the message_date column to a shorter name.\n",
    "<br>\n",
    "- I changed the data type of the user_id column to object, because there is no need to do math on this column.\n",
    "<br>\n",
    "- I changed the name of the 'id' column to 'msg_id' to make it more descriptive, and to distinguish it from user_id.\n",
    "</div></font color>"
   ]
  },
  {
   "cell_type": "code",
   "execution_count": null,
   "id": "e0054fcb-669a-405d-a565-7aa6f214a47d",
   "metadata": {},
   "outputs": [],
   "source": []
  },
  {
   "cell_type": "markdown",
   "id": "0a828d68-6c60-4148-ac59-6c28c6d27b72",
   "metadata": {},
   "source": [
    "## <span style=\"color: hotpink;\">Internet dataframe</span>"
   ]
  },
  {
   "cell_type": "markdown",
   "id": "82b1e1e7-8879-40b9-8a2d-aeef874a2200",
   "metadata": {},
   "source": [
    "### Inspect the data"
   ]
  },
  {
   "cell_type": "code",
   "execution_count": 3120,
   "id": "b90ece91-df01-4373-a9a5-7ae4b02b4761",
   "metadata": {},
   "outputs": [
    {
     "data": {
      "text/html": [
       "<div>\n",
       "<style scoped>\n",
       "    .dataframe tbody tr th:only-of-type {\n",
       "        vertical-align: middle;\n",
       "    }\n",
       "\n",
       "    .dataframe tbody tr th {\n",
       "        vertical-align: top;\n",
       "    }\n",
       "\n",
       "    .dataframe thead th {\n",
       "        text-align: right;\n",
       "    }\n",
       "</style>\n",
       "<table border=\"1\" class=\"dataframe\">\n",
       "  <thead>\n",
       "    <tr style=\"text-align: right;\">\n",
       "      <th></th>\n",
       "      <th>id</th>\n",
       "      <th>user_id</th>\n",
       "      <th>session_date</th>\n",
       "      <th>mb_used</th>\n",
       "    </tr>\n",
       "  </thead>\n",
       "  <tbody>\n",
       "    <tr>\n",
       "      <th>0</th>\n",
       "      <td>1000_13</td>\n",
       "      <td>1000</td>\n",
       "      <td>2018-12-29</td>\n",
       "      <td>89.86</td>\n",
       "    </tr>\n",
       "    <tr>\n",
       "      <th>1</th>\n",
       "      <td>1000_204</td>\n",
       "      <td>1000</td>\n",
       "      <td>2018-12-31</td>\n",
       "      <td>0.00</td>\n",
       "    </tr>\n",
       "    <tr>\n",
       "      <th>2</th>\n",
       "      <td>1000_379</td>\n",
       "      <td>1000</td>\n",
       "      <td>2018-12-28</td>\n",
       "      <td>660.40</td>\n",
       "    </tr>\n",
       "    <tr>\n",
       "      <th>3</th>\n",
       "      <td>1000_413</td>\n",
       "      <td>1000</td>\n",
       "      <td>2018-12-26</td>\n",
       "      <td>270.99</td>\n",
       "    </tr>\n",
       "    <tr>\n",
       "      <th>4</th>\n",
       "      <td>1000_442</td>\n",
       "      <td>1000</td>\n",
       "      <td>2018-12-27</td>\n",
       "      <td>880.22</td>\n",
       "    </tr>\n",
       "  </tbody>\n",
       "</table>\n",
       "</div>"
      ],
      "text/plain": [
       "         id  user_id session_date  mb_used\n",
       "0   1000_13     1000   2018-12-29    89.86\n",
       "1  1000_204     1000   2018-12-31     0.00\n",
       "2  1000_379     1000   2018-12-28   660.40\n",
       "3  1000_413     1000   2018-12-26   270.99\n",
       "4  1000_442     1000   2018-12-27   880.22"
      ]
     },
     "metadata": {},
     "output_type": "display_data"
    }
   ],
   "source": [
    "display(internet.head(5))"
   ]
  },
  {
   "cell_type": "code",
   "execution_count": 3121,
   "id": "daa74009-1e22-4951-8c29-886929695893",
   "metadata": {},
   "outputs": [],
   "source": [
    "# id column needs to be renamed to 'int_id'.\n",
    "# mb_used needs to be renamed to gb_used"
   ]
  },
  {
   "cell_type": "code",
   "execution_count": 3122,
   "id": "6121f7f0-63b6-4f92-95c8-8fdb92631454",
   "metadata": {},
   "outputs": [
    {
     "data": {
      "text/plain": [
       "(104825, 4)"
      ]
     },
     "execution_count": 3122,
     "metadata": {},
     "output_type": "execute_result"
    }
   ],
   "source": [
    "internet.shape"
   ]
  },
  {
   "cell_type": "code",
   "execution_count": 3123,
   "id": "d8db09de-79ee-4a36-95ee-29e1a4e78d44",
   "metadata": {},
   "outputs": [],
   "source": [
    "# There are 104,825 columns, and 4 rows."
   ]
  },
  {
   "cell_type": "code",
   "execution_count": 3124,
   "id": "103f16ed-05d6-49a4-85e8-48b8b1cef5d3",
   "metadata": {},
   "outputs": [
    {
     "data": {
      "text/plain": [
       "Index(['id', 'user_id', 'session_date', 'mb_used'], dtype='object')"
      ]
     },
     "execution_count": 3124,
     "metadata": {},
     "output_type": "execute_result"
    }
   ],
   "source": [
    "internet.columns"
   ]
  },
  {
   "cell_type": "code",
   "execution_count": 3125,
   "id": "6d1e9762-a7b0-433a-a25d-c5938de6c2e9",
   "metadata": {},
   "outputs": [
    {
     "name": "stdout",
     "output_type": "stream",
     "text": [
      "<class 'pandas.core.frame.DataFrame'>\n",
      "RangeIndex: 104825 entries, 0 to 104824\n",
      "Data columns (total 4 columns):\n",
      " #   Column        Non-Null Count   Dtype  \n",
      "---  ------        --------------   -----  \n",
      " 0   id            104825 non-null  object \n",
      " 1   user_id       104825 non-null  int64  \n",
      " 2   session_date  104825 non-null  object \n",
      " 3   mb_used       104825 non-null  float64\n",
      "dtypes: float64(1), int64(1), object(2)\n",
      "memory usage: 3.2+ MB\n"
     ]
    }
   ],
   "source": [
    "internet.info()"
   ]
  },
  {
   "cell_type": "code",
   "execution_count": 3126,
   "id": "7612e608-4a4a-45f0-879b-c1611ad00cad",
   "metadata": {},
   "outputs": [],
   "source": [
    "# There are no missing rows.\n",
    "# user_id datatype should be changed to object\n",
    "# session_date needs to change to type date time"
   ]
  },
  {
   "cell_type": "code",
   "execution_count": 3127,
   "id": "18784066-2451-4692-ad36-5b8ae9b02b91",
   "metadata": {},
   "outputs": [],
   "source": [
    "#mb_used needs to be converted from megabytes to gigabytes."
   ]
  },
  {
   "cell_type": "markdown",
   "id": "04fdabb3-cf52-4750-8668-da75ea173ed1",
   "metadata": {},
   "source": [
    "### Clean the Internet dataframe"
   ]
  },
  {
   "cell_type": "code",
   "execution_count": 3129,
   "id": "4cc49e0a-b863-49e6-9c8e-3ffdadb2a800",
   "metadata": {},
   "outputs": [
    {
     "name": "stdout",
     "output_type": "stream",
     "text": [
      "id              0\n",
      "user_id         0\n",
      "session_date    0\n",
      "mb_used         0\n",
      "dtype: int64\n"
     ]
    }
   ],
   "source": [
    "# double check for missing values in the Internet dataframe\n",
    "missing_internet_rows = internet.isna().sum()\n",
    "print(missing_internet_rows)"
   ]
  },
  {
   "cell_type": "code",
   "execution_count": 3130,
   "id": "eb941f06-f530-4d10-a687-11254796312d",
   "metadata": {},
   "outputs": [
    {
     "data": {
      "text/html": [
       "<div style='color: hotpink;'><b>There are no missing rows in the Internet dataframe.</b></div>"
      ],
      "text/plain": [
       "<IPython.core.display.HTML object>"
      ]
     },
     "metadata": {},
     "output_type": "display_data"
    }
   ],
   "source": [
    "show_html_output(f\"There are no missing rows in the Internet dataframe.\")"
   ]
  },
  {
   "cell_type": "code",
   "execution_count": 3131,
   "id": "285cdeda-adcd-41a1-b9b8-ef0c3b752ede",
   "metadata": {},
   "outputs": [],
   "source": [
    "# Rename the id column\n",
    "internet = internet.rename(columns={'id': 'int_id'})"
   ]
  },
  {
   "cell_type": "code",
   "execution_count": 3132,
   "id": "9a50fb43-ef5e-4eaf-a63b-4276c19ab888",
   "metadata": {},
   "outputs": [],
   "source": [
    "# Rename the mb_used column\n",
    "internet = internet.rename(columns={'mb_used': 'gb_used'})"
   ]
  },
  {
   "cell_type": "code",
   "execution_count": 3133,
   "id": "72358f75-9f71-40b6-a15d-d088f22094d8",
   "metadata": {},
   "outputs": [],
   "source": [
    "#Change data type of user_id to object\n",
    "internet['user_id'] = internet['user_id'].astype(object)"
   ]
  },
  {
   "cell_type": "code",
   "execution_count": 3134,
   "id": "0907c667-ed1a-4d45-8db2-c39e2ff825ff",
   "metadata": {},
   "outputs": [],
   "source": [
    "# Change session_date to type date time.\n",
    "# Change the session_date column to month first\n",
    "internet['session_date'] = pd.to_datetime(internet['session_date'])\n",
    "internet['session_date'] = internet['session_date'].dt.strftime('%m-%d-%y')"
   ]
  },
  {
   "cell_type": "code",
   "execution_count": 3135,
   "id": "c208bcf1-dfd2-46a5-9640-9e64b0d3223a",
   "metadata": {},
   "outputs": [
    {
     "data": {
      "text/html": [
       "<div style='color: hotpink;'><b>Convert megabytes to gigabytes.</b></div>"
      ],
      "text/plain": [
       "<IPython.core.display.HTML object>"
      ]
     },
     "metadata": {},
     "output_type": "display_data"
    }
   ],
   "source": [
    "show_html_output(f\"Convert megabytes to gigabytes.\")"
   ]
  },
  {
   "cell_type": "code",
   "execution_count": 3136,
   "id": "c60dfa6c-f79e-44fd-8c1e-c39f6c936ec3",
   "metadata": {},
   "outputs": [],
   "source": [
    "internet['gb_used'] = internet['gb_used']  * .001"
   ]
  },
  {
   "cell_type": "code",
   "execution_count": 3137,
   "id": "789d2bc1-cb4d-45b4-9d67-c339b0b259d4",
   "metadata": {},
   "outputs": [
    {
     "name": "stdout",
     "output_type": "stream",
     "text": [
      "         int_id user_id session_date  gb_used\n",
      "98585   1466_66    1466     08-23-18  0.25750\n",
      "16432  1073_371    1073     11-01-18  0.15360\n",
      "98402  1465_320    1465     11-08-18  0.09503\n"
     ]
    }
   ],
   "source": [
    "# Print a sample of data for the internet traffic\n",
    "print(internet.sample(3))"
   ]
  },
  {
   "cell_type": "code",
   "execution_count": 3138,
   "id": "c08bb1fa-f3c9-4a7b-829f-9c6207868270",
   "metadata": {},
   "outputs": [
    {
     "name": "stdout",
     "output_type": "stream",
     "text": [
      "         int_id user_id session_date  gb_used\n",
      "75258  1354_123    1354     09-04-18  0.89558\n",
      "33681  1153_183    1153     07-14-18  0.19330\n",
      "74720   1352_96    1352     12-05-18  0.23771\n",
      "76376   1359_53    1359     10-23-18  0.74837\n",
      "82768   1386_83    1386     12-30-18  0.08480\n",
      "6769    1039_44    1039     12-22-18  0.21657\n",
      "53841  1243_143    1243     11-20-18  0.17489\n",
      "14925   1068_41    1068     06-10-18  0.39645\n",
      "19163  1085_237    1085     10-03-18  0.46433\n",
      "41829    1187_6    1187     11-23-18  0.00000\n"
     ]
    }
   ],
   "source": [
    "print(internet.sample(10))"
   ]
  },
  {
   "cell_type": "markdown",
   "id": "c1846c68-a672-4088-8663-18a164d2c874",
   "metadata": {},
   "source": [
    "<div class=\"alert alert-info\"><font color='hotpink'>\n",
    "<b>Cleaning the Internet dataframe:</b>\n",
    "<br>\n",
    "- I renamed the id column to int_id to distinguish it from id columns in the calls, and messages dataframes.\n",
    "<br>\n",
    "- I renamed the mb_used column, to gb_used, because Megaline charges customers per GB, not per MB.\n",
    "<br>\n",
    "- I multiplied all items in the gb_used column, by .001, to convert the data from megabytes to gigabytes, because Megaline charges per gigabyte. \n",
    "<br>\n",
    "- I changed use_id to type object, because I will not need to do math on this column.\n",
    "<br>\n",
    "- I used to_datetime and dt.strftime to change the output of the session_date column to print month first, to match the format of the other date columns in the other dataframes.\n",
    "</font color></div>"
   ]
  },
  {
   "cell_type": "code",
   "execution_count": null,
   "id": "81d43a88-9e29-40a0-b231-7fc2c8cc1a6f",
   "metadata": {},
   "outputs": [],
   "source": []
  },
  {
   "cell_type": "markdown",
   "id": "9a6c2b83-dfba-43ce-9dae-7542ae412a8b",
   "metadata": {},
   "source": [
    "<h2 style=\"color: red;\">Study plan conditions</h2>"
   ]
  },
  {
   "cell_type": "code",
   "execution_count": 3141,
   "id": "e543d5c2-5874-4685-9e46-8716f8d7121a",
   "metadata": {},
   "outputs": [
    {
     "data": {
      "text/html": [
       "<div style='color: hotpink;'><b>These are the conditions of the two plans:</b></div>"
      ],
      "text/plain": [
       "<IPython.core.display.HTML object>"
      ]
     },
     "metadata": {},
     "output_type": "display_data"
    }
   ],
   "source": [
    "show_html_output(f\"These are the conditions of the two plans:\")"
   ]
  },
  {
   "cell_type": "markdown",
   "id": "bec9fd04-8db0-40aa-bab5-754c0a887c1f",
   "metadata": {},
   "source": [
    "<div class=\"alert alert-info\"><font color='hotpink'>\n",
    "<b>Surf plan:</b>\n",
    "<br>\n",
    "- \\$20 base charge per month.\n",
    "<br>\n",
    "- 50 text messages are included per month. Go over that, and you pay 3 cents per extra message.\n",
    "<br>\n",
    "- 15.3 GB included per month. Go over that, and you pay $10 per extra GB.\n",
    "<br>\n",
    "- 500 call minutes included per month. Go over that, and you pay 3 cents per extra minute. \n",
    "</font color></div>"
   ]
  },
  {
   "cell_type": "markdown",
   "id": "2537f834-5371-4a3f-a8e1-4d597a6b7429",
   "metadata": {},
   "source": [
    "<div class=\"alert alert-info\"><font color='hotpink'>\n",
    "<b>Ultimate plan:</b>\n",
    "<br>\n",
    "- \\$70 base charge per month.\n",
    "<br>\n",
    "- 1000 text messages are included per month. Go over that, and you pay 1 cent per extra message.\n",
    "<br>\n",
    "- 30.7 GB included per month. Go over that, and you pay $7 per extra GB.\n",
    "<br>\n",
    "- 3000 call minutes included per month. Go over that, and you pay 1 cent per extra minute. \n",
    "</font color></div>"
   ]
  },
  {
   "cell_type": "markdown",
   "id": "81e309ca-9a5f-455c-bf36-b4c4979fd9e7",
   "metadata": {},
   "source": [
    "<div class=\"alert alert-info\"><font color='hotpink'>\n",
    "<b>Megaline rounds up</b>\n",
    "<br>\n",
    "- Phone calls - seconds are rounded up, to whole minutes, for each call (if a phone call lasted one second, it will be rounded up, to one minute.)\n",
    "<br>\n",
    "- Internet sessions - megabytes are rounded up, to gigabytes, for the month (they are not rounded up per session.) \n",
    "</font color></div>"
   ]
  },
  {
   "cell_type": "markdown",
   "id": "fb661655-3acb-41cd-b38c-85bfadcfc55d",
   "metadata": {},
   "source": [
    "<h2 style=\"color: red;\">Aggregate data per user</h2>"
   ]
  },
  {
   "cell_type": "code",
   "execution_count": 3146,
   "id": "4bf0a194-9a33-48d2-ac83-0dd481df6069",
   "metadata": {},
   "outputs": [],
   "source": [
    "# Calls dataframe holds user_id\n",
    "# Users dataframe holds user_id and also plan\n",
    "# Messages dataframe holds user_id\n",
    "# Internet dataframe holds user_id\n",
    "# Plans dataframe holds plan"
   ]
  },
  {
   "cell_type": "code",
   "execution_count": 3147,
   "id": "2eee1598-584f-482a-9538-e08b58d307e2",
   "metadata": {},
   "outputs": [
    {
     "data": {
      "text/html": [
       "<div style='color: hotpink;'><b>I am unable to merge all 5 dataframes. The kernal keeps dying.</b></div>"
      ],
      "text/plain": [
       "<IPython.core.display.HTML object>"
      ]
     },
     "metadata": {},
     "output_type": "display_data"
    }
   ],
   "source": [
    "show_html_output(f\"I am unable to merge all 5 dataframes. The kernal keeps dying.\")"
   ]
  },
  {
   "cell_type": "code",
   "execution_count": 3148,
   "id": "819ae9c1-2938-4ba1-99bd-b83b88232b40",
   "metadata": {},
   "outputs": [],
   "source": [
    "# Downcast numeric columns to save memory\n",
    "#calls['user_id'] = pd.to_numeric(calls['user_id'], downcast='integer')\n",
    "#users['user_id'] = pd.to_numeric(users['user_id'], downcast='integer')\n",
    "#messages['user_id'] = pd.to_numeric(messages['user_id'], downcast='integer')\n",
    "#internet['user_id'] = pd.to_numeric(internet['user_id'], downcast='integer')"
   ]
  },
  {
   "cell_type": "markdown",
   "id": "91561232-3068-4ac9-a9d7-c5f21146d95d",
   "metadata": {},
   "source": [
    "<div class=\"alert alert-info\"><font color='hotpink'>\n",
    "<b>Find the answers to these questions: </b>\n",
    "<br>\n",
    "- What is the number of calls made by each user, per month?\n",
    "<br>\n",
    "- What is the amount of minutes spent by each user, per month?\n",
    "<br>\n",
    "- What is the number of messages sent by each user, per month?\n",
    "<br>\n",
    "- What is the volume of internet traffic used by each user, per month ?\n",
    "</font color></div>"
   ]
  },
  {
   "cell_type": "raw",
   "id": "529e51f0-bd07-4d70-a20a-c5706b0733df",
   "metadata": {},
   "source": [
    "display(calls)"
   ]
  },
  {
   "cell_type": "code",
   "execution_count": 3150,
   "id": "c734f84e-01d4-4f6b-b03a-faeb4fa38af8",
   "metadata": {},
   "outputs": [
    {
     "name": "stdout",
     "output_type": "stream",
     "text": [
      "    call_id user_id  call_date  duration\n",
      "0   1000_93    1000 2018-12-27         9\n",
      "1  1000_145    1000 2018-12-27        14\n",
      "2  1000_247    1000 2018-12-27        15\n"
     ]
    }
   ],
   "source": [
    "# Convert 'call_date' column to datetime format \n",
    "calls['call_date'] = pd.to_datetime(calls['call_date'], format='%m-%d-%y')\n",
    "print(calls.head(3))"
   ]
  },
  {
   "cell_type": "code",
   "execution_count": 3151,
   "id": "0adb1d77-5bf0-4a87-bb85-698e867bb0be",
   "metadata": {},
   "outputs": [
    {
     "name": "stdout",
     "output_type": "stream",
     "text": [
      "    call_id user_id  call_date  duration  month\n",
      "0   1000_93    1000 2018-12-27         9     12\n",
      "1  1000_145    1000 2018-12-27        14     12\n",
      "2  1000_247    1000 2018-12-27        15     12\n"
     ]
    }
   ],
   "source": [
    "# Calculate the number of calls made by each user per month.\n",
    "# Extract month and year\n",
    "calls['month'] = calls['call_date'].dt.month\n",
    "print(calls.head(3))"
   ]
  },
  {
   "cell_type": "code",
   "execution_count": 3152,
   "id": "0d91797b-15af-444c-8b02-af1f94e54f41",
   "metadata": {},
   "outputs": [
    {
     "data": {
      "text/html": [
       "<div style='color: hotpink;'><b>Total number of calls, per user, by month:</b></div>"
      ],
      "text/plain": [
       "<IPython.core.display.HTML object>"
      ]
     },
     "metadata": {},
     "output_type": "display_data"
    }
   ],
   "source": [
    "show_html_output(f\"Total number of calls, per user, by month:\")"
   ]
  },
  {
   "cell_type": "code",
   "execution_count": 3153,
   "id": "38e0ca00-b0a7-48b7-bbff-bbfc204532cd",
   "metadata": {},
   "outputs": [
    {
     "name": "stdout",
     "output_type": "stream",
     "text": [
      "   user_id  month  call_count\n",
      "0     1000     12          16\n",
      "1     1001      8          27\n",
      "2     1001      9          49\n",
      "3     1001     10          65\n",
      "4     1001     11          64\n",
      "5     1001     12          56\n",
      "6     1002     10          11\n",
      "7     1002     11          55\n",
      "8     1002     12          47\n",
      "9     1003     12         149\n"
     ]
    }
   ],
   "source": [
    "# Group by 'user_id' and 'month_year', to count calls\n",
    "calls_per_user_monthly = calls.groupby(['user_id', 'month']).size().reset_index(name='call_count')\n",
    "print(calls_per_user_monthly.head(10))"
   ]
  },
  {
   "cell_type": "code",
   "execution_count": 3154,
   "id": "7130225a-19f6-4c55-9b65-51d6bf84a88d",
   "metadata": {},
   "outputs": [
    {
     "data": {
      "text/html": [
       "<div style='color: hotpink;'><b>Total duration of minutes, per user, by month:</b></div>"
      ],
      "text/plain": [
       "<IPython.core.display.HTML object>"
      ]
     },
     "metadata": {},
     "output_type": "display_data"
    }
   ],
   "source": [
    "show_html_output(f\"Total duration of minutes, per user, by month:\")"
   ]
  },
  {
   "cell_type": "code",
   "execution_count": 3155,
   "id": "c297e9b2-58ff-4151-bb98-ea57bc2f95c8",
   "metadata": {},
   "outputs": [
    {
     "data": {
      "text/html": [
       "<div>\n",
       "<style scoped>\n",
       "    .dataframe tbody tr th:only-of-type {\n",
       "        vertical-align: middle;\n",
       "    }\n",
       "\n",
       "    .dataframe tbody tr th {\n",
       "        vertical-align: top;\n",
       "    }\n",
       "\n",
       "    .dataframe thead th {\n",
       "        text-align: right;\n",
       "    }\n",
       "</style>\n",
       "<table border=\"1\" class=\"dataframe\">\n",
       "  <thead>\n",
       "    <tr style=\"text-align: right;\">\n",
       "      <th></th>\n",
       "      <th>user_id</th>\n",
       "      <th>month</th>\n",
       "      <th>duration</th>\n",
       "    </tr>\n",
       "  </thead>\n",
       "  <tbody>\n",
       "    <tr>\n",
       "      <th>0</th>\n",
       "      <td>1000</td>\n",
       "      <td>12</td>\n",
       "      <td>124</td>\n",
       "    </tr>\n",
       "    <tr>\n",
       "      <th>1</th>\n",
       "      <td>1001</td>\n",
       "      <td>8</td>\n",
       "      <td>182</td>\n",
       "    </tr>\n",
       "    <tr>\n",
       "      <th>2</th>\n",
       "      <td>1001</td>\n",
       "      <td>9</td>\n",
       "      <td>315</td>\n",
       "    </tr>\n",
       "    <tr>\n",
       "      <th>3</th>\n",
       "      <td>1001</td>\n",
       "      <td>10</td>\n",
       "      <td>393</td>\n",
       "    </tr>\n",
       "    <tr>\n",
       "      <th>4</th>\n",
       "      <td>1001</td>\n",
       "      <td>11</td>\n",
       "      <td>426</td>\n",
       "    </tr>\n",
       "    <tr>\n",
       "      <th>5</th>\n",
       "      <td>1001</td>\n",
       "      <td>12</td>\n",
       "      <td>412</td>\n",
       "    </tr>\n",
       "    <tr>\n",
       "      <th>6</th>\n",
       "      <td>1002</td>\n",
       "      <td>10</td>\n",
       "      <td>59</td>\n",
       "    </tr>\n",
       "    <tr>\n",
       "      <th>7</th>\n",
       "      <td>1002</td>\n",
       "      <td>11</td>\n",
       "      <td>386</td>\n",
       "    </tr>\n",
       "    <tr>\n",
       "      <th>8</th>\n",
       "      <td>1002</td>\n",
       "      <td>12</td>\n",
       "      <td>384</td>\n",
       "    </tr>\n",
       "    <tr>\n",
       "      <th>9</th>\n",
       "      <td>1003</td>\n",
       "      <td>12</td>\n",
       "      <td>1104</td>\n",
       "    </tr>\n",
       "  </tbody>\n",
       "</table>\n",
       "</div>"
      ],
      "text/plain": [
       "   user_id  month  duration\n",
       "0     1000     12       124\n",
       "1     1001      8       182\n",
       "2     1001      9       315\n",
       "3     1001     10       393\n",
       "4     1001     11       426\n",
       "5     1001     12       412\n",
       "6     1002     10        59\n",
       "7     1002     11       386\n",
       "8     1002     12       384\n",
       "9     1003     12      1104"
      ]
     },
     "metadata": {},
     "output_type": "display_data"
    }
   ],
   "source": [
    "# Group by 'user_id' and 'month' to get the total duration\n",
    "min_per_user_monthly = calls.groupby(['user_id', 'month'])['duration'].sum().reset_index()\n",
    "display(min_per_user_monthly.head(10))"
   ]
  },
  {
   "cell_type": "code",
   "execution_count": 3156,
   "id": "ee1f49dd-77cc-400d-968a-bd59daaadda7",
   "metadata": {},
   "outputs": [
    {
     "data": {
      "text/html": [
       "<div style='color: hotpink;'><b>Total number of text messages, per user, by month:</b></div>"
      ],
      "text/plain": [
       "<IPython.core.display.HTML object>"
      ]
     },
     "metadata": {},
     "output_type": "display_data"
    }
   ],
   "source": [
    "show_html_output(f\"Total number of text messages, per user, by month:\")"
   ]
  },
  {
   "cell_type": "code",
   "execution_count": 3157,
   "id": "65ffc00a-1436-4362-8f86-e477c2889f16",
   "metadata": {},
   "outputs": [],
   "source": [
    "# Convert 'msg_date' column to datetime format\n",
    "messages['msg_date'] = pd.to_datetime(messages['msg_date'], format='%m-%d-%y')\n",
    "# Extract month and year\n",
    "messages['month'] = messages['msg_date'].dt.month"
   ]
  },
  {
   "cell_type": "code",
   "execution_count": 3158,
   "id": "3dbf363c-f86b-4e5d-9d97-da19a322c4f9",
   "metadata": {},
   "outputs": [
    {
     "data": {
      "text/html": [
       "<div>\n",
       "<style scoped>\n",
       "    .dataframe tbody tr th:only-of-type {\n",
       "        vertical-align: middle;\n",
       "    }\n",
       "\n",
       "    .dataframe tbody tr th {\n",
       "        vertical-align: top;\n",
       "    }\n",
       "\n",
       "    .dataframe thead th {\n",
       "        text-align: right;\n",
       "    }\n",
       "</style>\n",
       "<table border=\"1\" class=\"dataframe\">\n",
       "  <thead>\n",
       "    <tr style=\"text-align: right;\">\n",
       "      <th></th>\n",
       "      <th>user_id</th>\n",
       "      <th>month</th>\n",
       "      <th>Total_messages</th>\n",
       "    </tr>\n",
       "  </thead>\n",
       "  <tbody>\n",
       "    <tr>\n",
       "      <th>0</th>\n",
       "      <td>1000</td>\n",
       "      <td>12</td>\n",
       "      <td>11</td>\n",
       "    </tr>\n",
       "    <tr>\n",
       "      <th>1</th>\n",
       "      <td>1001</td>\n",
       "      <td>8</td>\n",
       "      <td>30</td>\n",
       "    </tr>\n",
       "    <tr>\n",
       "      <th>2</th>\n",
       "      <td>1001</td>\n",
       "      <td>9</td>\n",
       "      <td>44</td>\n",
       "    </tr>\n",
       "    <tr>\n",
       "      <th>3</th>\n",
       "      <td>1001</td>\n",
       "      <td>10</td>\n",
       "      <td>53</td>\n",
       "    </tr>\n",
       "    <tr>\n",
       "      <th>4</th>\n",
       "      <td>1001</td>\n",
       "      <td>11</td>\n",
       "      <td>36</td>\n",
       "    </tr>\n",
       "    <tr>\n",
       "      <th>5</th>\n",
       "      <td>1001</td>\n",
       "      <td>12</td>\n",
       "      <td>44</td>\n",
       "    </tr>\n",
       "    <tr>\n",
       "      <th>6</th>\n",
       "      <td>1002</td>\n",
       "      <td>10</td>\n",
       "      <td>15</td>\n",
       "    </tr>\n",
       "    <tr>\n",
       "      <th>7</th>\n",
       "      <td>1002</td>\n",
       "      <td>11</td>\n",
       "      <td>32</td>\n",
       "    </tr>\n",
       "    <tr>\n",
       "      <th>8</th>\n",
       "      <td>1002</td>\n",
       "      <td>12</td>\n",
       "      <td>41</td>\n",
       "    </tr>\n",
       "    <tr>\n",
       "      <th>9</th>\n",
       "      <td>1003</td>\n",
       "      <td>12</td>\n",
       "      <td>50</td>\n",
       "    </tr>\n",
       "  </tbody>\n",
       "</table>\n",
       "</div>"
      ],
      "text/plain": [
       "   user_id  month  Total_messages\n",
       "0     1000     12              11\n",
       "1     1001      8              30\n",
       "2     1001      9              44\n",
       "3     1001     10              53\n",
       "4     1001     11              36\n",
       "5     1001     12              44\n",
       "6     1002     10              15\n",
       "7     1002     11              32\n",
       "8     1002     12              41\n",
       "9     1003     12              50"
      ]
     },
     "metadata": {},
     "output_type": "display_data"
    }
   ],
   "source": [
    "# Group by 'user_id' and 'month', count messages\n",
    "msg_per_user_monthly = messages.groupby(['user_id', 'month']).size().reset_index(name='Total_messages')\n",
    "display(msg_per_user_monthly.head(10))"
   ]
  },
  {
   "cell_type": "code",
   "execution_count": 3159,
   "id": "2eff589b-7942-45fc-82f0-4e7941c59491",
   "metadata": {},
   "outputs": [
    {
     "data": {
      "text/html": [
       "<div style='color: hotpink;'><b>Volume of internet traffic:</b></div>"
      ],
      "text/plain": [
       "<IPython.core.display.HTML object>"
      ]
     },
     "metadata": {},
     "output_type": "display_data"
    }
   ],
   "source": [
    "show_html_output(f\"Volume of internet traffic:\")"
   ]
  },
  {
   "cell_type": "code",
   "execution_count": 3160,
   "id": "e1c099c1-4795-45f6-81fb-5fef0ec1d334",
   "metadata": {},
   "outputs": [],
   "source": [
    "# Convert 'session_date' column to datetime format\n",
    "internet['session_date'] = pd.to_datetime(internet['session_date'], format='%m-%d-%y')"
   ]
  },
  {
   "cell_type": "code",
   "execution_count": 3161,
   "id": "09f3fc57-2aaf-44cb-888f-e10bfd37b1fa",
   "metadata": {},
   "outputs": [],
   "source": [
    "# Extract month, and make new column in the internet dataframe\n",
    "internet['month'] = internet['session_date'].dt.month"
   ]
  },
  {
   "cell_type": "code",
   "execution_count": 3162,
   "id": "ec32d9b5-e4e0-40f2-8306-e8100366fd54",
   "metadata": {},
   "outputs": [
    {
     "data": {
      "text/html": [
       "<div>\n",
       "<style scoped>\n",
       "    .dataframe tbody tr th:only-of-type {\n",
       "        vertical-align: middle;\n",
       "    }\n",
       "\n",
       "    .dataframe tbody tr th {\n",
       "        vertical-align: top;\n",
       "    }\n",
       "\n",
       "    .dataframe thead th {\n",
       "        text-align: right;\n",
       "    }\n",
       "</style>\n",
       "<table border=\"1\" class=\"dataframe\">\n",
       "  <thead>\n",
       "    <tr style=\"text-align: right;\">\n",
       "      <th></th>\n",
       "      <th>user_id</th>\n",
       "      <th>month</th>\n",
       "      <th>gb_used</th>\n",
       "    </tr>\n",
       "  </thead>\n",
       "  <tbody>\n",
       "    <tr>\n",
       "      <th>0</th>\n",
       "      <td>1000</td>\n",
       "      <td>12</td>\n",
       "      <td>1.90147</td>\n",
       "    </tr>\n",
       "    <tr>\n",
       "      <th>1</th>\n",
       "      <td>1001</td>\n",
       "      <td>8</td>\n",
       "      <td>6.91915</td>\n",
       "    </tr>\n",
       "    <tr>\n",
       "      <th>2</th>\n",
       "      <td>1001</td>\n",
       "      <td>9</td>\n",
       "      <td>13.31482</td>\n",
       "    </tr>\n",
       "    <tr>\n",
       "      <th>3</th>\n",
       "      <td>1001</td>\n",
       "      <td>10</td>\n",
       "      <td>22.33049</td>\n",
       "    </tr>\n",
       "    <tr>\n",
       "      <th>4</th>\n",
       "      <td>1001</td>\n",
       "      <td>11</td>\n",
       "      <td>18.50430</td>\n",
       "    </tr>\n",
       "    <tr>\n",
       "      <th>5</th>\n",
       "      <td>1001</td>\n",
       "      <td>12</td>\n",
       "      <td>19.36918</td>\n",
       "    </tr>\n",
       "    <tr>\n",
       "      <th>6</th>\n",
       "      <td>1002</td>\n",
       "      <td>10</td>\n",
       "      <td>6.55201</td>\n",
       "    </tr>\n",
       "    <tr>\n",
       "      <th>7</th>\n",
       "      <td>1002</td>\n",
       "      <td>11</td>\n",
       "      <td>19.34508</td>\n",
       "    </tr>\n",
       "    <tr>\n",
       "      <th>8</th>\n",
       "      <td>1002</td>\n",
       "      <td>12</td>\n",
       "      <td>14.39624</td>\n",
       "    </tr>\n",
       "    <tr>\n",
       "      <th>9</th>\n",
       "      <td>1003</td>\n",
       "      <td>12</td>\n",
       "      <td>27.04414</td>\n",
       "    </tr>\n",
       "  </tbody>\n",
       "</table>\n",
       "</div>"
      ],
      "text/plain": [
       "   user_id  month   gb_used\n",
       "0     1000     12   1.90147\n",
       "1     1001      8   6.91915\n",
       "2     1001      9  13.31482\n",
       "3     1001     10  22.33049\n",
       "4     1001     11  18.50430\n",
       "5     1001     12  19.36918\n",
       "6     1002     10   6.55201\n",
       "7     1002     11  19.34508\n",
       "8     1002     12  14.39624\n",
       "9     1003     12  27.04414"
      ]
     },
     "metadata": {},
     "output_type": "display_data"
    }
   ],
   "source": [
    "# Group by 'user_id' and 'month', and sum gb_used\n",
    "gb_total = internet.groupby(['user_id', 'month'])['gb_used'].sum().reset_index()\n",
    "display(gb_total.head(10))"
   ]
  },
  {
   "cell_type": "code",
   "execution_count": 3163,
   "id": "c5bd5490-5d90-42d8-8176-db3c8920c3c1",
   "metadata": {},
   "outputs": [
    {
     "data": {
      "text/html": [
       "<div style='color: hotpink;'><b>Merge these dataframes:</b></div>"
      ],
      "text/plain": [
       "<IPython.core.display.HTML object>"
      ]
     },
     "metadata": {},
     "output_type": "display_data"
    }
   ],
   "source": [
    "show_html_output(f\"Merge these dataframes:\")"
   ]
  },
  {
   "cell_type": "code",
   "execution_count": 3164,
   "id": "8b6bfc71-1c4c-43a8-8b3b-df689674c80e",
   "metadata": {},
   "outputs": [],
   "source": [
    "# calls_per_user_monthly holds user_id, month, call_count\n",
    "# min_per_user_monthly holds user_id, month, duration\n",
    "# msg_per_user_monthly holds user_id, month, messages\n",
    "# gb_total holds user_id, month, gb_used"
   ]
  },
  {
   "cell_type": "code",
   "execution_count": 3165,
   "id": "0469c4cf-2da7-4e1c-b320-3581de3849e7",
   "metadata": {},
   "outputs": [],
   "source": [
    "# Merge calls_per_user_monthly with min_per_user_monthly\n",
    "merged_df = pd.merge(calls_per_user_monthly, min_per_user_monthly, on=['user_id', 'month'], how='inner')"
   ]
  },
  {
   "cell_type": "code",
   "execution_count": 3166,
   "id": "968d658b-7d24-41fb-ae0d-2cc7ee70b5ad",
   "metadata": {},
   "outputs": [],
   "source": [
    "# Merge the result with msg_per_user_monthly\n",
    "merged_df = pd.merge(merged_df, msg_per_user_monthly, on=['user_id', 'month'], how='inner')"
   ]
  },
  {
   "cell_type": "code",
   "execution_count": 3167,
   "id": "ea17f4f8-9d92-4d71-9c7b-55b232e7f858",
   "metadata": {},
   "outputs": [],
   "source": [
    "# Merge the final result with gb_total\n",
    "merged_df = pd.merge(merged_df, gb_total, on=['user_id', 'month'], how='inner')"
   ]
  },
  {
   "cell_type": "code",
   "execution_count": 3168,
   "id": "4a23f7fe-be26-4934-b464-5deb6178c273",
   "metadata": {},
   "outputs": [
    {
     "data": {
      "text/html": [
       "<div>\n",
       "<style scoped>\n",
       "    .dataframe tbody tr th:only-of-type {\n",
       "        vertical-align: middle;\n",
       "    }\n",
       "\n",
       "    .dataframe tbody tr th {\n",
       "        vertical-align: top;\n",
       "    }\n",
       "\n",
       "    .dataframe thead th {\n",
       "        text-align: right;\n",
       "    }\n",
       "</style>\n",
       "<table border=\"1\" class=\"dataframe\">\n",
       "  <thead>\n",
       "    <tr style=\"text-align: right;\">\n",
       "      <th></th>\n",
       "      <th>user_id</th>\n",
       "      <th>month</th>\n",
       "      <th>call_count</th>\n",
       "      <th>duration</th>\n",
       "      <th>Total_messages</th>\n",
       "      <th>gb_used</th>\n",
       "    </tr>\n",
       "  </thead>\n",
       "  <tbody>\n",
       "    <tr>\n",
       "      <th>0</th>\n",
       "      <td>1000</td>\n",
       "      <td>12</td>\n",
       "      <td>16</td>\n",
       "      <td>124</td>\n",
       "      <td>11</td>\n",
       "      <td>1.90147</td>\n",
       "    </tr>\n",
       "    <tr>\n",
       "      <th>1</th>\n",
       "      <td>1001</td>\n",
       "      <td>8</td>\n",
       "      <td>27</td>\n",
       "      <td>182</td>\n",
       "      <td>30</td>\n",
       "      <td>6.91915</td>\n",
       "    </tr>\n",
       "    <tr>\n",
       "      <th>2</th>\n",
       "      <td>1001</td>\n",
       "      <td>9</td>\n",
       "      <td>49</td>\n",
       "      <td>315</td>\n",
       "      <td>44</td>\n",
       "      <td>13.31482</td>\n",
       "    </tr>\n",
       "    <tr>\n",
       "      <th>3</th>\n",
       "      <td>1001</td>\n",
       "      <td>10</td>\n",
       "      <td>65</td>\n",
       "      <td>393</td>\n",
       "      <td>53</td>\n",
       "      <td>22.33049</td>\n",
       "    </tr>\n",
       "    <tr>\n",
       "      <th>4</th>\n",
       "      <td>1001</td>\n",
       "      <td>11</td>\n",
       "      <td>64</td>\n",
       "      <td>426</td>\n",
       "      <td>36</td>\n",
       "      <td>18.50430</td>\n",
       "    </tr>\n",
       "    <tr>\n",
       "      <th>...</th>\n",
       "      <td>...</td>\n",
       "      <td>...</td>\n",
       "      <td>...</td>\n",
       "      <td>...</td>\n",
       "      <td>...</td>\n",
       "      <td>...</td>\n",
       "    </tr>\n",
       "    <tr>\n",
       "      <th>1754</th>\n",
       "      <td>1496</td>\n",
       "      <td>9</td>\n",
       "      <td>52</td>\n",
       "      <td>414</td>\n",
       "      <td>21</td>\n",
       "      <td>16.38927</td>\n",
       "    </tr>\n",
       "    <tr>\n",
       "      <th>1755</th>\n",
       "      <td>1496</td>\n",
       "      <td>10</td>\n",
       "      <td>46</td>\n",
       "      <td>317</td>\n",
       "      <td>18</td>\n",
       "      <td>14.28736</td>\n",
       "    </tr>\n",
       "    <tr>\n",
       "      <th>1756</th>\n",
       "      <td>1496</td>\n",
       "      <td>11</td>\n",
       "      <td>39</td>\n",
       "      <td>308</td>\n",
       "      <td>13</td>\n",
       "      <td>8.54736</td>\n",
       "    </tr>\n",
       "    <tr>\n",
       "      <th>1757</th>\n",
       "      <td>1496</td>\n",
       "      <td>12</td>\n",
       "      <td>40</td>\n",
       "      <td>294</td>\n",
       "      <td>11</td>\n",
       "      <td>16.43899</td>\n",
       "    </tr>\n",
       "    <tr>\n",
       "      <th>1758</th>\n",
       "      <td>1497</td>\n",
       "      <td>12</td>\n",
       "      <td>54</td>\n",
       "      <td>300</td>\n",
       "      <td>50</td>\n",
       "      <td>11.10655</td>\n",
       "    </tr>\n",
       "  </tbody>\n",
       "</table>\n",
       "<p>1759 rows × 6 columns</p>\n",
       "</div>"
      ],
      "text/plain": [
       "      user_id  month  call_count  duration  Total_messages   gb_used\n",
       "0        1000     12          16       124              11   1.90147\n",
       "1        1001      8          27       182              30   6.91915\n",
       "2        1001      9          49       315              44  13.31482\n",
       "3        1001     10          65       393              53  22.33049\n",
       "4        1001     11          64       426              36  18.50430\n",
       "...       ...    ...         ...       ...             ...       ...\n",
       "1754     1496      9          52       414              21  16.38927\n",
       "1755     1496     10          46       317              18  14.28736\n",
       "1756     1496     11          39       308              13   8.54736\n",
       "1757     1496     12          40       294              11  16.43899\n",
       "1758     1497     12          54       300              50  11.10655\n",
       "\n",
       "[1759 rows x 6 columns]"
      ]
     },
     "metadata": {},
     "output_type": "display_data"
    }
   ],
   "source": [
    "# Display the result of all 4 dataframes merged\n",
    "display(merged_df)"
   ]
  },
  {
   "cell_type": "code",
   "execution_count": 3169,
   "id": "fc5c1c00-7b63-476f-aff2-710c1c195988",
   "metadata": {},
   "outputs": [
    {
     "data": {
      "text/html": [
       "<div>\n",
       "<style scoped>\n",
       "    .dataframe tbody tr th:only-of-type {\n",
       "        vertical-align: middle;\n",
       "    }\n",
       "\n",
       "    .dataframe tbody tr th {\n",
       "        vertical-align: top;\n",
       "    }\n",
       "\n",
       "    .dataframe thead th {\n",
       "        text-align: right;\n",
       "    }\n",
       "</style>\n",
       "<table border=\"1\" class=\"dataframe\">\n",
       "  <thead>\n",
       "    <tr style=\"text-align: right;\">\n",
       "      <th></th>\n",
       "      <th>user_id</th>\n",
       "      <th>month</th>\n",
       "      <th>call_count</th>\n",
       "      <th>duration</th>\n",
       "      <th>Total_messages</th>\n",
       "      <th>gb_used</th>\n",
       "      <th>plan</th>\n",
       "    </tr>\n",
       "  </thead>\n",
       "  <tbody>\n",
       "    <tr>\n",
       "      <th>1756</th>\n",
       "      <td>1496</td>\n",
       "      <td>11</td>\n",
       "      <td>39</td>\n",
       "      <td>308</td>\n",
       "      <td>13</td>\n",
       "      <td>8.54736</td>\n",
       "      <td>surf</td>\n",
       "    </tr>\n",
       "    <tr>\n",
       "      <th>1757</th>\n",
       "      <td>1496</td>\n",
       "      <td>12</td>\n",
       "      <td>40</td>\n",
       "      <td>294</td>\n",
       "      <td>11</td>\n",
       "      <td>16.43899</td>\n",
       "      <td>surf</td>\n",
       "    </tr>\n",
       "    <tr>\n",
       "      <th>1758</th>\n",
       "      <td>1497</td>\n",
       "      <td>12</td>\n",
       "      <td>54</td>\n",
       "      <td>300</td>\n",
       "      <td>50</td>\n",
       "      <td>11.10655</td>\n",
       "      <td>ultimate</td>\n",
       "    </tr>\n",
       "  </tbody>\n",
       "</table>\n",
       "</div>"
      ],
      "text/plain": [
       "     user_id  month  call_count  duration  Total_messages   gb_used      plan\n",
       "1756    1496     11          39       308              13   8.54736      surf\n",
       "1757    1496     12          40       294              11  16.43899      surf\n",
       "1758    1497     12          54       300              50  11.10655  ultimate"
      ]
     },
     "metadata": {},
     "output_type": "display_data"
    }
   ],
   "source": [
    "# Merge the final merged_df with the 'plan' column from the plans dataframe\n",
    "merged_users = pd.merge(merged_df, users[['user_id', 'plan']], on='user_id', how='inner')\n",
    "display(merged_users.tail(3))"
   ]
  },
  {
   "cell_type": "code",
   "execution_count": 3170,
   "id": "96e88eda-7874-4fdc-93d4-e76d225ef7f5",
   "metadata": {},
   "outputs": [
    {
     "data": {
      "text/html": [
       "<div>\n",
       "<style scoped>\n",
       "    .dataframe tbody tr th:only-of-type {\n",
       "        vertical-align: middle;\n",
       "    }\n",
       "\n",
       "    .dataframe tbody tr th {\n",
       "        vertical-align: top;\n",
       "    }\n",
       "\n",
       "    .dataframe thead th {\n",
       "        text-align: right;\n",
       "    }\n",
       "</style>\n",
       "<table border=\"1\" class=\"dataframe\">\n",
       "  <thead>\n",
       "    <tr style=\"text-align: right;\">\n",
       "      <th></th>\n",
       "      <th>user_id</th>\n",
       "      <th>month</th>\n",
       "      <th>call_count</th>\n",
       "      <th>duration</th>\n",
       "      <th>Total_messages</th>\n",
       "      <th>gb_used</th>\n",
       "      <th>plan</th>\n",
       "      <th>msg_included</th>\n",
       "      <th>gb_included</th>\n",
       "      <th>min_included</th>\n",
       "      <th>monthly_fee</th>\n",
       "      <th>fee_per_gb</th>\n",
       "      <th>fee_per_msg</th>\n",
       "      <th>fee_per_min</th>\n",
       "    </tr>\n",
       "  </thead>\n",
       "  <tbody>\n",
       "    <tr>\n",
       "      <th>1751</th>\n",
       "      <td>1494</td>\n",
       "      <td>10</td>\n",
       "      <td>78</td>\n",
       "      <td>616</td>\n",
       "      <td>38</td>\n",
       "      <td>14.49850</td>\n",
       "      <td>surf</td>\n",
       "      <td>50</td>\n",
       "      <td>15</td>\n",
       "      <td>500</td>\n",
       "      <td>20</td>\n",
       "      <td>10</td>\n",
       "      <td>0.03</td>\n",
       "      <td>0.03</td>\n",
       "    </tr>\n",
       "    <tr>\n",
       "      <th>1752</th>\n",
       "      <td>1494</td>\n",
       "      <td>11</td>\n",
       "      <td>82</td>\n",
       "      <td>509</td>\n",
       "      <td>35</td>\n",
       "      <td>18.40582</td>\n",
       "      <td>surf</td>\n",
       "      <td>50</td>\n",
       "      <td>15</td>\n",
       "      <td>500</td>\n",
       "      <td>20</td>\n",
       "      <td>10</td>\n",
       "      <td>0.03</td>\n",
       "      <td>0.03</td>\n",
       "    </tr>\n",
       "    <tr>\n",
       "      <th>1753</th>\n",
       "      <td>1494</td>\n",
       "      <td>12</td>\n",
       "      <td>72</td>\n",
       "      <td>431</td>\n",
       "      <td>33</td>\n",
       "      <td>15.30245</td>\n",
       "      <td>surf</td>\n",
       "      <td>50</td>\n",
       "      <td>15</td>\n",
       "      <td>500</td>\n",
       "      <td>20</td>\n",
       "      <td>10</td>\n",
       "      <td>0.03</td>\n",
       "      <td>0.03</td>\n",
       "    </tr>\n",
       "    <tr>\n",
       "      <th>1754</th>\n",
       "      <td>1496</td>\n",
       "      <td>8</td>\n",
       "      <td>18</td>\n",
       "      <td>122</td>\n",
       "      <td>2</td>\n",
       "      <td>8.60566</td>\n",
       "      <td>surf</td>\n",
       "      <td>50</td>\n",
       "      <td>15</td>\n",
       "      <td>500</td>\n",
       "      <td>20</td>\n",
       "      <td>10</td>\n",
       "      <td>0.03</td>\n",
       "      <td>0.03</td>\n",
       "    </tr>\n",
       "    <tr>\n",
       "      <th>1755</th>\n",
       "      <td>1496</td>\n",
       "      <td>9</td>\n",
       "      <td>52</td>\n",
       "      <td>414</td>\n",
       "      <td>21</td>\n",
       "      <td>16.38927</td>\n",
       "      <td>surf</td>\n",
       "      <td>50</td>\n",
       "      <td>15</td>\n",
       "      <td>500</td>\n",
       "      <td>20</td>\n",
       "      <td>10</td>\n",
       "      <td>0.03</td>\n",
       "      <td>0.03</td>\n",
       "    </tr>\n",
       "    <tr>\n",
       "      <th>1756</th>\n",
       "      <td>1496</td>\n",
       "      <td>10</td>\n",
       "      <td>46</td>\n",
       "      <td>317</td>\n",
       "      <td>18</td>\n",
       "      <td>14.28736</td>\n",
       "      <td>surf</td>\n",
       "      <td>50</td>\n",
       "      <td>15</td>\n",
       "      <td>500</td>\n",
       "      <td>20</td>\n",
       "      <td>10</td>\n",
       "      <td>0.03</td>\n",
       "      <td>0.03</td>\n",
       "    </tr>\n",
       "    <tr>\n",
       "      <th>1757</th>\n",
       "      <td>1496</td>\n",
       "      <td>11</td>\n",
       "      <td>39</td>\n",
       "      <td>308</td>\n",
       "      <td>13</td>\n",
       "      <td>8.54736</td>\n",
       "      <td>surf</td>\n",
       "      <td>50</td>\n",
       "      <td>15</td>\n",
       "      <td>500</td>\n",
       "      <td>20</td>\n",
       "      <td>10</td>\n",
       "      <td>0.03</td>\n",
       "      <td>0.03</td>\n",
       "    </tr>\n",
       "    <tr>\n",
       "      <th>1758</th>\n",
       "      <td>1496</td>\n",
       "      <td>12</td>\n",
       "      <td>40</td>\n",
       "      <td>294</td>\n",
       "      <td>11</td>\n",
       "      <td>16.43899</td>\n",
       "      <td>surf</td>\n",
       "      <td>50</td>\n",
       "      <td>15</td>\n",
       "      <td>500</td>\n",
       "      <td>20</td>\n",
       "      <td>10</td>\n",
       "      <td>0.03</td>\n",
       "      <td>0.03</td>\n",
       "    </tr>\n",
       "  </tbody>\n",
       "</table>\n",
       "</div>"
      ],
      "text/plain": [
       "     user_id  month  call_count  duration  Total_messages   gb_used  plan  \\\n",
       "1751    1494     10          78       616              38  14.49850  surf   \n",
       "1752    1494     11          82       509              35  18.40582  surf   \n",
       "1753    1494     12          72       431              33  15.30245  surf   \n",
       "1754    1496      8          18       122               2   8.60566  surf   \n",
       "1755    1496      9          52       414              21  16.38927  surf   \n",
       "1756    1496     10          46       317              18  14.28736  surf   \n",
       "1757    1496     11          39       308              13   8.54736  surf   \n",
       "1758    1496     12          40       294              11  16.43899  surf   \n",
       "\n",
       "      msg_included  gb_included  min_included  monthly_fee  fee_per_gb  \\\n",
       "1751            50           15           500           20          10   \n",
       "1752            50           15           500           20          10   \n",
       "1753            50           15           500           20          10   \n",
       "1754            50           15           500           20          10   \n",
       "1755            50           15           500           20          10   \n",
       "1756            50           15           500           20          10   \n",
       "1757            50           15           500           20          10   \n",
       "1758            50           15           500           20          10   \n",
       "\n",
       "      fee_per_msg  fee_per_min  \n",
       "1751         0.03         0.03  \n",
       "1752         0.03         0.03  \n",
       "1753         0.03         0.03  \n",
       "1754         0.03         0.03  \n",
       "1755         0.03         0.03  \n",
       "1756         0.03         0.03  \n",
       "1757         0.03         0.03  \n",
       "1758         0.03         0.03  "
      ]
     },
     "metadata": {},
     "output_type": "display_data"
    }
   ],
   "source": [
    "# Merge the final merged_df with the entire plans DataFrame\n",
    "merged_revenue = pd.merge(merged_users, plans, on='plan', how='inner')\n",
    "#display(merged_revenue.sample(15))\n",
    "display(merged_revenue.tail(8))"
   ]
  },
  {
   "cell_type": "code",
   "execution_count": 3171,
   "id": "30bc69ce-9bd1-4f58-b9f5-215b17363f6d",
   "metadata": {},
   "outputs": [
    {
     "data": {
      "text/html": [
       "<div style='color: hotpink;'><b>Need to round up the gb_used column</b></div>"
      ],
      "text/plain": [
       "<IPython.core.display.HTML object>"
      ]
     },
     "metadata": {},
     "output_type": "display_data"
    }
   ],
   "source": [
    "show_html_output(f\"Need to round up the gb_used column\")"
   ]
  },
  {
   "cell_type": "code",
   "execution_count": 3172,
   "id": "8e004a57-14d0-463f-96c2-f29627a579b3",
   "metadata": {},
   "outputs": [
    {
     "data": {
      "text/html": [
       "<div>\n",
       "<style scoped>\n",
       "    .dataframe tbody tr th:only-of-type {\n",
       "        vertical-align: middle;\n",
       "    }\n",
       "\n",
       "    .dataframe tbody tr th {\n",
       "        vertical-align: top;\n",
       "    }\n",
       "\n",
       "    .dataframe thead th {\n",
       "        text-align: right;\n",
       "    }\n",
       "</style>\n",
       "<table border=\"1\" class=\"dataframe\">\n",
       "  <thead>\n",
       "    <tr style=\"text-align: right;\">\n",
       "      <th></th>\n",
       "      <th>user_id</th>\n",
       "      <th>month</th>\n",
       "      <th>call_count</th>\n",
       "      <th>duration</th>\n",
       "      <th>Total_messages</th>\n",
       "      <th>gb_used</th>\n",
       "      <th>plan</th>\n",
       "      <th>msg_included</th>\n",
       "      <th>gb_included</th>\n",
       "      <th>min_included</th>\n",
       "      <th>monthly_fee</th>\n",
       "      <th>fee_per_gb</th>\n",
       "      <th>fee_per_msg</th>\n",
       "      <th>fee_per_min</th>\n",
       "    </tr>\n",
       "  </thead>\n",
       "  <tbody>\n",
       "    <tr>\n",
       "      <th>1751</th>\n",
       "      <td>1494</td>\n",
       "      <td>10</td>\n",
       "      <td>78</td>\n",
       "      <td>616</td>\n",
       "      <td>38</td>\n",
       "      <td>15.0</td>\n",
       "      <td>surf</td>\n",
       "      <td>50</td>\n",
       "      <td>15</td>\n",
       "      <td>500</td>\n",
       "      <td>20</td>\n",
       "      <td>10</td>\n",
       "      <td>0.03</td>\n",
       "      <td>0.03</td>\n",
       "    </tr>\n",
       "    <tr>\n",
       "      <th>1752</th>\n",
       "      <td>1494</td>\n",
       "      <td>11</td>\n",
       "      <td>82</td>\n",
       "      <td>509</td>\n",
       "      <td>35</td>\n",
       "      <td>19.0</td>\n",
       "      <td>surf</td>\n",
       "      <td>50</td>\n",
       "      <td>15</td>\n",
       "      <td>500</td>\n",
       "      <td>20</td>\n",
       "      <td>10</td>\n",
       "      <td>0.03</td>\n",
       "      <td>0.03</td>\n",
       "    </tr>\n",
       "    <tr>\n",
       "      <th>1753</th>\n",
       "      <td>1494</td>\n",
       "      <td>12</td>\n",
       "      <td>72</td>\n",
       "      <td>431</td>\n",
       "      <td>33</td>\n",
       "      <td>16.0</td>\n",
       "      <td>surf</td>\n",
       "      <td>50</td>\n",
       "      <td>15</td>\n",
       "      <td>500</td>\n",
       "      <td>20</td>\n",
       "      <td>10</td>\n",
       "      <td>0.03</td>\n",
       "      <td>0.03</td>\n",
       "    </tr>\n",
       "    <tr>\n",
       "      <th>1754</th>\n",
       "      <td>1496</td>\n",
       "      <td>8</td>\n",
       "      <td>18</td>\n",
       "      <td>122</td>\n",
       "      <td>2</td>\n",
       "      <td>9.0</td>\n",
       "      <td>surf</td>\n",
       "      <td>50</td>\n",
       "      <td>15</td>\n",
       "      <td>500</td>\n",
       "      <td>20</td>\n",
       "      <td>10</td>\n",
       "      <td>0.03</td>\n",
       "      <td>0.03</td>\n",
       "    </tr>\n",
       "    <tr>\n",
       "      <th>1755</th>\n",
       "      <td>1496</td>\n",
       "      <td>9</td>\n",
       "      <td>52</td>\n",
       "      <td>414</td>\n",
       "      <td>21</td>\n",
       "      <td>17.0</td>\n",
       "      <td>surf</td>\n",
       "      <td>50</td>\n",
       "      <td>15</td>\n",
       "      <td>500</td>\n",
       "      <td>20</td>\n",
       "      <td>10</td>\n",
       "      <td>0.03</td>\n",
       "      <td>0.03</td>\n",
       "    </tr>\n",
       "    <tr>\n",
       "      <th>1756</th>\n",
       "      <td>1496</td>\n",
       "      <td>10</td>\n",
       "      <td>46</td>\n",
       "      <td>317</td>\n",
       "      <td>18</td>\n",
       "      <td>15.0</td>\n",
       "      <td>surf</td>\n",
       "      <td>50</td>\n",
       "      <td>15</td>\n",
       "      <td>500</td>\n",
       "      <td>20</td>\n",
       "      <td>10</td>\n",
       "      <td>0.03</td>\n",
       "      <td>0.03</td>\n",
       "    </tr>\n",
       "    <tr>\n",
       "      <th>1757</th>\n",
       "      <td>1496</td>\n",
       "      <td>11</td>\n",
       "      <td>39</td>\n",
       "      <td>308</td>\n",
       "      <td>13</td>\n",
       "      <td>9.0</td>\n",
       "      <td>surf</td>\n",
       "      <td>50</td>\n",
       "      <td>15</td>\n",
       "      <td>500</td>\n",
       "      <td>20</td>\n",
       "      <td>10</td>\n",
       "      <td>0.03</td>\n",
       "      <td>0.03</td>\n",
       "    </tr>\n",
       "    <tr>\n",
       "      <th>1758</th>\n",
       "      <td>1496</td>\n",
       "      <td>12</td>\n",
       "      <td>40</td>\n",
       "      <td>294</td>\n",
       "      <td>11</td>\n",
       "      <td>17.0</td>\n",
       "      <td>surf</td>\n",
       "      <td>50</td>\n",
       "      <td>15</td>\n",
       "      <td>500</td>\n",
       "      <td>20</td>\n",
       "      <td>10</td>\n",
       "      <td>0.03</td>\n",
       "      <td>0.03</td>\n",
       "    </tr>\n",
       "  </tbody>\n",
       "</table>\n",
       "</div>"
      ],
      "text/plain": [
       "     user_id  month  call_count  duration  Total_messages  gb_used  plan  \\\n",
       "1751    1494     10          78       616              38     15.0  surf   \n",
       "1752    1494     11          82       509              35     19.0  surf   \n",
       "1753    1494     12          72       431              33     16.0  surf   \n",
       "1754    1496      8          18       122               2      9.0  surf   \n",
       "1755    1496      9          52       414              21     17.0  surf   \n",
       "1756    1496     10          46       317              18     15.0  surf   \n",
       "1757    1496     11          39       308              13      9.0  surf   \n",
       "1758    1496     12          40       294              11     17.0  surf   \n",
       "\n",
       "      msg_included  gb_included  min_included  monthly_fee  fee_per_gb  \\\n",
       "1751            50           15           500           20          10   \n",
       "1752            50           15           500           20          10   \n",
       "1753            50           15           500           20          10   \n",
       "1754            50           15           500           20          10   \n",
       "1755            50           15           500           20          10   \n",
       "1756            50           15           500           20          10   \n",
       "1757            50           15           500           20          10   \n",
       "1758            50           15           500           20          10   \n",
       "\n",
       "      fee_per_msg  fee_per_min  \n",
       "1751         0.03         0.03  \n",
       "1752         0.03         0.03  \n",
       "1753         0.03         0.03  \n",
       "1754         0.03         0.03  \n",
       "1755         0.03         0.03  \n",
       "1756         0.03         0.03  \n",
       "1757         0.03         0.03  \n",
       "1758         0.03         0.03  "
      ]
     },
     "metadata": {},
     "output_type": "display_data"
    }
   ],
   "source": [
    "# Megaline rounds up the internet gb_used at the end of each month.\n",
    "merged_revenue['gb_used'] = np.ceil(merged_revenue['gb_used'])\n",
    "display(merged_revenue.tail(8))"
   ]
  },
  {
   "cell_type": "code",
   "execution_count": 3173,
   "id": "fff611ea-c871-454e-b956-5e2420af731c",
   "metadata": {},
   "outputs": [
    {
     "data": {
      "text/html": [
       "<div style='color: hotpink;'><b>Create a function for monthly revenue for each user:</b></div>"
      ],
      "text/plain": [
       "<IPython.core.display.HTML object>"
      ]
     },
     "metadata": {},
     "output_type": "display_data"
    }
   ],
   "source": [
    "show_html_output(f\"Create a function for monthly revenue for each user:\")"
   ]
  },
  {
   "cell_type": "code",
   "execution_count": 3174,
   "id": "2b776c7d-31d5-451c-b43e-1f666624dfab",
   "metadata": {},
   "outputs": [],
   "source": [
    "# Create a function that accepts the plan name\n",
    "# Separate surf plan from ultimate plan\n",
    "def calculate_revenue(row):\n",
    "    if row['plan'] == 'surf':\n",
    "        min = 0 if row['duration'] <= 500 else (row['duration'] - 500) * .03\n",
    "        msg = 0 if row['Total_messages'] <= 50 else (row['Total_messages'] - 50) * .03\n",
    "        gb = 0 if row['gb_used'] <= 15 else (row['gb_used'] - 15) * 10\n",
    "        return 20 + min + msg + gb\n",
    "    else:\n",
    "        min = 0 if row['duration'] <= 3000 else (row['duration'] - 3000) * .01\n",
    "        msg = 0 if row['Total_messages'] <= 1000 else (row['Total_messages'] - 1000) * .01\n",
    "        gb = 0 if row['gb_used'] <= 30 else (row['gb_used'] - 30) * 7\n",
    "        return 70 + min + msg + gb"
   ]
  },
  {
   "cell_type": "code",
   "execution_count": 3175,
   "id": "8f00c786-2bc8-4640-b107-4df9933a7b05",
   "metadata": {},
   "outputs": [
    {
     "data": {
      "text/html": [
       "<div style='color: hotpink;'><b>Call the function</b></div>"
      ],
      "text/plain": [
       "<IPython.core.display.HTML object>"
      ]
     },
     "metadata": {},
     "output_type": "display_data"
    }
   ],
   "source": [
    "show_html_output(f\"Call the function\")"
   ]
  },
  {
   "cell_type": "code",
   "execution_count": 3176,
   "id": "014605a4-e629-448d-8b8a-c0248ee83081",
   "metadata": {},
   "outputs": [
    {
     "data": {
      "text/html": [
       "<div>\n",
       "<style scoped>\n",
       "    .dataframe tbody tr th:only-of-type {\n",
       "        vertical-align: middle;\n",
       "    }\n",
       "\n",
       "    .dataframe tbody tr th {\n",
       "        vertical-align: top;\n",
       "    }\n",
       "\n",
       "    .dataframe thead th {\n",
       "        text-align: right;\n",
       "    }\n",
       "</style>\n",
       "<table border=\"1\" class=\"dataframe\">\n",
       "  <thead>\n",
       "    <tr style=\"text-align: right;\">\n",
       "      <th></th>\n",
       "      <th>user_id</th>\n",
       "      <th>month</th>\n",
       "      <th>call_count</th>\n",
       "      <th>duration</th>\n",
       "      <th>Total_messages</th>\n",
       "      <th>gb_used</th>\n",
       "      <th>plan</th>\n",
       "      <th>msg_included</th>\n",
       "      <th>gb_included</th>\n",
       "      <th>min_included</th>\n",
       "      <th>monthly_fee</th>\n",
       "      <th>fee_per_gb</th>\n",
       "      <th>fee_per_msg</th>\n",
       "      <th>fee_per_min</th>\n",
       "      <th>total_revenue</th>\n",
       "    </tr>\n",
       "  </thead>\n",
       "  <tbody>\n",
       "    <tr>\n",
       "      <th>0</th>\n",
       "      <td>1000</td>\n",
       "      <td>12</td>\n",
       "      <td>16</td>\n",
       "      <td>124</td>\n",
       "      <td>11</td>\n",
       "      <td>2.0</td>\n",
       "      <td>ultimate</td>\n",
       "      <td>1000</td>\n",
       "      <td>30</td>\n",
       "      <td>3000</td>\n",
       "      <td>70</td>\n",
       "      <td>7</td>\n",
       "      <td>0.01</td>\n",
       "      <td>0.01</td>\n",
       "      <td>70.0</td>\n",
       "    </tr>\n",
       "    <tr>\n",
       "      <th>1</th>\n",
       "      <td>1006</td>\n",
       "      <td>11</td>\n",
       "      <td>2</td>\n",
       "      <td>10</td>\n",
       "      <td>15</td>\n",
       "      <td>3.0</td>\n",
       "      <td>ultimate</td>\n",
       "      <td>1000</td>\n",
       "      <td>30</td>\n",
       "      <td>3000</td>\n",
       "      <td>70</td>\n",
       "      <td>7</td>\n",
       "      <td>0.01</td>\n",
       "      <td>0.01</td>\n",
       "      <td>70.0</td>\n",
       "    </tr>\n",
       "    <tr>\n",
       "      <th>2</th>\n",
       "      <td>1006</td>\n",
       "      <td>12</td>\n",
       "      <td>9</td>\n",
       "      <td>59</td>\n",
       "      <td>139</td>\n",
       "      <td>33.0</td>\n",
       "      <td>ultimate</td>\n",
       "      <td>1000</td>\n",
       "      <td>30</td>\n",
       "      <td>3000</td>\n",
       "      <td>70</td>\n",
       "      <td>7</td>\n",
       "      <td>0.01</td>\n",
       "      <td>0.01</td>\n",
       "      <td>91.0</td>\n",
       "    </tr>\n",
       "    <tr>\n",
       "      <th>3</th>\n",
       "      <td>1008</td>\n",
       "      <td>10</td>\n",
       "      <td>71</td>\n",
       "      <td>476</td>\n",
       "      <td>21</td>\n",
       "      <td>18.0</td>\n",
       "      <td>ultimate</td>\n",
       "      <td>1000</td>\n",
       "      <td>30</td>\n",
       "      <td>3000</td>\n",
       "      <td>70</td>\n",
       "      <td>7</td>\n",
       "      <td>0.01</td>\n",
       "      <td>0.01</td>\n",
       "      <td>70.0</td>\n",
       "    </tr>\n",
       "    <tr>\n",
       "      <th>4</th>\n",
       "      <td>1008</td>\n",
       "      <td>11</td>\n",
       "      <td>63</td>\n",
       "      <td>446</td>\n",
       "      <td>37</td>\n",
       "      <td>24.0</td>\n",
       "      <td>ultimate</td>\n",
       "      <td>1000</td>\n",
       "      <td>30</td>\n",
       "      <td>3000</td>\n",
       "      <td>70</td>\n",
       "      <td>7</td>\n",
       "      <td>0.01</td>\n",
       "      <td>0.01</td>\n",
       "      <td>70.0</td>\n",
       "    </tr>\n",
       "  </tbody>\n",
       "</table>\n",
       "</div>"
      ],
      "text/plain": [
       "  user_id  month  call_count  duration  Total_messages  gb_used      plan  \\\n",
       "0    1000     12          16       124              11      2.0  ultimate   \n",
       "1    1006     11           2        10              15      3.0  ultimate   \n",
       "2    1006     12           9        59             139     33.0  ultimate   \n",
       "3    1008     10          71       476              21     18.0  ultimate   \n",
       "4    1008     11          63       446              37     24.0  ultimate   \n",
       "\n",
       "   msg_included  gb_included  min_included  monthly_fee  fee_per_gb  \\\n",
       "0          1000           30          3000           70           7   \n",
       "1          1000           30          3000           70           7   \n",
       "2          1000           30          3000           70           7   \n",
       "3          1000           30          3000           70           7   \n",
       "4          1000           30          3000           70           7   \n",
       "\n",
       "   fee_per_msg  fee_per_min  total_revenue  \n",
       "0         0.01         0.01           70.0  \n",
       "1         0.01         0.01           70.0  \n",
       "2         0.01         0.01           91.0  \n",
       "3         0.01         0.01           70.0  \n",
       "4         0.01         0.01           70.0  "
      ]
     },
     "metadata": {},
     "output_type": "display_data"
    }
   ],
   "source": [
    "# Apply the calculate_revenue function to each row in the merged dataframe, creating a new column\n",
    "merged_revenue['total_revenue'] = merged_revenue.apply(calculate_revenue, axis=1)\n",
    "display(merged_revenue.head(5))"
   ]
  },
  {
   "cell_type": "code",
   "execution_count": 3177,
   "id": "7df151f0-137b-4578-93e1-6d347181bb62",
   "metadata": {},
   "outputs": [
    {
     "name": "stdout",
     "output_type": "stream",
     "text": [
      "Number of NaN values in 'plan' column: 0\n"
     ]
    }
   ],
   "source": [
    "# Check for NaN values in the 'plan' column\n",
    "nan_count = merged_revenue['plan'].isna().sum()\n",
    "print(f\"Number of NaN values in 'plan' column: {nan_count}\")"
   ]
  },
  {
   "cell_type": "code",
   "execution_count": 3178,
   "id": "293fb885-4086-4421-b353-f456443b313b",
   "metadata": {},
   "outputs": [
    {
     "data": {
      "text/html": [
       "<div style='color: hotpink;'><b>The new column, 'total_revenue', shows up on the far right, if you scroll over.</b></div>"
      ],
      "text/plain": [
       "<IPython.core.display.HTML object>"
      ]
     },
     "metadata": {},
     "output_type": "display_data"
    }
   ],
   "source": [
    "show_html_output(f\"The new column, 'total_revenue', shows up on the far right, if you scroll over.\")"
   ]
  },
  {
   "cell_type": "code",
   "execution_count": 3179,
   "id": "37ed6173-3524-44b8-92a0-d6de7043e8f8",
   "metadata": {},
   "outputs": [
    {
     "data": {
      "text/html": [
       "<div>\n",
       "<style scoped>\n",
       "    .dataframe tbody tr th:only-of-type {\n",
       "        vertical-align: middle;\n",
       "    }\n",
       "\n",
       "    .dataframe tbody tr th {\n",
       "        vertical-align: top;\n",
       "    }\n",
       "\n",
       "    .dataframe thead th {\n",
       "        text-align: right;\n",
       "    }\n",
       "</style>\n",
       "<table border=\"1\" class=\"dataframe\">\n",
       "  <thead>\n",
       "    <tr style=\"text-align: right;\">\n",
       "      <th></th>\n",
       "      <th>user_id</th>\n",
       "      <th>month</th>\n",
       "      <th>total_revenue</th>\n",
       "    </tr>\n",
       "  </thead>\n",
       "  <tbody>\n",
       "    <tr>\n",
       "      <th>1544</th>\n",
       "      <td>1379</td>\n",
       "      <td>12</td>\n",
       "      <td>600.37</td>\n",
       "    </tr>\n",
       "    <tr>\n",
       "      <th>1138</th>\n",
       "      <td>1240</td>\n",
       "      <td>8</td>\n",
       "      <td>387.85</td>\n",
       "    </tr>\n",
       "    <tr>\n",
       "      <th>1140</th>\n",
       "      <td>1240</td>\n",
       "      <td>10</td>\n",
       "      <td>320.82</td>\n",
       "    </tr>\n",
       "    <tr>\n",
       "      <th>1142</th>\n",
       "      <td>1240</td>\n",
       "      <td>12</td>\n",
       "      <td>308.57</td>\n",
       "    </tr>\n",
       "    <tr>\n",
       "      <th>1252</th>\n",
       "      <td>1272</td>\n",
       "      <td>12</td>\n",
       "      <td>294.14</td>\n",
       "    </tr>\n",
       "    <tr>\n",
       "      <th>1239</th>\n",
       "      <td>1267</td>\n",
       "      <td>12</td>\n",
       "      <td>282.55</td>\n",
       "    </tr>\n",
       "    <tr>\n",
       "      <th>1680</th>\n",
       "      <td>1447</td>\n",
       "      <td>11</td>\n",
       "      <td>280.54</td>\n",
       "    </tr>\n",
       "    <tr>\n",
       "      <th>1293</th>\n",
       "      <td>1293</td>\n",
       "      <td>10</td>\n",
       "      <td>273.51</td>\n",
       "    </tr>\n",
       "    <tr>\n",
       "      <th>1244</th>\n",
       "      <td>1268</td>\n",
       "      <td>7</td>\n",
       "      <td>260.63</td>\n",
       "    </tr>\n",
       "    <tr>\n",
       "      <th>1063</th>\n",
       "      <td>1201</td>\n",
       "      <td>11</td>\n",
       "      <td>260.00</td>\n",
       "    </tr>\n",
       "    <tr>\n",
       "      <th>1394</th>\n",
       "      <td>1328</td>\n",
       "      <td>7</td>\n",
       "      <td>255.51</td>\n",
       "    </tr>\n",
       "    <tr>\n",
       "      <th>599</th>\n",
       "      <td>1007</td>\n",
       "      <td>10</td>\n",
       "      <td>254.62</td>\n",
       "    </tr>\n",
       "    <tr>\n",
       "      <th>1681</th>\n",
       "      <td>1447</td>\n",
       "      <td>12</td>\n",
       "      <td>253.39</td>\n",
       "    </tr>\n",
       "    <tr>\n",
       "      <th>1532</th>\n",
       "      <td>1374</td>\n",
       "      <td>8</td>\n",
       "      <td>250.63</td>\n",
       "    </tr>\n",
       "    <tr>\n",
       "      <th>1243</th>\n",
       "      <td>1268</td>\n",
       "      <td>6</td>\n",
       "      <td>250.00</td>\n",
       "    </tr>\n",
       "  </tbody>\n",
       "</table>\n",
       "</div>"
      ],
      "text/plain": [
       "     user_id  month  total_revenue\n",
       "1544    1379     12         600.37\n",
       "1138    1240      8         387.85\n",
       "1140    1240     10         320.82\n",
       "1142    1240     12         308.57\n",
       "1252    1272     12         294.14\n",
       "1239    1267     12         282.55\n",
       "1680    1447     11         280.54\n",
       "1293    1293     10         273.51\n",
       "1244    1268      7         260.63\n",
       "1063    1201     11         260.00\n",
       "1394    1328      7         255.51\n",
       "599     1007     10         254.62\n",
       "1681    1447     12         253.39\n",
       "1532    1374      8         250.63\n",
       "1243    1268      6         250.00"
      ]
     },
     "metadata": {},
     "output_type": "display_data"
    }
   ],
   "source": [
    "# Select only these columns user_id, month, total_revenue\n",
    "filtered_revenue = merged_revenue[['user_id', 'month', 'total_revenue']]\n",
    "\n",
    "# Sort by 'total_revenue' and 'user_id'\n",
    "sorted_revenue = filtered_revenue.sort_values(by=['total_revenue', 'user_id'],ascending=False)\n",
    "\n",
    "# Display the result\n",
    "display(sorted_revenue.head(15))\n",
    "#print(sorted_revenue.sample(5))"
   ]
  },
  {
   "cell_type": "markdown",
   "id": "60f8c482-4b66-445d-9a15-765ba1a4694b",
   "metadata": {},
   "source": [
    "<div class=\"alert alert-info\"><font color='hotpink'>\n",
    "<b>To aggregate data per user: </b>\n",
    "<br>\n",
    "<br>\n",
    "- To find the number of calls made by each user, per month: \n",
    "<br>&nbsp;&nbsp;&nbsp;&nbsp;I used dt.month to extract the month from the call_date column, in the calls dataframe, then create a new column called month.\n",
    "<br>&nbsp;&nbsp;&nbsp;&nbsp;I grouped by 'user_id' and 'month', used the .size function, and created a new column called 'call_count' to hold the size.\n",
    "<br>\n",
    "<br>\n",
    "- To find the total duration of minutes by each user, per month:\n",
    "<br>&nbsp;&nbsp;&nbsp;&nbsp;I grouped 'user_id' and 'month', in the calls dataframe, and summed the duration of minutes, to hold the sum.\n",
    "<br>\n",
    "<br>\n",
    "- To find the number of messages sent by each user, per month:\n",
    "<br>&nbsp;&nbsp;&nbsp;&nbsp;I used dt.month to create a new column, called 'month', in the messages dataframe.\n",
    "<br>&nbsp;&nbsp;&nbsp;&nbsp;I grouped by 'user_id' and 'month', and created a new column, 'Total_messages'  to store the count of messages for each group\n",
    "\n",
    "<br>\n",
    "<br>\n",
    "- To get the volume of internet traffic used by each user, per month:\n",
    "<br>&nbsp;&nbsp;&nbsp;&nbsp;I used dt.month to create a new column, called 'month', in the internet dataframe.\n",
    "<br>\n",
    "<br>\n",
    "- To get the revenue per user, per month:\n",
    "<br>&nbsp;&nbsp;&nbsp;&nbsp;I sorted the internet dataframe, by 'user_id' and 'month', and used .sum method on 'gb_used' to get the total of GB.\n",
    "<br>&nbsp;&nbsp;&nbsp;&nbsp;I merged 4 dataframes, so that all the data would be in one dataframe, and easier to query.\n",
    "<br>&nbsp;&nbsp;&nbsp;&nbsp;I rounded up the gb_used column, because Megaline rounds up the gb_used at the end of the month.\n",
    "<br>&nbsp;&nbsp;&nbsp;&nbsp;I created a function to calculate monthly revenue, based on which of the two plans the user was signed up for.\n",
    "<br>&nbsp;&nbsp;&nbsp;&nbsp;I called the function, using apply method, and axis=1, to send each row of the merged_revenue dataframe.\n",
    "<br>&nbsp;&nbsp;&nbsp;&nbsp;I then created a new dataframe, called filtered_dataframe, that only had these columns user_id, month, total_revenue , and printed that out.\n",
    "<br>&nbsp;&nbsp;&nbsp;&nbsp;I sorted that filtered_dataframe, in descending order, sorting by total_revenue', and 'user_id' to print out the higest revenues at the top of the printout.\n",
    "</font color></div>"
   ]
  },
  {
   "cell_type": "code",
   "execution_count": null,
   "id": "e4cb1480-73a9-4b45-ae08-d6471cd91e6c",
   "metadata": {},
   "outputs": [],
   "source": []
  },
  {
   "cell_type": "markdown",
   "id": "d2100957-f685-4100-8452-7b58caf034b8",
   "metadata": {},
   "source": [
    " <h2 style=\"color: red;\">Study user behavior</h2>"
   ]
  },
  {
   "cell_type": "markdown",
   "id": "349d60ff-84b5-40c8-acd7-f187b95ca5cc",
   "metadata": {},
   "source": [
    "### <span style=\"color: hotpink;\">Calls</span>"
   ]
  },
  {
   "cell_type": "code",
   "execution_count": 3183,
   "id": "1017da59-31ca-4da5-bcba-9fe4206e5717",
   "metadata": {},
   "outputs": [
    {
     "data": {
      "text/html": [
       "<div style='color: hotpink;'><b>Compare the average duration of calls, per each plan, per each month.</b></div>"
      ],
      "text/plain": [
       "<IPython.core.display.HTML object>"
      ]
     },
     "metadata": {},
     "output_type": "display_data"
    }
   ],
   "source": [
    "show_html_output(f\"Compare the average duration of calls, per each plan, per each month.\")"
   ]
  },
  {
   "cell_type": "code",
   "execution_count": 3184,
   "id": "fd94dc5b-512f-47bd-af3c-0e765afb8948",
   "metadata": {},
   "outputs": [
    {
     "name": "stdout",
     "output_type": "stream",
     "text": [
      "    month      plan    duration\n",
      "0       1      surf  292.000000\n",
      "1       1  ultimate  197.666667\n",
      "2       2      surf  331.200000\n",
      "3       2  ultimate  486.800000\n",
      "4       3      surf  344.937500\n",
      "5       3  ultimate  415.285714\n",
      "6       4      surf  366.228571\n",
      "7       4  ultimate  322.750000\n",
      "8       5      surf  443.981132\n",
      "9       5  ultimate  410.190476\n",
      "10      6      surf  425.514286\n",
      "11      6  ultimate  370.918919\n",
      "12      7      surf  452.101124\n",
      "13      7  ultimate  439.638298\n",
      "14      8      surf  427.873950\n",
      "15      8  ultimate  436.438596\n",
      "16      9      surf  426.020408\n",
      "17      9  ultimate  437.591549\n",
      "18     10      surf  442.348066\n",
      "19     10  ultimate  465.034091\n",
      "20     11      surf  443.954128\n",
      "21     11  ultimate  464.068627\n",
      "22     12      surf  495.069106\n",
      "23     12  ultimate  463.296000\n"
     ]
    }
   ],
   "source": [
    "# Group by 'month' and 'plan', and calculate the average duration\n",
    "calls_avg_duration = merged_revenue.groupby(['month', 'plan'])['duration'].mean().reset_index()\n",
    "print(calls_avg_duration)"
   ]
  },
  {
   "cell_type": "code",
   "execution_count": 3185,
   "id": "75e91a4d-43f6-4011-ac3b-3e8359b7b863",
   "metadata": {},
   "outputs": [
    {
     "data": {
      "text/html": [
       "<div>\n",
       "<style scoped>\n",
       "    .dataframe tbody tr th:only-of-type {\n",
       "        vertical-align: middle;\n",
       "    }\n",
       "\n",
       "    .dataframe tbody tr th {\n",
       "        vertical-align: top;\n",
       "    }\n",
       "\n",
       "    .dataframe thead th {\n",
       "        text-align: right;\n",
       "    }\n",
       "</style>\n",
       "<table border=\"1\" class=\"dataframe\">\n",
       "  <thead>\n",
       "    <tr style=\"text-align: right;\">\n",
       "      <th></th>\n",
       "      <th>month</th>\n",
       "      <th>plan</th>\n",
       "      <th>duration</th>\n",
       "      <th>month_abbr</th>\n",
       "    </tr>\n",
       "  </thead>\n",
       "  <tbody>\n",
       "    <tr>\n",
       "      <th>0</th>\n",
       "      <td>1</td>\n",
       "      <td>surf</td>\n",
       "      <td>292.000000</td>\n",
       "      <td>Jan</td>\n",
       "    </tr>\n",
       "    <tr>\n",
       "      <th>1</th>\n",
       "      <td>1</td>\n",
       "      <td>ultimate</td>\n",
       "      <td>197.666667</td>\n",
       "      <td>Jan</td>\n",
       "    </tr>\n",
       "    <tr>\n",
       "      <th>2</th>\n",
       "      <td>2</td>\n",
       "      <td>surf</td>\n",
       "      <td>331.200000</td>\n",
       "      <td>Feb</td>\n",
       "    </tr>\n",
       "    <tr>\n",
       "      <th>3</th>\n",
       "      <td>2</td>\n",
       "      <td>ultimate</td>\n",
       "      <td>486.800000</td>\n",
       "      <td>Feb</td>\n",
       "    </tr>\n",
       "    <tr>\n",
       "      <th>4</th>\n",
       "      <td>3</td>\n",
       "      <td>surf</td>\n",
       "      <td>344.937500</td>\n",
       "      <td>Mar</td>\n",
       "    </tr>\n",
       "    <tr>\n",
       "      <th>5</th>\n",
       "      <td>3</td>\n",
       "      <td>ultimate</td>\n",
       "      <td>415.285714</td>\n",
       "      <td>Mar</td>\n",
       "    </tr>\n",
       "    <tr>\n",
       "      <th>6</th>\n",
       "      <td>4</td>\n",
       "      <td>surf</td>\n",
       "      <td>366.228571</td>\n",
       "      <td>Apr</td>\n",
       "    </tr>\n",
       "    <tr>\n",
       "      <th>7</th>\n",
       "      <td>4</td>\n",
       "      <td>ultimate</td>\n",
       "      <td>322.750000</td>\n",
       "      <td>Apr</td>\n",
       "    </tr>\n",
       "    <tr>\n",
       "      <th>8</th>\n",
       "      <td>5</td>\n",
       "      <td>surf</td>\n",
       "      <td>443.981132</td>\n",
       "      <td>May</td>\n",
       "    </tr>\n",
       "    <tr>\n",
       "      <th>9</th>\n",
       "      <td>5</td>\n",
       "      <td>ultimate</td>\n",
       "      <td>410.190476</td>\n",
       "      <td>May</td>\n",
       "    </tr>\n",
       "    <tr>\n",
       "      <th>11</th>\n",
       "      <td>6</td>\n",
       "      <td>ultimate</td>\n",
       "      <td>370.918919</td>\n",
       "      <td>Jun</td>\n",
       "    </tr>\n",
       "    <tr>\n",
       "      <th>10</th>\n",
       "      <td>6</td>\n",
       "      <td>surf</td>\n",
       "      <td>425.514286</td>\n",
       "      <td>Jun</td>\n",
       "    </tr>\n",
       "    <tr>\n",
       "      <th>12</th>\n",
       "      <td>7</td>\n",
       "      <td>surf</td>\n",
       "      <td>452.101124</td>\n",
       "      <td>Jul</td>\n",
       "    </tr>\n",
       "    <tr>\n",
       "      <th>13</th>\n",
       "      <td>7</td>\n",
       "      <td>ultimate</td>\n",
       "      <td>439.638298</td>\n",
       "      <td>Jul</td>\n",
       "    </tr>\n",
       "    <tr>\n",
       "      <th>14</th>\n",
       "      <td>8</td>\n",
       "      <td>surf</td>\n",
       "      <td>427.873950</td>\n",
       "      <td>Aug</td>\n",
       "    </tr>\n",
       "    <tr>\n",
       "      <th>15</th>\n",
       "      <td>8</td>\n",
       "      <td>ultimate</td>\n",
       "      <td>436.438596</td>\n",
       "      <td>Aug</td>\n",
       "    </tr>\n",
       "    <tr>\n",
       "      <th>16</th>\n",
       "      <td>9</td>\n",
       "      <td>surf</td>\n",
       "      <td>426.020408</td>\n",
       "      <td>Sep</td>\n",
       "    </tr>\n",
       "    <tr>\n",
       "      <th>17</th>\n",
       "      <td>9</td>\n",
       "      <td>ultimate</td>\n",
       "      <td>437.591549</td>\n",
       "      <td>Sep</td>\n",
       "    </tr>\n",
       "    <tr>\n",
       "      <th>18</th>\n",
       "      <td>10</td>\n",
       "      <td>surf</td>\n",
       "      <td>442.348066</td>\n",
       "      <td>Oct</td>\n",
       "    </tr>\n",
       "    <tr>\n",
       "      <th>19</th>\n",
       "      <td>10</td>\n",
       "      <td>ultimate</td>\n",
       "      <td>465.034091</td>\n",
       "      <td>Oct</td>\n",
       "    </tr>\n",
       "    <tr>\n",
       "      <th>20</th>\n",
       "      <td>11</td>\n",
       "      <td>surf</td>\n",
       "      <td>443.954128</td>\n",
       "      <td>Nov</td>\n",
       "    </tr>\n",
       "    <tr>\n",
       "      <th>21</th>\n",
       "      <td>11</td>\n",
       "      <td>ultimate</td>\n",
       "      <td>464.068627</td>\n",
       "      <td>Nov</td>\n",
       "    </tr>\n",
       "    <tr>\n",
       "      <th>22</th>\n",
       "      <td>12</td>\n",
       "      <td>surf</td>\n",
       "      <td>495.069106</td>\n",
       "      <td>Dec</td>\n",
       "    </tr>\n",
       "    <tr>\n",
       "      <th>23</th>\n",
       "      <td>12</td>\n",
       "      <td>ultimate</td>\n",
       "      <td>463.296000</td>\n",
       "      <td>Dec</td>\n",
       "    </tr>\n",
       "  </tbody>\n",
       "</table>\n",
       "</div>"
      ],
      "text/plain": [
       "    month      plan    duration month_abbr\n",
       "0       1      surf  292.000000        Jan\n",
       "1       1  ultimate  197.666667        Jan\n",
       "2       2      surf  331.200000        Feb\n",
       "3       2  ultimate  486.800000        Feb\n",
       "4       3      surf  344.937500        Mar\n",
       "5       3  ultimate  415.285714        Mar\n",
       "6       4      surf  366.228571        Apr\n",
       "7       4  ultimate  322.750000        Apr\n",
       "8       5      surf  443.981132        May\n",
       "9       5  ultimate  410.190476        May\n",
       "11      6  ultimate  370.918919        Jun\n",
       "10      6      surf  425.514286        Jun\n",
       "12      7      surf  452.101124        Jul\n",
       "13      7  ultimate  439.638298        Jul\n",
       "14      8      surf  427.873950        Aug\n",
       "15      8  ultimate  436.438596        Aug\n",
       "16      9      surf  426.020408        Sep\n",
       "17      9  ultimate  437.591549        Sep\n",
       "18     10      surf  442.348066        Oct\n",
       "19     10  ultimate  465.034091        Oct\n",
       "20     11      surf  443.954128        Nov\n",
       "21     11  ultimate  464.068627        Nov\n",
       "22     12      surf  495.069106        Dec\n",
       "23     12  ultimate  463.296000        Dec"
      ]
     },
     "metadata": {},
     "output_type": "display_data"
    }
   ],
   "source": [
    "# Convert numeric month to abbreviated month name\n",
    "calls_avg_duration['month_abbr'] = calls_avg_duration['month'].apply(lambda x: calendar.month_abbr[x])\n",
    "calls_avg_duration = calls_avg_duration.sort_values(by='month')\n",
    "display(calls_avg_duration)"
   ]
  },
  {
   "cell_type": "code",
   "execution_count": 3186,
   "id": "6fa5af79-db91-4496-b973-474547c9d74e",
   "metadata": {},
   "outputs": [
    {
     "data": {
      "text/html": [
       "<div style='color: hotpink;'><b>Plot a bar plot to visualize it.</b></div>"
      ],
      "text/plain": [
       "<IPython.core.display.HTML object>"
      ]
     },
     "metadata": {},
     "output_type": "display_data"
    }
   ],
   "source": [
    "show_html_output(f\"Plot a bar plot to visualize it.\")"
   ]
  },
  {
   "cell_type": "code",
   "execution_count": 3187,
   "id": "1d366075-b852-4e64-a0f6-7a3206923c7f",
   "metadata": {},
   "outputs": [
    {
     "name": "stdout",
     "output_type": "stream",
     "text": [
      "<class 'pandas.core.frame.DataFrame'>\n",
      "Index: 24 entries, 0 to 23\n",
      "Data columns (total 4 columns):\n",
      " #   Column      Non-Null Count  Dtype   \n",
      "---  ------      --------------  -----   \n",
      " 0   month       24 non-null     int32   \n",
      " 1   plan        24 non-null     object  \n",
      " 2   duration    24 non-null     float64 \n",
      " 3   month_abbr  24 non-null     category\n",
      "dtypes: category(1), float64(1), int32(1), object(1)\n",
      "memory usage: 1.1+ KB\n"
     ]
    }
   ],
   "source": [
    "#Make month_abbr categorical\n",
    "month_order = ['Jan', 'Feb', 'Mar', 'Apr', 'May', 'Jun', 'Jul', 'Aug', 'Sep', 'Oct', 'Nov', 'Dec']\n",
    "calls_avg_duration['month_abbr'] = pd.Categorical(calls_avg_duration['month_abbr'], categories=month_order, ordered=True)\n",
    "calls_avg_duration.info()"
   ]
  },
  {
   "cell_type": "code",
   "execution_count": 3188,
   "id": "906db06a-8b09-4615-9444-bed4373cc27c",
   "metadata": {},
   "outputs": [
    {
     "name": "stdout",
     "output_type": "stream",
     "text": [
      "plan              surf    ultimate\n",
      "month_abbr                        \n",
      "Jan         292.000000  197.666667\n",
      "Feb         331.200000  486.800000\n",
      "Mar         344.937500  415.285714\n",
      "Apr         366.228571  322.750000\n",
      "May         443.981132  410.190476\n",
      "Jun         425.514286  370.918919\n",
      "Jul         452.101124  439.638298\n",
      "Aug         427.873950  436.438596\n",
      "Sep         426.020408  437.591549\n",
      "Oct         442.348066  465.034091\n",
      "Nov         443.954128  464.068627\n",
      "Dec         495.069106  463.296000\n"
     ]
    }
   ],
   "source": [
    "# Pivot the dataframe for easier plotting\n",
    "pivot_df = calls_avg_duration.pivot(index='month_abbr', columns='plan', values='duration')\n",
    "print(pivot_df)"
   ]
  },
  {
   "cell_type": "code",
   "execution_count": 3189,
   "id": "aec32e51-006d-41f5-84d5-f827fa7f63b7",
   "metadata": {},
   "outputs": [
    {
     "data": {
      "image/png": "[encoded data removed]",
      "text/plain": [
       "<Figure size 1200x700 with 1 Axes>"
      ]
     },
     "metadata": {},
     "output_type": "display_data"
    }
   ],
   "source": [
    "# Plot graph\n",
    "fig, ax = plt.subplots(figsize=(12, 7))\n",
    "\n",
    "# Define a list of hex colors\n",
    "colors = ['#3CB371','#4682B4']\n",
    "\n",
    "ax = pivot_df.plot(kind='bar', ax=ax, color=colors)\n",
    "\n",
    "plt.xlabel(\"Month\", size=16)\n",
    "plt.ylabel(\"Average Duration\", size=16)\n",
    "plt.title(\"Average Duration of Calls Per Plan\", size = 24)\n",
    "\n",
    "#Rotate the x labels\n",
    "plt.xticks(rotation=45)\n",
    "\n",
    "# Adjust legend to be just outside the upper left of the plot area\n",
    "plt.legend(title='Plan', bbox_to_anchor=(-0.18, 1), loc='upper left', borderaxespad=0.)\n",
    "\n",
    "#plt.tight_layout()\n",
    "plt.show()"
   ]
  },
  {
   "cell_type": "markdown",
   "id": "cff64a2b-bd7c-4366-a037-2097e3969267",
   "metadata": {},
   "source": [
    "<div class=\"alert alert-info\"><font color='hotpink'>\n",
    "<b>To compare the average duration of calls, per each plan, per each month: </b>\n",
    "<br>\n",
    "- I grouped the merged_revenue dataframe, by 'month' and 'plan', and used the .mean method to get the average duration.\n",
    "<br>\n",
    "- I converted the number of month (1, 2, 3, etc) to abbreviated month names (Dec., Jan., Feb., etc), using the .calendar method, and created a new month_abbr column.\n",
    "<br>\n",
    "- I imported calendar, adding that up above, at the top of the project.\n",
    "<br>\n",
    "- I created a list of abbreviated month names in the correct chronological order, from January to December.\n",
    "<br>\n",
    "- I used the Categorical method to take that list to convert month_abbr to a categorical type. \n",
    "<br>\n",
    "- I pivoted the calls_avg_duration dataframe to make it easier to plot on to a graph.\n",
    "<br>\n",
    "<br>\n",
    "<b>To create the bar plot, to compare this data:: </b>\n",
    "<br>\n",
    "- I imported pyplot and added that to the top of the project, up above.\n",
    "<br>\n",
    "- I used figsize to make the graph a little larger, because the legend was displaying on top of some of the bars.\n",
    "<br>\n",
    "- I created some custom hex colors, then used those colors for the graph, using the 'color' parameter.\n",
    "<br>\n",
    "- I increased the size of the font for the labels and the title.\n",
    "<br>\n",
    "- I rotated the xlabels using xticks.\n",
    "<br>\n",
    "- I used legend to customize the legend, to make the legend title uppercase. I used bbox_to_anchor to make the legend appear on the left.\n",
    "</font color></div>"
   ]
  },
  {
   "cell_type": "code",
   "execution_count": 3345,
   "id": "e0cb700b-64f3-4c9c-9818-3ee688bf7485",
   "metadata": {},
   "outputs": [
    {
     "data": {
      "text/html": [
       "<div style='color: hotpink;'><b>Compare the number of minutes, users of each plan require, each month.</b></div>"
      ],
      "text/plain": [
       "<IPython.core.display.HTML object>"
      ]
     },
     "metadata": {},
     "output_type": "display_data"
    }
   ],
   "source": [
    "show_html_output(f\"Compare the number of minutes, users of each plan require, each month.\")"
   ]
  },
  {
   "cell_type": "code",
   "execution_count": 3347,
   "id": "0d063857-2d42-450f-86ea-0845837c1153",
   "metadata": {},
   "outputs": [
    {
     "name": "stdout",
     "output_type": "stream",
     "text": [
      "      month      plan  user_id  duration\n",
      "0         1      surf     1362       292\n",
      "1         1  ultimate     1077       290\n",
      "2         1  ultimate     1196       287\n",
      "3         1  ultimate     1214        16\n",
      "4         2      surf     1099        39\n",
      "...     ...       ...      ...       ...\n",
      "1754     12  ultimate     1477       289\n",
      "1755     12  ultimate     1478       376\n",
      "1756     12  ultimate     1482        56\n",
      "1757     12  ultimate     1487       416\n",
      "1758     12  ultimate     1497       300\n",
      "\n",
      "[1759 rows x 4 columns]\n"
     ]
    }
   ],
   "source": [
    "# Groupby 'month', 'plan', 'user_id' and get total of minutes of calls.\n",
    "calls_sum_duration = merged_revenue.groupby(['month', 'plan', 'user_id'])['duration'].sum().reset_index()\n",
    "print(calls_sum_duration) "
   ]
  },
  {
   "cell_type": "code",
   "execution_count": 3351,
   "id": "fe502ead-5171-44cd-b157-8544d54e49b1",
   "metadata": {},
   "outputs": [
    {
     "data": {
      "text/plain": [
       "Index(['month', 'plan', 'user_id', 'duration'], dtype='object')"
      ]
     },
     "execution_count": 3351,
     "metadata": {},
     "output_type": "execute_result"
    }
   ],
   "source": [
    "calls_sum_duration.columns\n"
   ]
  },
  {
   "cell_type": "code",
   "execution_count": 3367,
   "id": "43430ffc-0026-4600-bdd3-7beee6831407",
   "metadata": {},
   "outputs": [],
   "source": [
    "# Convert numeric month to abbreviated month names\n",
    "calls_sum_duration['month_abbr'] = calls_sum_duration['month'].apply(lambda x: pd.to_datetime(f'2023-{x:02d}-01').strftime('%b'))"
   ]
  },
  {
   "cell_type": "code",
   "execution_count": 3371,
   "id": "a87ef676-972f-4e89-ab1a-d7017368da2a",
   "metadata": {},
   "outputs": [
    {
     "name": "stdout",
     "output_type": "stream",
     "text": [
      "  month_abbr      plan  total_duration\n",
      "0        Apr      surf           12818\n",
      "1        Apr  ultimate            5164\n",
      "2        Aug      surf           50917\n",
      "3        Aug  ultimate           24877\n",
      "4        Dec      surf          121787\n",
      "5        Dec  ultimate           57912\n",
      "6        Feb      surf            1656\n",
      "7        Feb  ultimate            2434\n"
     ]
    }
   ],
   "source": [
    "# Now group by 'month_abbr' and 'plan' to get the total duration per plan per month\n",
    "month_plan_summary = calls_sum_duration.groupby(['month_abbr', 'plan'])['duration'].sum().reset_index(name='total_duration')\n",
    "print(month_plan_summary.head(8))"
   ]
  },
  {
   "cell_type": "code",
   "execution_count": 3359,
   "id": "d75d227c-0d89-42c1-bbe7-3aa2ee60a6fb",
   "metadata": {},
   "outputs": [],
   "source": [
    "# Make sure the 'month_abbr' column is treated as a categorical type with the correct order\n",
    "month_order = ['Jan', 'Feb', 'Mar', 'Apr', 'May', 'Jun', 'Jul', 'Aug', 'Sep', 'Oct', 'Nov', 'Dec']\n",
    "month_plan_summary['month_abbr'] = pd.Categorical(month_plan_summary['month_abbr'], categories=month_order, ordered=True)"
   ]
  },
  {
   "cell_type": "code",
   "execution_count": 3363,
   "id": "f891a2e4-a866-4acd-b41c-873afdc259aa",
   "metadata": {},
   "outputs": [
    {
     "name": "stderr",
     "output_type": "stream",
     "text": [
      "/Users/wranglerdeb/anaconda3/lib/python3.11/site-packages/seaborn/categorical.py:641: FutureWarning: The default of observed=False is deprecated and will be changed to True in a future version of pandas. Pass observed=False to retain current behavior or observed=True to adopt the future default and silence this warning.\n",
      "  grouped_vals = vals.groupby(grouper)\n",
      "/Users/wranglerdeb/anaconda3/lib/python3.11/site-packages/seaborn/categorical.py:641: FutureWarning: The default of observed=False is deprecated and will be changed to True in a future version of pandas. Pass observed=False to retain current behavior or observed=True to adopt the future default and silence this warning.\n",
      "  grouped_vals = vals.groupby(grouper)\n"
     ]
    },
    {
     "data": {
      "image/png": "[encoded data removed]",
      "text/plain": [
       "<Figure size 1200x600 with 1 Axes>"
      ]
     },
     "metadata": {},
     "output_type": "display_data"
    }
   ],
   "source": [
    "# Plotting the grouped data\n",
    "plt.figure(figsize=(12, 6))\n",
    "\n",
    "sns.barplot(data=month_plan_summary, x='month_abbr', y='total_duration', hue='plan', palette='Set2')\n",
    "\n",
    "# Set titles and labels\n",
    "plt.title('Monthly Usage Minutes per Plan', size=24)\n",
    "plt.xlabel('Month', size=16)\n",
    "plt.ylabel('Total Duration (Minutes)', size=16)\n",
    "\n",
    "plt.xticks(rotation=45)\n",
    "\n",
    "# Adjust the legend position\n",
    "plt.legend(title='Plan', loc='upper left')\n",
    "plt.tight_layout()\n",
    "\n",
    "plt.show()"
   ]
  },
  {
   "cell_type": "markdown",
   "id": "ef771738-ad19-42b9-a584-4d84526df75b",
   "metadata": {},
   "source": [
    "<div class=\"alert alert-info\"><font color='hotpink'>\n",
    "<b>To compare the number of minutes, users of each plan require, each month.: </b>\n",
    "<br>\n",
    "- &nbsp;&nbsp;&nbsp;&nbsp;I created a dataframe with these columns ...'month', 'plan', 'user_id' and got a total of minutes of calls, using the .sum method.\n",
    "<br>\n",
    "- &nbsp;&nbsp;&nbsp;&nbsp;I used to_datetime method to converts this string to a datetime object so that date methods can be applied.\n",
    "<br>\n",
    "- &nbsp;&nbsp;&nbsp;&nbsp;I grouped by 'month_abbr' and 'plan' which got rid of the user_id column\n",
    "<br>\n",
    "- &nbsp;&nbsp;&nbsp;&nbsp;I used Categorical method to make sure that the datatype for the 'month_abbr' column was category.\n",
    "<br>\n",
    "<br>\n",
    "<b>To plot this on a bar graph: </b>\n",
    "<br>\n",
    "- &nbsp;&nbsp;&nbsp;&nbsp;I used figsize to create a larger graph.\n",
    "<br>\n",
    "- I plotted the months on the x axis.\n",
    "<br>\n",
    "- I used the 'hue' parameter to add color to the 'plan' data, to separate the surf plan from the ultimate plan.\n",
    "<br>\n",
    "- I used kde=False so that the extra line graph will not appear on top of the bar graph.\n",
    "<br>\n",
    "- I used the rotation parameter, of xticks, to rotate the labels for the x axis.\n",
    "<br>\n",
    "- \n",
    "</font color></div>"
   ]
  },
  {
   "cell_type": "code",
   "execution_count": null,
   "id": "ef8d5489-dee2-4497-8b17-262cbe79f2fb",
   "metadata": {},
   "outputs": [],
   "source": []
  },
  {
   "cell_type": "code",
   "execution_count": null,
   "id": "0afbac9f-11c9-433d-acd0-f17d377f7658",
   "metadata": {},
   "outputs": [],
   "source": [
    "[Calculate the mean and the variable of the call duration to reason on whether users on the different plans have different behaviours for their calls.]"
   ]
  },
  {
   "cell_type": "code",
   "execution_count": null,
   "id": "2bdc4bf9-690f-4a61-8543-3f2c71c85681",
   "metadata": {},
   "outputs": [],
   "source": [
    "# Calculate the mean and the variance of the monthly call duration"
   ]
  },
  {
   "cell_type": "code",
   "execution_count": null,
   "id": "fdcc5080-5be8-42aa-832c-cb62580e1864",
   "metadata": {},
   "outputs": [],
   "source": [
    "# Plot a boxplot to visualize the distribution of the monthly call duration"
   ]
  },
  {
   "cell_type": "code",
   "execution_count": null,
   "id": "f27034ac-b392-4119-b5aa-a91e2f6e5a28",
   "metadata": {},
   "outputs": [],
   "source": [
    "[Formulate conclusions on how the users behave in terms of calling. Is their behaviour different between the plans?]"
   ]
  },
  {
   "cell_type": "code",
   "execution_count": null,
   "id": "868fced3-a4d0-4bd0-bffd-ff2dd0af774d",
   "metadata": {},
   "outputs": [],
   "source": []
  },
  {
   "cell_type": "markdown",
   "id": "47532951-da5f-4f7f-b79a-30cf7e375488",
   "metadata": {},
   "source": [
    "### Messages"
   ]
  },
  {
   "cell_type": "code",
   "execution_count": null,
   "id": "079b2f08-c29d-44c7-aa1d-e479dd68b7b9",
   "metadata": {},
   "outputs": [],
   "source": [
    "# Compare the number of messages users of each plan tend to send each month"
   ]
  },
  {
   "cell_type": "code",
   "execution_count": null,
   "id": "411d446d-a736-44d6-bef5-1e298269c475",
   "metadata": {},
   "outputs": [],
   "source": [
    "# Compare the amount of internet traffic consumed by users per plan"
   ]
  },
  {
   "cell_type": "code",
   "execution_count": null,
   "id": "87d7f597-6b7a-4e91-a2f8-8789b7ee3c18",
   "metadata": {},
   "outputs": [],
   "source": [
    "[Formulate conclusions on how the users behave in terms of messaging. Is their behaviour different between the plans?]"
   ]
  },
  {
   "cell_type": "code",
   "execution_count": null,
   "id": "f0261b91-7c3a-42e6-91d0-71f605f3d5cf",
   "metadata": {},
   "outputs": [],
   "source": []
  },
  {
   "cell_type": "markdown",
   "id": "4865767a-b5b0-44f0-aaab-63495c02d984",
   "metadata": {},
   "source": [
    "### Internet"
   ]
  },
  {
   "cell_type": "code",
   "execution_count": null,
   "id": "e17e465f-2c28-4d77-9390-950a16f297af",
   "metadata": {},
   "outputs": [],
   "source": []
  },
  {
   "cell_type": "code",
   "execution_count": null,
   "id": "e6344d13-f100-4da4-9bbc-71882f45e6b1",
   "metadata": {},
   "outputs": [],
   "source": []
  },
  {
   "cell_type": "code",
   "execution_count": null,
   "id": "3134f6cb-f449-451f-af5e-c694dcd98ba8",
   "metadata": {},
   "outputs": [],
   "source": [
    "[Formulate conclusions on how the users tend to consume the internet traffic? Is their behaviour different between the plans?]"
   ]
  },
  {
   "cell_type": "code",
   "execution_count": null,
   "id": "d7ecd21f-b35b-4827-971e-475a04372e3d",
   "metadata": {},
   "outputs": [],
   "source": []
  },
  {
   "cell_type": "markdown",
   "id": "18964ed7-278f-485a-9fc2-ba6b6bde162e",
   "metadata": {},
   "source": [
    "## Revenue"
   ]
  },
  {
   "cell_type": "code",
   "execution_count": null,
   "id": "fe563d70-ab52-4222-8ecf-f900e0184a4c",
   "metadata": {},
   "outputs": [],
   "source": []
  },
  {
   "cell_type": "code",
   "execution_count": null,
   "id": "e312a6db-03c0-4e8f-bc46-3c9520c622e3",
   "metadata": {},
   "outputs": [],
   "source": [
    "[Likewise you have studied the user behaviour, statistically describe the revenue between the plans.]"
   ]
  },
  {
   "cell_type": "code",
   "execution_count": null,
   "id": "f487f785-2e22-4883-bdc8-3b101df47c35",
   "metadata": {},
   "outputs": [],
   "source": []
  },
  {
   "cell_type": "markdown",
   "id": "9c4cb5a8-cf5a-409d-990c-bdf7c8ec3b3c",
   "metadata": {},
   "source": [
    "## Test statistical hypotheses"
   ]
  },
  {
   "cell_type": "code",
   "execution_count": null,
   "id": "8ab97704-855f-4847-8a8b-8f3d598e23df",
   "metadata": {},
   "outputs": [],
   "source": [
    "[Test the hypothesis that the average revenue from users of the Ultimate and Surf calling plans differs.]\n",
    "\n",
    "[Formulate the null and the alternative hypotheses, choose the statistical test, decide on the alpha value.]"
   ]
  },
  {
   "cell_type": "code",
   "execution_count": null,
   "id": "07da195a-7808-4a86-8dcb-c2a37a6722f6",
   "metadata": {},
   "outputs": [],
   "source": []
  },
  {
   "cell_type": "markdown",
   "id": "951949d5-ef39-4bf0-847d-5403f0cfa8e4",
   "metadata": {},
   "source": [
    "# Test the hypotheses"
   ]
  },
  {
   "cell_type": "code",
   "execution_count": null,
   "id": "86930832-5269-462c-9e68-6f3631b3e4ec",
   "metadata": {},
   "outputs": [],
   "source": [
    "[Test the hypothesis that the average revenue from users in the NY-NJ area is different from that of the users from the other regions.]\n",
    "\n",
    "[Formulate the null and the alternative hypotheses, choose the statistical test, decide on the alpha value.]"
   ]
  },
  {
   "cell_type": "code",
   "execution_count": null,
   "id": "1a47cbf9-bd4a-4c46-aff5-7e9c9cac034b",
   "metadata": {},
   "outputs": [],
   "source": [
    "# Test the hypotheses"
   ]
  },
  {
   "cell_type": "code",
   "execution_count": null,
   "id": "d62b71ad-f449-4c58-b4e0-9d595256ecd8",
   "metadata": {},
   "outputs": [],
   "source": []
  },
  {
   "cell_type": "markdown",
   "id": "d3d86223-8423-454e-98fe-0e5e32cc2332",
   "metadata": {},
   "source": [
    "## General conclusion\n",
    "\n",
    "[List your important conclusions in this final section, make sure they cover all those important decisions (assumptions) that you've made and that led you to the way you processed and analyzed the data.]"
   ]
  },
  {
   "cell_type": "code",
   "execution_count": null,
   "id": "d9137ac7-43e8-4693-a634-ff282676676c",
   "metadata": {},
   "outputs": [],
   "source": []
  },
  {
   "cell_type": "code",
   "execution_count": null,
   "id": "bda9244b-526f-44b4-9763-80a57ebdc8c8",
   "metadata": {},
   "outputs": [],
   "source": []
  },
  {
   "cell_type": "code",
   "execution_count": null,
   "id": "f96d84ff-6a1e-4ca4-bce6-803bcac16acb",
   "metadata": {},
   "outputs": [],
   "source": []
  }
 ],
 "metadata": {
  "kernelspec": {
   "display_name": "Python 3 (ipykernel)",
   "language": "python",
   "name": "python3"
  },
  "language_info": {
   "codemirror_mode": {
    "name": "ipython",
    "version": 3
   },
   "file_extension": ".py",
   "mimetype": "text/x-python",
   "name": "python",
   "nbconvert_exporter": "python",
   "pygments_lexer": "ipython3",
   "version": "3.11.7"
  }
 },
 "nbformat": 4,
 "nbformat_minor": 5
}
